{
 "cells": [
  {
   "cell_type": "code",
   "execution_count": 1,
   "metadata": {},
   "outputs": [],
   "source": [
    "import sys\n",
    "sys.path.append(\"../\") "
   ]
  },
  {
   "cell_type": "code",
   "execution_count": 2,
   "metadata": {},
   "outputs": [],
   "source": [
    "from __future__ import division\n",
    "\n",
    "import argparse, time, logging, random, math\n",
    "\n",
    "import numpy as np\n",
    "import mxnet as mx\n",
    "\n",
    "from mxnet import gluon, nd\n",
    "from mxnet import autograd as ag\n",
    "from mxnet.gluon import nn\n",
    "from mxnet.gluon.data.vision import transforms"
   ]
  },
  {
   "cell_type": "code",
   "execution_count": 3,
   "metadata": {},
   "outputs": [],
   "source": [
    "transform = transforms.Compose([\n",
    "    transforms.ToTensor(),\n",
    "    transforms.Normalize(0.,1.)\n",
    "])"
   ]
  },
  {
   "cell_type": "code",
   "execution_count": 4,
   "metadata": {},
   "outputs": [],
   "source": [
    "num_gpus = 1\n",
    "model_ctx = mx.cpu()\n",
    "\n",
    "num_workers = 0\n",
    "batch_size = 128 \n",
    "train_data = gluon.data.DataLoader(\n",
    "    gluon.data.vision.MNIST(train=True).transform_first(transform),\n",
    "    batch_size=batch_size, shuffle=True, last_batch='discard', num_workers=num_workers)\n",
    "\n",
    "val_data = gluon.data.DataLoader(\n",
    "    gluon.data.vision.MNIST(train=False).transform_first(transform),\n",
    "    batch_size=batch_size, shuffle=False, num_workers=num_workers)"
   ]
  },
  {
   "cell_type": "code",
   "execution_count": 5,
   "metadata": {},
   "outputs": [
    {
     "name": "stdout",
     "output_type": "stream",
     "text": [
      "(128, 1, 28, 28)\n",
      "(128,)\n"
     ]
    }
   ],
   "source": [
    "for X,y in train_data:\n",
    "    print(X.shape)\n",
    "    print(y.shape)\n",
    "    break"
   ]
  },
  {
   "cell_type": "code",
   "execution_count": 6,
   "metadata": {},
   "outputs": [
    {
     "data": {
      "text/plain": [
       "cpu(0)"
      ]
     },
     "execution_count": 6,
     "metadata": {},
     "output_type": "execute_result"
    }
   ],
   "source": [
    "model_ctx"
   ]
  },
  {
   "cell_type": "markdown",
   "metadata": {},
   "source": [
    "### Bayesian inference for MNIST\n",
    "\n",
    "* [Stochastic Gradient Descent](#chapter1)\n",
    "* [Stochastic Gradient Langevin Dynamics](#chapter2)\n",
    "* [Bayes By Backprop](#chapter3)\n",
    "* [Diagnostics](#chapter4)\n"
   ]
  },
  {
   "cell_type": "markdown",
   "metadata": {},
   "source": [
    "# Stochastic Gradient Descent <a class=\"anchor\" id=\"chapter1\"></a>"
   ]
  },
  {
   "cell_type": "code",
   "execution_count": 7,
   "metadata": {},
   "outputs": [],
   "source": [
    "import mxnet as mx\n",
    "from mxnet import nd, autograd, gluon\n",
    "hyper={'alpha':10.}\n",
    "in_units=(28,28)\n",
    "out_units=10"
   ]
  },
  {
   "cell_type": "code",
   "execution_count": 8,
   "metadata": {},
   "outputs": [],
   "source": [
    "import mxnet as mx\n",
    "from hamiltonian.inference.sgd import sgd\n",
    "from hamiltonian.models.softmax import lenet\n",
    "\n",
    "model=lenet(hyper,in_units,out_units,ctx=model_ctx)\n",
    "inference=sgd(model,model.par,step_size=0.1,ctx=model_ctx)"
   ]
  },
  {
   "cell_type": "code",
   "execution_count": 9,
   "metadata": {},
   "outputs": [
    {
     "name": "stdout",
     "output_type": "stream",
     "text": [
      "no modules loaded yet\n"
     ]
    }
   ],
   "source": [
    "import hamiltonian\n",
    "import importlib\n",
    "\n",
    "try:\n",
    "    importlib.reload(hamiltonian.models.lenet)\n",
    "    importlib.reload(hamiltonian.inference.sgd)\n",
    "    importlib.reload(hamiltonian.inference.base)\n",
    "    print('modules re-loaded')\n",
    "except:\n",
    "    print('no modules loaded yet')\n"
   ]
  },
  {
   "cell_type": "code",
   "execution_count": 18,
   "metadata": {},
   "outputs": [
    {
     "name": "stderr",
     "output_type": "stream",
     "text": [
      "  0%|          | 1/250 [00:25<1:46:06, 25.57s/it]"
     ]
    },
    {
     "name": "stdout",
     "output_type": "stream",
     "text": [
      "loss: 0.9832\n"
     ]
    },
    {
     "name": "stderr",
     "output_type": "stream",
     "text": [
      " 10%|█         | 26/250 [20:04<1:34:15, 25.25s/it] "
     ]
    },
    {
     "name": "stdout",
     "output_type": "stream",
     "text": [
      "loss: 0.2183\n"
     ]
    },
    {
     "name": "stderr",
     "output_type": "stream",
     "text": [
      " 20%|██        | 51/250 [30:40<1:25:16, 25.71s/it]"
     ]
    },
    {
     "name": "stdout",
     "output_type": "stream",
     "text": [
      "loss: 0.1913\n"
     ]
    },
    {
     "name": "stderr",
     "output_type": "stream",
     "text": [
      " 30%|███       | 76/250 [41:23<1:14:31, 25.70s/it]"
     ]
    },
    {
     "name": "stdout",
     "output_type": "stream",
     "text": [
      "loss: 0.1831\n"
     ]
    },
    {
     "name": "stderr",
     "output_type": "stream",
     "text": [
      " 40%|████      | 101/250 [51:54<1:03:00, 25.37s/it]"
     ]
    },
    {
     "name": "stdout",
     "output_type": "stream",
     "text": [
      "loss: 0.1701\n"
     ]
    },
    {
     "name": "stderr",
     "output_type": "stream",
     "text": [
      " 50%|█████     | 126/250 [1:02:24<52:03, 25.19s/it]"
     ]
    },
    {
     "name": "stdout",
     "output_type": "stream",
     "text": [
      "loss: 0.1647\n"
     ]
    },
    {
     "name": "stderr",
     "output_type": "stream",
     "text": [
      " 60%|██████    | 151/250 [17:00:33<95:51:18, 3485.64s/it] "
     ]
    },
    {
     "name": "stdout",
     "output_type": "stream",
     "text": [
      "loss: 0.1642\n"
     ]
    },
    {
     "name": "stderr",
     "output_type": "stream",
     "text": [
      " 70%|███████   | 176/250 [38:16:10<55:06:05, 2680.61s/it]"
     ]
    },
    {
     "name": "stdout",
     "output_type": "stream",
     "text": [
      "loss: 0.1639\n"
     ]
    },
    {
     "name": "stderr",
     "output_type": "stream",
     "text": [
      " 80%|████████  | 201/250 [39:04:07<21:24, 26.21s/it]     "
     ]
    },
    {
     "name": "stdout",
     "output_type": "stream",
     "text": [
      "loss: 0.1637\n"
     ]
    },
    {
     "name": "stderr",
     "output_type": "stream",
     "text": [
      " 90%|█████████ | 226/250 [39:14:55<10:41, 26.73s/it]"
     ]
    },
    {
     "name": "stdout",
     "output_type": "stream",
     "text": [
      "loss: 0.1636\n"
     ]
    },
    {
     "name": "stderr",
     "output_type": "stream",
     "text": [
      "100%|██████████| 250/250 [39:25:34<00:00, 567.74s/it]\n"
     ]
    },
    {
     "ename": "NameError",
     "evalue": "name 'plt' is not defined",
     "output_type": "error",
     "traceback": [
      "\u001b[0;31m---------------------------------------------------------------------------\u001b[0m",
      "\u001b[0;31mNameError\u001b[0m                                 Traceback (most recent call last)",
      "\u001b[0;32m<ipython-input-18-89f421fb800b>\u001b[0m in \u001b[0;36m<module>\u001b[0;34m\u001b[0m\n\u001b[1;32m      5\u001b[0m     \u001b[0mpar\u001b[0m\u001b[0;34m,\u001b[0m\u001b[0mloss\u001b[0m\u001b[0;34m=\u001b[0m\u001b[0minference\u001b[0m\u001b[0;34m.\u001b[0m\u001b[0mfit\u001b[0m\u001b[0;34m(\u001b[0m\u001b[0mepochs\u001b[0m\u001b[0;34m=\u001b[0m\u001b[0mnum_epochs\u001b[0m\u001b[0;34m,\u001b[0m\u001b[0mbatch_size\u001b[0m\u001b[0;34m=\u001b[0m\u001b[0mbatch_size\u001b[0m\u001b[0;34m,\u001b[0m\u001b[0mdata_loader\u001b[0m\u001b[0;34m=\u001b[0m\u001b[0mtrain_data\u001b[0m\u001b[0;34m,\u001b[0m\u001b[0mverbose\u001b[0m\u001b[0;34m=\u001b[0m\u001b[0;32mTrue\u001b[0m\u001b[0;34m)\u001b[0m\u001b[0;34m\u001b[0m\u001b[0;34m\u001b[0m\u001b[0m\n\u001b[1;32m      6\u001b[0m \u001b[0;34m\u001b[0m\u001b[0m\n\u001b[0;32m----> 7\u001b[0;31m     \u001b[0mfig\u001b[0m\u001b[0;34m=\u001b[0m\u001b[0mplt\u001b[0m\u001b[0;34m.\u001b[0m\u001b[0mfigure\u001b[0m\u001b[0;34m(\u001b[0m\u001b[0mfigsize\u001b[0m\u001b[0;34m=\u001b[0m\u001b[0;34m[\u001b[0m\u001b[0;36m5\u001b[0m\u001b[0;34m,\u001b[0m\u001b[0;36m5\u001b[0m\u001b[0;34m]\u001b[0m\u001b[0;34m)\u001b[0m\u001b[0;34m\u001b[0m\u001b[0;34m\u001b[0m\u001b[0m\n\u001b[0m\u001b[1;32m      8\u001b[0m     \u001b[0mplt\u001b[0m\u001b[0;34m.\u001b[0m\u001b[0mplot\u001b[0m\u001b[0;34m(\u001b[0m\u001b[0mloss\u001b[0m\u001b[0;34m,\u001b[0m\u001b[0mcolor\u001b[0m\u001b[0;34m=\u001b[0m\u001b[0;34m'blue'\u001b[0m\u001b[0;34m,\u001b[0m\u001b[0mlw\u001b[0m\u001b[0;34m=\u001b[0m\u001b[0;36m3\u001b[0m\u001b[0;34m)\u001b[0m\u001b[0;34m\u001b[0m\u001b[0;34m\u001b[0m\u001b[0m\n\u001b[1;32m      9\u001b[0m     \u001b[0mplt\u001b[0m\u001b[0;34m.\u001b[0m\u001b[0mxlabel\u001b[0m\u001b[0;34m(\u001b[0m\u001b[0;34m'Epoch'\u001b[0m\u001b[0;34m,\u001b[0m \u001b[0msize\u001b[0m\u001b[0;34m=\u001b[0m\u001b[0;36m18\u001b[0m\u001b[0;34m)\u001b[0m\u001b[0;34m\u001b[0m\u001b[0;34m\u001b[0m\u001b[0m\n",
      "\u001b[0;31mNameError\u001b[0m: name 'plt' is not defined"
     ]
    }
   ],
   "source": [
    "train_sgd=True\n",
    "num_epochs=250\n",
    "\n",
    "if train_sgd:\n",
    "    par,loss=inference.fit(epochs=num_epochs,batch_size=batch_size,data_loader=train_data,verbose=True)\n",
    "\n",
    "    fig=plt.figure(figsize=[5,5])\n",
    "    plt.plot(loss,color='blue',lw=3)\n",
    "    plt.xlabel('Epoch', size=18)\n",
    "    plt.ylabel('Loss', size=18)\n",
    "    plt.title('SGD Lenet MNIST', size=18)\n",
    "    plt.xticks(size=14)\n",
    "    plt.yticks(size=14)\n",
    "    plt.savefig('sgd_lenet.pdf', bbox_inches='tight')\n",
    "    model.net.save_parameters('../scripts/results/lenet/lenet_sgd_'+str(num_epochs)+'_epochs.params')\n",
    "else:\n",
    "    model.net.load_parameters('../scripts/results/lenet/lenet_sgd_'+str(num_epochs)+'_epochs.params',ctx=model_ctx)\n",
    "    par=dict()\n",
    "    for name,gluon_par in model.net.collect_params().items():\n",
    "        par.update({name:gluon_par.data()})\n",
    "    "
   ]
  },
  {
   "cell_type": "code",
   "execution_count": 19,
   "metadata": {},
   "outputs": [
    {
     "data": {
      "text/plain": [
       "{'0.weight': Parameter (shape=(6, 1, 5, 5), dtype=<class 'numpy.float32'>),\n",
       " '0.bias': Parameter (shape=(6,), dtype=<class 'numpy.float32'>),\n",
       " '2.weight': Parameter (shape=(16, 6, 5, 5), dtype=<class 'numpy.float32'>),\n",
       " '2.bias': Parameter (shape=(16,), dtype=<class 'numpy.float32'>),\n",
       " '4.weight': Parameter (shape=(120, 400), dtype=float32),\n",
       " '4.bias': Parameter (shape=(120,), dtype=float32),\n",
       " '5.weight': Parameter (shape=(84, 120), dtype=float32),\n",
       " '5.bias': Parameter (shape=(84,), dtype=float32),\n",
       " '6.weight': Parameter (shape=(10, 84), dtype=float32),\n",
       " '6.bias': Parameter (shape=(10,), dtype=float32)}"
      ]
     },
     "execution_count": 19,
     "metadata": {},
     "output_type": "execute_result"
    }
   ],
   "source": [
    "model.net.collect_params()"
   ]
  },
  {
   "cell_type": "code",
   "execution_count": 20,
   "metadata": {},
   "outputs": [],
   "source": [
    "total_samples,total_labels,log_like=inference.predict(par,batch_size=batch_size,num_samples=100,data_loader=val_data)"
   ]
  },
  {
   "cell_type": "code",
   "execution_count": 21,
   "metadata": {},
   "outputs": [],
   "source": [
    "y_hat=np.quantile(total_samples,.5,axis=0)"
   ]
  },
  {
   "cell_type": "code",
   "execution_count": 22,
   "metadata": {},
   "outputs": [
    {
     "name": "stdout",
     "output_type": "stream",
     "text": [
      "              precision    recall  f1-score   support\n",
      "\n",
      "           0       1.00      0.99      1.00       979\n",
      "           1       0.99      0.99      0.99      1133\n",
      "           2       0.99      0.99      0.99      1030\n",
      "           3       0.99      0.99      0.99      1008\n",
      "           4       0.99      0.99      0.99       980\n",
      "           5       0.98      0.99      0.98       890\n",
      "           6       0.99      0.99      0.99       956\n",
      "           7       0.98      0.99      0.98      1027\n",
      "           8       0.99      0.99      0.99       973\n",
      "           9       0.99      0.98      0.98      1008\n",
      "\n",
      "    accuracy                           0.99      9984\n",
      "   macro avg       0.99      0.99      0.99      9984\n",
      "weighted avg       0.99      0.99      0.99      9984\n",
      "\n"
     ]
    }
   ],
   "source": [
    "from sklearn.metrics import classification_report\n",
    "\n",
    "print(classification_report(np.int32(total_labels),np.int32(y_hat)))"
   ]
  },
  {
   "cell_type": "markdown",
   "metadata": {},
   "source": [
    "# Stochastic Gradient Langevin Dynamics <a class=\"anchor\" id=\"chapter2\"></a>"
   ]
  },
  {
   "cell_type": "code",
   "execution_count": 23,
   "metadata": {},
   "outputs": [],
   "source": [
    "from hamiltonian.inference.sgld import sgld\n",
    "from hamiltonian.models.softmax import lenet\n",
    "\n",
    "model=lenet(hyper,in_units,out_units,ctx=model_ctx)\n",
    "inference=sgld(model,model.par,step_size=0.1,ctx=model_ctx)"
   ]
  },
  {
   "cell_type": "code",
   "execution_count": 24,
   "metadata": {},
   "outputs": [
    {
     "name": "stdout",
     "output_type": "stream",
     "text": [
      "modules re-loaded\n"
     ]
    }
   ],
   "source": [
    "import hamiltonian\n",
    "import importlib\n",
    "\n",
    "try:\n",
    "    importlib.reload(hamiltonian.models.softmax)\n",
    "    importlib.reload(hamiltonian.inference.sgld)\n",
    "    print('modules re-loaded')\n",
    "except:\n",
    "    print('no modules loaded yet')"
   ]
  },
  {
   "cell_type": "code",
   "execution_count": 25,
   "metadata": {},
   "outputs": [],
   "source": [
    "import matplotlib.pyplot as plt\n",
    "import seaborn as sns\n",
    "import glob\n",
    "\n",
    "train_sgld=False\n",
    "num_epochs=250\n",
    "\n",
    "if train_sgld:\n",
    "    loss,posterior_samples=inference.sample(epochs=num_epochs,batch_size=batch_size,\n",
    "                                data_loader=train_data,\n",
    "                                verbose=True,chain_name='chain_nonhierarchical')\n",
    "\n",
    "    plt.rcParams['figure.dpi'] = 360\n",
    "    sns.set_style(\"whitegrid\")\n",
    "    fig=plt.figure(figsize=[5,5])\n",
    "    plt.plot(loss[0],color='blue',lw=3)\n",
    "    plt.plot(loss[1],color='red',lw=3)\n",
    "    plt.xlabel('Epoch', size=18)\n",
    "    plt.ylabel('Loss', size=18)\n",
    "    plt.title('SGLD Lenet MNIST', size=18)\n",
    "    plt.xticks(size=14)\n",
    "    plt.yticks(size=14)\n",
    "    plt.savefig('sgld_lenet.pdf', bbox_inches='tight')\n",
    "else:\n",
    "    chain1=glob.glob(\"../scripts/results/lenet/chain_nonhierarchical_0_1_sgld*\")\n",
    "    chain2=glob.glob(\"../scripts/results/lenet/chain_nonhierarchical_0_sgld*\")\n",
    "    posterior_samples=[chain1,chain2]"
   ]
  },
  {
   "cell_type": "code",
   "execution_count": 26,
   "metadata": {},
   "outputs": [],
   "source": [
    "posterior_samples_flat=[item for sublist in posterior_samples for item in sublist]"
   ]
  },
  {
   "cell_type": "code",
   "execution_count": 34,
   "metadata": {},
   "outputs": [
    {
     "ename": "KeyboardInterrupt",
     "evalue": "",
     "output_type": "error",
     "traceback": [
      "\u001b[0;31m---------------------------------------------------------------------------\u001b[0m",
      "\u001b[0;31mKeyboardInterrupt\u001b[0m                         Traceback (most recent call last)",
      "\u001b[0;32m<ipython-input-34-fdaacd373b41>\u001b[0m in \u001b[0;36m<module>\u001b[0;34m\u001b[0m\n\u001b[0;32m----> 1\u001b[0;31m \u001b[0mtotal_samples\u001b[0m\u001b[0;34m,\u001b[0m\u001b[0mtotal_labels\u001b[0m\u001b[0;34m,\u001b[0m\u001b[0mlog_like\u001b[0m\u001b[0;34m=\u001b[0m\u001b[0minference\u001b[0m\u001b[0;34m.\u001b[0m\u001b[0mpredict\u001b[0m\u001b[0;34m(\u001b[0m\u001b[0mposterior_samples_flat\u001b[0m\u001b[0;34m,\u001b[0m\u001b[0;36m5\u001b[0m\u001b[0;34m,\u001b[0m\u001b[0mdata_loader\u001b[0m\u001b[0;34m=\u001b[0m\u001b[0mval_data\u001b[0m\u001b[0;34m)\u001b[0m\u001b[0;34m\u001b[0m\u001b[0;34m\u001b[0m\u001b[0m\n\u001b[0m",
      "\u001b[0;32m~/code/hamiltonian_mxnet/hamiltonian/inference/sgld.py\u001b[0m in \u001b[0;36mpredict\u001b[0;34m(self, posterior_samples, num_samples, **args)\u001b[0m\n\u001b[1;32m    134\u001b[0m                 \u001b[0my_test\u001b[0m\u001b[0;34m=\u001b[0m\u001b[0my_test\u001b[0m\u001b[0;34m.\u001b[0m\u001b[0mas_in_context\u001b[0m\u001b[0;34m(\u001b[0m\u001b[0mself\u001b[0m\u001b[0;34m.\u001b[0m\u001b[0mctx\u001b[0m\u001b[0;34m)\u001b[0m\u001b[0;34m\u001b[0m\u001b[0;34m\u001b[0m\u001b[0m\n\u001b[1;32m    135\u001b[0m                 \u001b[0my_pred\u001b[0m\u001b[0;34m=\u001b[0m\u001b[0mself\u001b[0m\u001b[0;34m.\u001b[0m\u001b[0mmodel\u001b[0m\u001b[0;34m.\u001b[0m\u001b[0mpredict\u001b[0m\u001b[0;34m(\u001b[0m\u001b[0mpar\u001b[0m\u001b[0;34m,\u001b[0m\u001b[0mX_test\u001b[0m\u001b[0;34m)\u001b[0m\u001b[0;34m\u001b[0m\u001b[0;34m\u001b[0m\u001b[0m\n\u001b[0;32m--> 136\u001b[0;31m                 \u001b[0mloglike\u001b[0m\u001b[0;34m.\u001b[0m\u001b[0mappend\u001b[0m\u001b[0;34m(\u001b[0m\u001b[0my_pred\u001b[0m\u001b[0;34m.\u001b[0m\u001b[0mlog_prob\u001b[0m\u001b[0;34m(\u001b[0m\u001b[0my_test\u001b[0m\u001b[0;34m)\u001b[0m\u001b[0;34m.\u001b[0m\u001b[0masnumpy\u001b[0m\u001b[0;34m(\u001b[0m\u001b[0;34m)\u001b[0m\u001b[0;34m)\u001b[0m\u001b[0;34m\u001b[0m\u001b[0;34m\u001b[0m\u001b[0m\n\u001b[0m\u001b[1;32m    137\u001b[0m                 \u001b[0msamples\u001b[0m\u001b[0;34m.\u001b[0m\u001b[0mappend\u001b[0m\u001b[0;34m(\u001b[0m\u001b[0my_pred\u001b[0m\u001b[0;34m.\u001b[0m\u001b[0msample\u001b[0m\u001b[0;34m(\u001b[0m\u001b[0;34m)\u001b[0m\u001b[0;34m.\u001b[0m\u001b[0masnumpy\u001b[0m\u001b[0;34m(\u001b[0m\u001b[0;34m)\u001b[0m\u001b[0;34m)\u001b[0m\u001b[0;34m\u001b[0m\u001b[0;34m\u001b[0m\u001b[0m\n\u001b[1;32m    138\u001b[0m                 \u001b[0mlabels\u001b[0m\u001b[0;34m.\u001b[0m\u001b[0mappend\u001b[0m\u001b[0;34m(\u001b[0m\u001b[0my_test\u001b[0m\u001b[0;34m.\u001b[0m\u001b[0masnumpy\u001b[0m\u001b[0;34m(\u001b[0m\u001b[0;34m)\u001b[0m\u001b[0;34m)\u001b[0m\u001b[0;34m\u001b[0m\u001b[0;34m\u001b[0m\u001b[0m\n",
      "\u001b[0;32m~/mxnet/python/mxnet/ndarray/ndarray.py\u001b[0m in \u001b[0;36masnumpy\u001b[0;34m(self)\u001b[0m\n\u001b[1;32m   2605\u001b[0m         \"\"\"\n\u001b[1;32m   2606\u001b[0m         \u001b[0mdata\u001b[0m \u001b[0;34m=\u001b[0m \u001b[0mnp\u001b[0m\u001b[0;34m.\u001b[0m\u001b[0mempty\u001b[0m\u001b[0;34m(\u001b[0m\u001b[0mself\u001b[0m\u001b[0;34m.\u001b[0m\u001b[0mshape\u001b[0m\u001b[0;34m,\u001b[0m \u001b[0mdtype\u001b[0m\u001b[0;34m=\u001b[0m\u001b[0mself\u001b[0m\u001b[0;34m.\u001b[0m\u001b[0mdtype\u001b[0m\u001b[0;34m)\u001b[0m\u001b[0;34m\u001b[0m\u001b[0;34m\u001b[0m\u001b[0m\n\u001b[0;32m-> 2607\u001b[0;31m         check_call(_LIB.MXNDArraySyncCopyToCPU(\n\u001b[0m\u001b[1;32m   2608\u001b[0m             \u001b[0mself\u001b[0m\u001b[0;34m.\u001b[0m\u001b[0mhandle\u001b[0m\u001b[0;34m,\u001b[0m\u001b[0;34m\u001b[0m\u001b[0;34m\u001b[0m\u001b[0m\n\u001b[1;32m   2609\u001b[0m             \u001b[0mdata\u001b[0m\u001b[0;34m.\u001b[0m\u001b[0mctypes\u001b[0m\u001b[0;34m.\u001b[0m\u001b[0mdata_as\u001b[0m\u001b[0;34m(\u001b[0m\u001b[0mctypes\u001b[0m\u001b[0;34m.\u001b[0m\u001b[0mc_void_p\u001b[0m\u001b[0;34m)\u001b[0m\u001b[0;34m,\u001b[0m\u001b[0;34m\u001b[0m\u001b[0;34m\u001b[0m\u001b[0m\n",
      "\u001b[0;31mKeyboardInterrupt\u001b[0m: "
     ]
    }
   ],
   "source": [
    "total_samples,total_labels,log_like=inference.predict(posterior_samples_flat,5,data_loader=val_data)"
   ]
  },
  {
   "cell_type": "code",
   "execution_count": null,
   "metadata": {},
   "outputs": [],
   "source": [
    "from sklearn.metrics import classification_report\n",
    "posterior_samples\n",
    "\n",
    "y_hat=np.quantile(total_samples,.9,axis=0)\n",
    "\n",
    "print(classification_report(np.int32(total_labels),np.int32(y_hat)))"
   ]
  },
  {
   "cell_type": "code",
   "execution_count": 42,
   "metadata": {},
   "outputs": [
    {
     "name": "stdout",
     "output_type": "stream",
     "text": [
      "mean f-1 : 0.9748208806697447, std f-1 : 0.024564142639161658\n"
     ]
    }
   ],
   "source": [
    "from sklearn.metrics import f1_score\n",
    "\n",
    "score=[]\n",
    "for q in np.arange(.1,.9,.1):\n",
    "    y_hat=np.quantile(total_samples,q,axis=0)\n",
    "    score.append(f1_score(np.int32(total_labels),np.int32(y_hat), average='macro'))\n",
    "print('mean f-1 : {0}, std f-1 : {1}'.format(np.mean(score),2*np.std(score)))"
   ]
  },
  {
   "cell_type": "code",
   "execution_count": 29,
   "metadata": {},
   "outputs": [],
   "source": [
    "import arviz as az\n",
    "\n",
    "posterior_samples_multiple_chains=inference.posterior_diagnostics(posterior_samples)\n",
    "datasets=[az.convert_to_inference_data(sample) for sample in posterior_samples_multiple_chains]\n",
    "dataset = az.concat(datasets, dim=\"chain\")\n",
    "mean_r_hat_values={var:float(az.rhat(dataset)[var].mean().data) for var in model.par}\n",
    "mean_ess_values={var:float(az.ess(dataset)[var].mean().data) for var in model.par}\n",
    "mean_mcse_values={var:float(az.mcse(dataset)[var].mean().data) for var in model.par}"
   ]
  },
  {
   "cell_type": "code",
   "execution_count": 35,
   "metadata": {},
   "outputs": [
    {
     "data": {
      "text/html": [
       "<div>\n",
       "<style scoped>\n",
       "    .dataframe tbody tr th:only-of-type {\n",
       "        vertical-align: middle;\n",
       "    }\n",
       "\n",
       "    .dataframe tbody tr th {\n",
       "        vertical-align: top;\n",
       "    }\n",
       "\n",
       "    .dataframe thead th {\n",
       "        text-align: right;\n",
       "    }\n",
       "</style>\n",
       "<table border=\"1\" class=\"dataframe\">\n",
       "  <thead>\n",
       "    <tr style=\"text-align: right;\">\n",
       "      <th></th>\n",
       "      <th>mean</th>\n",
       "      <th>sd</th>\n",
       "      <th>hdi_3%</th>\n",
       "      <th>hdi_97%</th>\n",
       "      <th>mcse_mean</th>\n",
       "      <th>mcse_sd</th>\n",
       "      <th>ess_bulk</th>\n",
       "      <th>ess_tail</th>\n",
       "      <th>r_hat</th>\n",
       "    </tr>\n",
       "  </thead>\n",
       "  <tbody>\n",
       "    <tr>\n",
       "      <th>0.weight[0,0,0,0]</th>\n",
       "      <td>-1.612</td>\n",
       "      <td>1.635</td>\n",
       "      <td>-3.627</td>\n",
       "      <td>1.164</td>\n",
       "      <td>0.985</td>\n",
       "      <td>0.787</td>\n",
       "      <td>3.0</td>\n",
       "      <td>246.0</td>\n",
       "      <td>1.77</td>\n",
       "    </tr>\n",
       "    <tr>\n",
       "      <th>0.weight[0,0,0,1]</th>\n",
       "      <td>-0.462</td>\n",
       "      <td>0.614</td>\n",
       "      <td>-1.657</td>\n",
       "      <td>0.661</td>\n",
       "      <td>0.328</td>\n",
       "      <td>0.254</td>\n",
       "      <td>3.0</td>\n",
       "      <td>166.0</td>\n",
       "      <td>1.59</td>\n",
       "    </tr>\n",
       "    <tr>\n",
       "      <th>0.weight[0,0,0,2]</th>\n",
       "      <td>0.110</td>\n",
       "      <td>1.375</td>\n",
       "      <td>-1.645</td>\n",
       "      <td>2.617</td>\n",
       "      <td>0.845</td>\n",
       "      <td>0.679</td>\n",
       "      <td>3.0</td>\n",
       "      <td>144.0</td>\n",
       "      <td>1.80</td>\n",
       "    </tr>\n",
       "    <tr>\n",
       "      <th>0.weight[0,0,0,3]</th>\n",
       "      <td>-0.200</td>\n",
       "      <td>0.597</td>\n",
       "      <td>-1.099</td>\n",
       "      <td>0.912</td>\n",
       "      <td>0.230</td>\n",
       "      <td>0.171</td>\n",
       "      <td>10.0</td>\n",
       "      <td>120.0</td>\n",
       "      <td>1.23</td>\n",
       "    </tr>\n",
       "    <tr>\n",
       "      <th>0.weight[0,0,0,4]</th>\n",
       "      <td>-0.734</td>\n",
       "      <td>0.995</td>\n",
       "      <td>-2.361</td>\n",
       "      <td>0.737</td>\n",
       "      <td>0.571</td>\n",
       "      <td>0.450</td>\n",
       "      <td>3.0</td>\n",
       "      <td>196.0</td>\n",
       "      <td>1.60</td>\n",
       "    </tr>\n",
       "    <tr>\n",
       "      <th>...</th>\n",
       "      <td>...</td>\n",
       "      <td>...</td>\n",
       "      <td>...</td>\n",
       "      <td>...</td>\n",
       "      <td>...</td>\n",
       "      <td>...</td>\n",
       "      <td>...</td>\n",
       "      <td>...</td>\n",
       "      <td>...</td>\n",
       "    </tr>\n",
       "    <tr>\n",
       "      <th>6.bias[5]</th>\n",
       "      <td>-0.087</td>\n",
       "      <td>0.559</td>\n",
       "      <td>-0.975</td>\n",
       "      <td>0.985</td>\n",
       "      <td>0.083</td>\n",
       "      <td>0.059</td>\n",
       "      <td>30.0</td>\n",
       "      <td>404.0</td>\n",
       "      <td>1.05</td>\n",
       "    </tr>\n",
       "    <tr>\n",
       "      <th>6.bias[6]</th>\n",
       "      <td>-0.083</td>\n",
       "      <td>0.653</td>\n",
       "      <td>-1.156</td>\n",
       "      <td>1.064</td>\n",
       "      <td>0.397</td>\n",
       "      <td>0.319</td>\n",
       "      <td>3.0</td>\n",
       "      <td>133.0</td>\n",
       "      <td>1.80</td>\n",
       "    </tr>\n",
       "    <tr>\n",
       "      <th>6.bias[7]</th>\n",
       "      <td>0.034</td>\n",
       "      <td>0.569</td>\n",
       "      <td>-0.937</td>\n",
       "      <td>1.299</td>\n",
       "      <td>0.076</td>\n",
       "      <td>0.054</td>\n",
       "      <td>52.0</td>\n",
       "      <td>282.0</td>\n",
       "      <td>1.05</td>\n",
       "    </tr>\n",
       "    <tr>\n",
       "      <th>6.bias[8]</th>\n",
       "      <td>0.088</td>\n",
       "      <td>0.814</td>\n",
       "      <td>-1.618</td>\n",
       "      <td>1.821</td>\n",
       "      <td>0.319</td>\n",
       "      <td>0.236</td>\n",
       "      <td>7.0</td>\n",
       "      <td>331.0</td>\n",
       "      <td>1.24</td>\n",
       "    </tr>\n",
       "    <tr>\n",
       "      <th>6.bias[9]</th>\n",
       "      <td>-0.079</td>\n",
       "      <td>0.841</td>\n",
       "      <td>-1.244</td>\n",
       "      <td>1.586</td>\n",
       "      <td>0.389</td>\n",
       "      <td>0.294</td>\n",
       "      <td>5.0</td>\n",
       "      <td>96.0</td>\n",
       "      <td>1.33</td>\n",
       "    </tr>\n",
       "  </tbody>\n",
       "</table>\n",
       "<p>61706 rows × 9 columns</p>\n",
       "</div>"
      ],
      "text/plain": [
       "                    mean     sd  hdi_3%  hdi_97%  mcse_mean  mcse_sd  \\\n",
       "0.weight[0,0,0,0] -1.612  1.635  -3.627    1.164      0.985    0.787   \n",
       "0.weight[0,0,0,1] -0.462  0.614  -1.657    0.661      0.328    0.254   \n",
       "0.weight[0,0,0,2]  0.110  1.375  -1.645    2.617      0.845    0.679   \n",
       "0.weight[0,0,0,3] -0.200  0.597  -1.099    0.912      0.230    0.171   \n",
       "0.weight[0,0,0,4] -0.734  0.995  -2.361    0.737      0.571    0.450   \n",
       "...                  ...    ...     ...      ...        ...      ...   \n",
       "6.bias[5]         -0.087  0.559  -0.975    0.985      0.083    0.059   \n",
       "6.bias[6]         -0.083  0.653  -1.156    1.064      0.397    0.319   \n",
       "6.bias[7]          0.034  0.569  -0.937    1.299      0.076    0.054   \n",
       "6.bias[8]          0.088  0.814  -1.618    1.821      0.319    0.236   \n",
       "6.bias[9]         -0.079  0.841  -1.244    1.586      0.389    0.294   \n",
       "\n",
       "                   ess_bulk  ess_tail  r_hat  \n",
       "0.weight[0,0,0,0]       3.0     246.0   1.77  \n",
       "0.weight[0,0,0,1]       3.0     166.0   1.59  \n",
       "0.weight[0,0,0,2]       3.0     144.0   1.80  \n",
       "0.weight[0,0,0,3]      10.0     120.0   1.23  \n",
       "0.weight[0,0,0,4]       3.0     196.0   1.60  \n",
       "...                     ...       ...    ...  \n",
       "6.bias[5]              30.0     404.0   1.05  \n",
       "6.bias[6]               3.0     133.0   1.80  \n",
       "6.bias[7]              52.0     282.0   1.05  \n",
       "6.bias[8]               7.0     331.0   1.24  \n",
       "6.bias[9]               5.0      96.0   1.33  \n",
       "\n",
       "[61706 rows x 9 columns]"
      ]
     },
     "execution_count": 35,
     "metadata": {},
     "output_type": "execute_result"
    }
   ],
   "source": [
    "az.summary(dataset)"
   ]
  },
  {
   "cell_type": "code",
   "execution_count": 30,
   "metadata": {},
   "outputs": [
    {
     "name": "stdout",
     "output_type": "stream",
     "text": [
      "{'0.weight': 1.4409353657596886, '0.bias': 1.6422148717827536, '2.weight': 1.4883793334949909, '2.bias': 1.20538471476892, '4.weight': 1.477842407782434, '4.bias': 1.4951052840399746, '5.weight': 1.4792690794753212, '5.bias': 1.4814224346622065, '6.weight': 1.4836650804249152, '6.bias': 1.2050696158485181}\n"
     ]
    }
   ],
   "source": [
    "print(mean_r_hat_values)"
   ]
  },
  {
   "cell_type": "code",
   "execution_count": 31,
   "metadata": {},
   "outputs": [
    {
     "name": "stdout",
     "output_type": "stream",
     "text": [
      "{'0.weight': 55.79815474787147, '0.bias': 3.955625076894418, '2.weight': 51.283357418128, '2.bias': 156.99221588900593, '4.weight': 56.25778977074355, '4.bias': 58.85076479790838, '5.weight': 55.363197846896846, '5.bias': 67.19298135267451, '6.weight': 57.520367079467874, '6.bias': 186.6966809961362}\n"
     ]
    }
   ],
   "source": [
    "print(mean_ess_values)"
   ]
  },
  {
   "cell_type": "code",
   "execution_count": 32,
   "metadata": {},
   "outputs": [
    {
     "name": "stdout",
     "output_type": "stream",
     "text": [
      "{'0.weight': 0.5150988150061814, '0.bias': 0.47465988042427076, '2.weight': 0.677872917280458, '2.bias': 0.22174469742426886, '4.weight': 0.6860386109116371, '4.bias': 0.625784012653258, '5.weight': 0.684771702786955, '5.bias': 0.5720807931282567, '6.weight': 0.6177038148582504, '6.bias': 0.165218720945477}\n"
     ]
    }
   ],
   "source": [
    "print(mean_mcse_values)"
   ]
  },
  {
   "cell_type": "code",
   "execution_count": 33,
   "metadata": {},
   "outputs": [
    {
     "ename": "ModuleNotFoundError",
     "evalue": "No module named 'hamiltonian.psis'",
     "output_type": "error",
     "traceback": [
      "\u001b[0;31m---------------------------------------------------------------------------\u001b[0m",
      "\u001b[0;31mModuleNotFoundError\u001b[0m                       Traceback (most recent call last)",
      "\u001b[0;32m<ipython-input-33-d319441f151b>\u001b[0m in \u001b[0;36m<module>\u001b[0;34m\u001b[0m\n\u001b[0;32m----> 1\u001b[0;31m \u001b[0;32mfrom\u001b[0m \u001b[0mhamiltonian\u001b[0m\u001b[0;34m.\u001b[0m\u001b[0mpsis\u001b[0m \u001b[0;32mimport\u001b[0m \u001b[0;34m*\u001b[0m\u001b[0;34m\u001b[0m\u001b[0;34m\u001b[0m\u001b[0m\n\u001b[0m\u001b[1;32m      2\u001b[0m \u001b[0;34m\u001b[0m\u001b[0m\n\u001b[1;32m      3\u001b[0m \u001b[0mloo\u001b[0m\u001b[0;34m,\u001b[0m\u001b[0mloos\u001b[0m\u001b[0;34m,\u001b[0m\u001b[0mks\u001b[0m\u001b[0;34m=\u001b[0m\u001b[0mpsisloo\u001b[0m\u001b[0;34m(\u001b[0m\u001b[0;34m-\u001b[0m\u001b[0mlog_like\u001b[0m\u001b[0;34m)\u001b[0m\u001b[0;34m\u001b[0m\u001b[0;34m\u001b[0m\u001b[0m\n",
      "\u001b[0;31mModuleNotFoundError\u001b[0m: No module named 'hamiltonian.psis'"
     ]
    }
   ],
   "source": [
    "from hamiltonian.util.psis import *\n",
    "\n",
    "loo,loos,ks=psisloo(-log_like)"
   ]
  },
  {
   "cell_type": "code",
   "execution_count": 41,
   "metadata": {},
   "outputs": [
    {
     "name": "stdout",
     "output_type": "stream",
     "text": [
      "mean f-1 : 0.579054715975662, std f-1 : 0.11209524379518138\n"
     ]
    }
   ],
   "source": [
    "from sklearn.metrics import f1_score\n",
    "\n",
    "score=[]\n",
    "for q in np.arange(.1,.9,.1):\n",
    "    y_hat=np.quantile(total_samples,q,axis=0)\n",
    "    score.append(f1_score(np.int32(total_labels),np.int32(y_hat), sample_weight=loos,average='weighted'))\n",
    "print('mean f-1 : {0}, std f-1 : {1}'.format(np.mean(score),2*np.std(score)))"
   ]
  },
  {
   "cell_type": "markdown",
   "metadata": {},
   "source": [
    "# Hierarchical Lenet <a class=\"anchor\" id=\"chapter3\"></a>"
   ]
  },
  {
   "cell_type": "code",
   "execution_count": 43,
   "metadata": {},
   "outputs": [],
   "source": [
    "from hamiltonian.inference.sgld import sgld\n",
    "from hamiltonian.models.softmax import hierarchical_lenet\n",
    "\n",
    "model=hierarchical_lenet(hyper,in_units,out_units,ctx=model_ctx)\n",
    "inference=sgld(model,model.par,step_size=0.1,ctx=model_ctx)"
   ]
  },
  {
   "cell_type": "code",
   "execution_count": 47,
   "metadata": {},
   "outputs": [],
   "source": [
    "import matplotlib.pyplot as plt\n",
    "import seaborn as sns\n",
    "import glob\n",
    "\n",
    "train_sgld=False\n",
    "num_epochs=250\n",
    "\n",
    "if train_sgld:\n",
    "    loss,posterior_samples=inference.sample(epochs=num_epochs,batch_size=batch_size,\n",
    "                                data_loader=train_data,\n",
    "                                verbose=True,chain_name='chain_hierarchical')\n",
    "\n",
    "    plt.rcParams['figure.dpi'] = 360\n",
    "    sns.set_style(\"whitegrid\")\n",
    "    fig=plt.figure(figsize=[5,5])\n",
    "    plt.plot(loss[0],color='blue',lw=3)\n",
    "    plt.plot(loss[1],color='red',lw=3)\n",
    "    plt.xlabel('Epoch', size=18)\n",
    "    plt.ylabel('Loss', size=18)\n",
    "    plt.title('SGLD Hierarchical Lenet MNIST', size=18)\n",
    "    plt.xticks(size=14)\n",
    "    plt.yticks(size=14)\n",
    "    plt.savefig('sgld_hierarchical_lenet.pdf', bbox_inches='tight')\n",
    "else:\n",
    "    chain1=glob.glob(\"../scripts/results/lenet/chain_hierarchical_0_1_sgld*\")\n",
    "    chain2=glob.glob(\"../scripts/results/lenet/chain_hierarchical_0_sgld*\")\n",
    "    posterior_samples=[chain1,chain2]"
   ]
  },
  {
   "cell_type": "code",
   "execution_count": 48,
   "metadata": {},
   "outputs": [],
   "source": [
    "posterior_samples_flat=[item for sublist in posterior_samples for item in sublist]"
   ]
  },
  {
   "cell_type": "code",
   "execution_count": 49,
   "metadata": {},
   "outputs": [],
   "source": [
    "total_samples,total_labels,log_like=inference.predict(posterior_samples_flat,5,data_loader=val_data)"
   ]
  },
  {
   "cell_type": "code",
   "execution_count": 50,
   "metadata": {},
   "outputs": [
    {
     "data": {
      "text/plain": [
       "['../scripts/results/lenet/chain_hierarchical_0_1_sgld_epoch_144_.params',\n",
       " '../scripts/results/lenet/chain_hierarchical_0_1_sgld_epoch_115_.params',\n",
       " '../scripts/results/lenet/chain_hierarchical_0_1_sgld_epoch_219_.params',\n",
       " '../scripts/results/lenet/chain_hierarchical_0_1_sgld_epoch_95_.params',\n",
       " '../scripts/results/lenet/chain_hierarchical_0_1_sgld_epoch_244_.params',\n",
       " '../scripts/results/lenet/chain_hierarchical_0_1_sgld_epoch_80_.params',\n",
       " '../scripts/results/lenet/chain_hierarchical_0_1_sgld_epoch_112_.params',\n",
       " '../scripts/results/lenet/chain_hierarchical_0_1_sgld_epoch_195_.params',\n",
       " '../scripts/results/lenet/chain_hierarchical_0_1_sgld_epoch_104_.params',\n",
       " '../scripts/results/lenet/chain_hierarchical_0_1_sgld_epoch_225_.params',\n",
       " '../scripts/results/lenet/chain_hierarchical_0_1_sgld_epoch_160_.params',\n",
       " '../scripts/results/lenet/chain_hierarchical_0_1_sgld_epoch_3_.params',\n",
       " '../scripts/results/lenet/chain_hierarchical_0_1_sgld_epoch_126_.params',\n",
       " '../scripts/results/lenet/chain_hierarchical_0_1_sgld_epoch_202_.params',\n",
       " '../scripts/results/lenet/chain_hierarchical_0_1_sgld_epoch_140_.params',\n",
       " '../scripts/results/lenet/chain_hierarchical_0_1_sgld_epoch_42_.params',\n",
       " '../scripts/results/lenet/chain_hierarchical_0_1_sgld_epoch_124_.params',\n",
       " '../scripts/results/lenet/chain_hierarchical_0_1_sgld_epoch_233_.params',\n",
       " '../scripts/results/lenet/chain_hierarchical_0_1_sgld_epoch_142_.params',\n",
       " '../scripts/results/lenet/chain_hierarchical_0_1_sgld_epoch_154_.params',\n",
       " '../scripts/results/lenet/chain_hierarchical_0_1_sgld_epoch_163_.params',\n",
       " '../scripts/results/lenet/chain_hierarchical_0_1_sgld_epoch_11_.params',\n",
       " '../scripts/results/lenet/chain_hierarchical_0_1_sgld_epoch_168_.params',\n",
       " '../scripts/results/lenet/chain_hierarchical_0_1_sgld_epoch_79_.params',\n",
       " '../scripts/results/lenet/chain_hierarchical_0_1_sgld_epoch_85_.params',\n",
       " '../scripts/results/lenet/chain_hierarchical_0_1_sgld_epoch_10_.params',\n",
       " '../scripts/results/lenet/chain_hierarchical_0_1_sgld_epoch_172_.params',\n",
       " '../scripts/results/lenet/chain_hierarchical_0_1_sgld_epoch_167_.params',\n",
       " '../scripts/results/lenet/chain_hierarchical_0_1_sgld_epoch_245_.params',\n",
       " '../scripts/results/lenet/chain_hierarchical_0_1_sgld_epoch_106_.params',\n",
       " '../scripts/results/lenet/chain_hierarchical_0_1_sgld_epoch_153_.params',\n",
       " '../scripts/results/lenet/chain_hierarchical_0_1_sgld_epoch_117_.params',\n",
       " '../scripts/results/lenet/chain_hierarchical_0_1_sgld_epoch_232_.params',\n",
       " '../scripts/results/lenet/chain_hierarchical_0_1_sgld_epoch_2_.params',\n",
       " '../scripts/results/lenet/chain_hierarchical_0_1_sgld_epoch_120_.params',\n",
       " '../scripts/results/lenet/chain_hierarchical_0_1_sgld_epoch_166_.params',\n",
       " '../scripts/results/lenet/chain_hierarchical_0_1_sgld_epoch_81_.params',\n",
       " '../scripts/results/lenet/chain_hierarchical_0_1_sgld_epoch_14_.params',\n",
       " '../scripts/results/lenet/chain_hierarchical_0_1_sgld_epoch_89_.params',\n",
       " '../scripts/results/lenet/chain_hierarchical_0_1_sgld_epoch_150_.params',\n",
       " '../scripts/results/lenet/chain_hierarchical_0_1_sgld_epoch_212_.params',\n",
       " '../scripts/results/lenet/chain_hierarchical_0_1_sgld_epoch_241_.params',\n",
       " '../scripts/results/lenet/chain_hierarchical_0_1_sgld_epoch_70_.params',\n",
       " '../scripts/results/lenet/chain_hierarchical_0_1_sgld_epoch_184_.params',\n",
       " '../scripts/results/lenet/chain_hierarchical_0_1_sgld_epoch_26_.params',\n",
       " '../scripts/results/lenet/chain_hierarchical_0_1_sgld_epoch_169_.params',\n",
       " '../scripts/results/lenet/chain_hierarchical_0_1_sgld_epoch_122_.params',\n",
       " '../scripts/results/lenet/chain_hierarchical_0_1_sgld_epoch_134_.params',\n",
       " '../scripts/results/lenet/chain_hierarchical_0_1_sgld_epoch_209_.params',\n",
       " '../scripts/results/lenet/chain_hierarchical_0_1_sgld_epoch_224_.params',\n",
       " '../scripts/results/lenet/chain_hierarchical_0_1_sgld_epoch_235_.params',\n",
       " '../scripts/results/lenet/chain_hierarchical_0_1_sgld_epoch_113_.params',\n",
       " '../scripts/results/lenet/chain_hierarchical_0_1_sgld_epoch_55_.params',\n",
       " '../scripts/results/lenet/chain_hierarchical_0_1_sgld_epoch_170_.params',\n",
       " '../scripts/results/lenet/chain_hierarchical_0_1_sgld_epoch_53_.params',\n",
       " '../scripts/results/lenet/chain_hierarchical_0_1_sgld_epoch_25_.params',\n",
       " '../scripts/results/lenet/chain_hierarchical_0_1_sgld_epoch_61_.params',\n",
       " '../scripts/results/lenet/chain_hierarchical_0_1_sgld_epoch_38_.params',\n",
       " '../scripts/results/lenet/chain_hierarchical_0_1_sgld_epoch_69_.params',\n",
       " '../scripts/results/lenet/chain_hierarchical_0_1_sgld_epoch_215_.params',\n",
       " '../scripts/results/lenet/chain_hierarchical_0_1_sgld_epoch_62_.params',\n",
       " '../scripts/results/lenet/chain_hierarchical_0_1_sgld_epoch_175_.params',\n",
       " '../scripts/results/lenet/chain_hierarchical_0_1_sgld_epoch_238_.params',\n",
       " '../scripts/results/lenet/chain_hierarchical_0_1_sgld_epoch_51_.params',\n",
       " '../scripts/results/lenet/chain_hierarchical_0_1_sgld_epoch_44_.params',\n",
       " '../scripts/results/lenet/chain_hierarchical_0_1_sgld_epoch_128_.params',\n",
       " '../scripts/results/lenet/chain_hierarchical_0_1_sgld_epoch_19_.params',\n",
       " '../scripts/results/lenet/chain_hierarchical_0_1_sgld_epoch_132_.params',\n",
       " '../scripts/results/lenet/chain_hierarchical_0_1_sgld_epoch_148_.params',\n",
       " '../scripts/results/lenet/chain_hierarchical_0_1_sgld_epoch_228_.params',\n",
       " '../scripts/results/lenet/chain_hierarchical_0_1_sgld_epoch_141_.params',\n",
       " '../scripts/results/lenet/chain_hierarchical_0_1_sgld_epoch_149_.params',\n",
       " '../scripts/results/lenet/chain_hierarchical_0_1_sgld_epoch_30_.params',\n",
       " '../scripts/results/lenet/chain_hierarchical_0_1_sgld_epoch_93_.params',\n",
       " '../scripts/results/lenet/chain_hierarchical_0_1_sgld_epoch_183_.params',\n",
       " '../scripts/results/lenet/chain_hierarchical_0_1_sgld_epoch_101_.params',\n",
       " '../scripts/results/lenet/chain_hierarchical_0_1_sgld_epoch_156_.params',\n",
       " '../scripts/results/lenet/chain_hierarchical_0_1_sgld_epoch_107_.params',\n",
       " '../scripts/results/lenet/chain_hierarchical_0_1_sgld_epoch_34_.params',\n",
       " '../scripts/results/lenet/chain_hierarchical_0_1_sgld_epoch_23_.params',\n",
       " '../scripts/results/lenet/chain_hierarchical_0_1_sgld_epoch_109_.params',\n",
       " '../scripts/results/lenet/chain_hierarchical_0_1_sgld_epoch_68_.params',\n",
       " '../scripts/results/lenet/chain_hierarchical_0_1_sgld_epoch_146_.params',\n",
       " '../scripts/results/lenet/chain_hierarchical_0_1_sgld_epoch_83_.params',\n",
       " '../scripts/results/lenet/chain_hierarchical_0_1_sgld_epoch_143_.params',\n",
       " '../scripts/results/lenet/chain_hierarchical_0_1_sgld_epoch_197_.params',\n",
       " '../scripts/results/lenet/chain_hierarchical_0_1_sgld_epoch_114_.params',\n",
       " '../scripts/results/lenet/chain_hierarchical_0_1_sgld_epoch_229_.params',\n",
       " '../scripts/results/lenet/chain_hierarchical_0_1_sgld_epoch_137_.params',\n",
       " '../scripts/results/lenet/chain_hierarchical_0_1_sgld_epoch_187_.params',\n",
       " '../scripts/results/lenet/chain_hierarchical_0_1_sgld_epoch_221_.params',\n",
       " '../scripts/results/lenet/chain_hierarchical_0_1_sgld_epoch_43_.params',\n",
       " '../scripts/results/lenet/chain_hierarchical_0_1_sgld_epoch_247_.params',\n",
       " '../scripts/results/lenet/chain_hierarchical_0_1_sgld_epoch_186_.params',\n",
       " '../scripts/results/lenet/chain_hierarchical_0_1_sgld_epoch_116_.params',\n",
       " '../scripts/results/lenet/chain_hierarchical_0_1_sgld_epoch_211_.params',\n",
       " '../scripts/results/lenet/chain_hierarchical_0_1_sgld_epoch_125_.params',\n",
       " '../scripts/results/lenet/chain_hierarchical_0_1_sgld_epoch_130_.params',\n",
       " '../scripts/results/lenet/chain_hierarchical_0_1_sgld_epoch_27_.params',\n",
       " '../scripts/results/lenet/chain_hierarchical_0_1_sgld_epoch_223_.params',\n",
       " '../scripts/results/lenet/chain_hierarchical_0_1_sgld_epoch_159_.params',\n",
       " '../scripts/results/lenet/chain_hierarchical_0_1_sgld_epoch_0_.params',\n",
       " '../scripts/results/lenet/chain_hierarchical_0_1_sgld_epoch_249_.params',\n",
       " '../scripts/results/lenet/chain_hierarchical_0_1_sgld_epoch_76_.params',\n",
       " '../scripts/results/lenet/chain_hierarchical_0_1_sgld_epoch_67_.params',\n",
       " '../scripts/results/lenet/chain_hierarchical_0_1_sgld_epoch_88_.params',\n",
       " '../scripts/results/lenet/chain_hierarchical_0_1_sgld_epoch_198_.params',\n",
       " '../scripts/results/lenet/chain_hierarchical_0_1_sgld_epoch_178_.params',\n",
       " '../scripts/results/lenet/chain_hierarchical_0_1_sgld_epoch_226_.params',\n",
       " '../scripts/results/lenet/chain_hierarchical_0_1_sgld_epoch_213_.params',\n",
       " '../scripts/results/lenet/chain_hierarchical_0_1_sgld_epoch_105_.params',\n",
       " '../scripts/results/lenet/chain_hierarchical_0_1_sgld_epoch_227_.params',\n",
       " '../scripts/results/lenet/chain_hierarchical_0_1_sgld_epoch_50_.params',\n",
       " '../scripts/results/lenet/chain_hierarchical_0_1_sgld_epoch_18_.params',\n",
       " '../scripts/results/lenet/chain_hierarchical_0_1_sgld_epoch_190_.params',\n",
       " '../scripts/results/lenet/chain_hierarchical_0_1_sgld_epoch_239_.params',\n",
       " '../scripts/results/lenet/chain_hierarchical_0_1_sgld_epoch_210_.params',\n",
       " '../scripts/results/lenet/chain_hierarchical_0_1_sgld_epoch_48_.params',\n",
       " '../scripts/results/lenet/chain_hierarchical_0_1_sgld_epoch_111_.params',\n",
       " '../scripts/results/lenet/chain_hierarchical_0_1_sgld_epoch_103_.params',\n",
       " '../scripts/results/lenet/chain_hierarchical_0_1_sgld_epoch_91_.params',\n",
       " '../scripts/results/lenet/chain_hierarchical_0_1_sgld_epoch_147_.params',\n",
       " '../scripts/results/lenet/chain_hierarchical_0_1_sgld_epoch_108_.params',\n",
       " '../scripts/results/lenet/chain_hierarchical_0_1_sgld_epoch_155_.params',\n",
       " '../scripts/results/lenet/chain_hierarchical_0_1_sgld_epoch_218_.params',\n",
       " '../scripts/results/lenet/chain_hierarchical_0_1_sgld_epoch_173_.params',\n",
       " '../scripts/results/lenet/chain_hierarchical_0_1_sgld_epoch_157_.params',\n",
       " '../scripts/results/lenet/chain_hierarchical_0_1_sgld_epoch_161_.params',\n",
       " '../scripts/results/lenet/chain_hierarchical_0_1_sgld_epoch_196_.params',\n",
       " '../scripts/results/lenet/chain_hierarchical_0_1_sgld_epoch_74_.params',\n",
       " '../scripts/results/lenet/chain_hierarchical_0_1_sgld_epoch_12_.params',\n",
       " '../scripts/results/lenet/chain_hierarchical_0_1_sgld_epoch_127_.params',\n",
       " '../scripts/results/lenet/chain_hierarchical_0_1_sgld_epoch_242_.params',\n",
       " '../scripts/results/lenet/chain_hierarchical_0_1_sgld_epoch_200_.params',\n",
       " '../scripts/results/lenet/chain_hierarchical_0_1_sgld_epoch_236_.params',\n",
       " '../scripts/results/lenet/chain_hierarchical_0_1_sgld_epoch_182_.params',\n",
       " '../scripts/results/lenet/chain_hierarchical_0_1_sgld_epoch_94_.params',\n",
       " '../scripts/results/lenet/chain_hierarchical_0_1_sgld_epoch_165_.params',\n",
       " '../scripts/results/lenet/chain_hierarchical_0_1_sgld_epoch_203_.params',\n",
       " '../scripts/results/lenet/chain_hierarchical_0_1_sgld_epoch_54_.params',\n",
       " '../scripts/results/lenet/chain_hierarchical_0_1_sgld_epoch_72_.params',\n",
       " '../scripts/results/lenet/chain_hierarchical_0_1_sgld_epoch_46_.params',\n",
       " '../scripts/results/lenet/chain_hierarchical_0_1_sgld_epoch_52_.params',\n",
       " '../scripts/results/lenet/chain_hierarchical_0_1_sgld_epoch_240_.params',\n",
       " '../scripts/results/lenet/chain_hierarchical_0_1_sgld_epoch_230_.params',\n",
       " '../scripts/results/lenet/chain_hierarchical_0_1_sgld_epoch_90_.params',\n",
       " '../scripts/results/lenet/chain_hierarchical_0_1_sgld_epoch_248_.params',\n",
       " '../scripts/results/lenet/chain_hierarchical_0_1_sgld_epoch_179_.params',\n",
       " '../scripts/results/lenet/chain_hierarchical_0_1_sgld_epoch_36_.params',\n",
       " '../scripts/results/lenet/chain_hierarchical_0_1_sgld_epoch_158_.params',\n",
       " '../scripts/results/lenet/chain_hierarchical_0_1_sgld_epoch_31_.params',\n",
       " '../scripts/results/lenet/chain_hierarchical_0_1_sgld_epoch_86_.params',\n",
       " '../scripts/results/lenet/chain_hierarchical_0_1_sgld_epoch_56_.params',\n",
       " '../scripts/results/lenet/chain_hierarchical_0_1_sgld_epoch_152_.params',\n",
       " '../scripts/results/lenet/chain_hierarchical_0_1_sgld_epoch_8_.params',\n",
       " '../scripts/results/lenet/chain_hierarchical_0_1_sgld_epoch_92_.params',\n",
       " '../scripts/results/lenet/chain_hierarchical_0_1_sgld_epoch_99_.params',\n",
       " '../scripts/results/lenet/chain_hierarchical_0_1_sgld_epoch_189_.params',\n",
       " '../scripts/results/lenet/chain_hierarchical_0_1_sgld_epoch_216_.params',\n",
       " '../scripts/results/lenet/chain_hierarchical_0_1_sgld_epoch_194_.params',\n",
       " '../scripts/results/lenet/chain_hierarchical_0_1_sgld_epoch_118_.params',\n",
       " '../scripts/results/lenet/chain_hierarchical_0_1_sgld_epoch_188_.params',\n",
       " '../scripts/results/lenet/chain_hierarchical_0_1_sgld_epoch_162_.params',\n",
       " '../scripts/results/lenet/chain_hierarchical_0_1_sgld_epoch_207_.params',\n",
       " '../scripts/results/lenet/chain_hierarchical_0_1_sgld_epoch_201_.params',\n",
       " '../scripts/results/lenet/chain_hierarchical_0_1_sgld_epoch_121_.params',\n",
       " '../scripts/results/lenet/chain_hierarchical_0_1_sgld_epoch_6_.params',\n",
       " '../scripts/results/lenet/chain_hierarchical_0_1_sgld_epoch_82_.params',\n",
       " '../scripts/results/lenet/chain_hierarchical_0_1_sgld_epoch_110_.params',\n",
       " '../scripts/results/lenet/chain_hierarchical_0_1_sgld_epoch_96_.params',\n",
       " '../scripts/results/lenet/chain_hierarchical_0_1_sgld_epoch_35_.params',\n",
       " '../scripts/results/lenet/chain_hierarchical_0_1_sgld_epoch_133_.params',\n",
       " '../scripts/results/lenet/chain_hierarchical_0_1_sgld_epoch_21_.params',\n",
       " '../scripts/results/lenet/chain_hierarchical_0_1_sgld_epoch_16_.params',\n",
       " '../scripts/results/lenet/chain_hierarchical_0_1_sgld_epoch_100_.params',\n",
       " '../scripts/results/lenet/chain_hierarchical_0_1_sgld_epoch_97_.params',\n",
       " '../scripts/results/lenet/chain_hierarchical_0_1_sgld_epoch_180_.params',\n",
       " '../scripts/results/lenet/chain_hierarchical_0_1_sgld_epoch_217_.params',\n",
       " '../scripts/results/lenet/chain_hierarchical_0_1_sgld_epoch_49_.params',\n",
       " '../scripts/results/lenet/chain_hierarchical_0_1_sgld_epoch_63_.params',\n",
       " '../scripts/results/lenet/chain_hierarchical_0_1_sgld_epoch_237_.params',\n",
       " '../scripts/results/lenet/chain_hierarchical_0_1_sgld_epoch_164_.params',\n",
       " '../scripts/results/lenet/chain_hierarchical_0_1_sgld_epoch_17_.params',\n",
       " '../scripts/results/lenet/chain_hierarchical_0_1_sgld_epoch_73_.params',\n",
       " '../scripts/results/lenet/chain_hierarchical_0_1_sgld_epoch_102_.params',\n",
       " '../scripts/results/lenet/chain_hierarchical_0_1_sgld_epoch_7_.params',\n",
       " '../scripts/results/lenet/chain_hierarchical_0_1_sgld_epoch_37_.params',\n",
       " '../scripts/results/lenet/chain_hierarchical_0_1_sgld_epoch_199_.params',\n",
       " '../scripts/results/lenet/chain_hierarchical_0_1_sgld_epoch_177_.params',\n",
       " '../scripts/results/lenet/chain_hierarchical_0_1_sgld_epoch_139_.params',\n",
       " '../scripts/results/lenet/chain_hierarchical_0_1_sgld_epoch_45_.params',\n",
       " '../scripts/results/lenet/chain_hierarchical_0_1_sgld_epoch_65_.params',\n",
       " '../scripts/results/lenet/chain_hierarchical_0_1_sgld_epoch_9_.params',\n",
       " '../scripts/results/lenet/chain_hierarchical_0_1_sgld_epoch_13_.params',\n",
       " '../scripts/results/lenet/chain_hierarchical_0_1_sgld_epoch_243_.params',\n",
       " '../scripts/results/lenet/chain_hierarchical_0_1_sgld_epoch_136_.params',\n",
       " '../scripts/results/lenet/chain_hierarchical_0_1_sgld_epoch_151_.params',\n",
       " '../scripts/results/lenet/chain_hierarchical_0_1_sgld_epoch_57_.params',\n",
       " '../scripts/results/lenet/chain_hierarchical_0_1_sgld_epoch_20_.params',\n",
       " '../scripts/results/lenet/chain_hierarchical_0_1_sgld_epoch_64_.params',\n",
       " '../scripts/results/lenet/chain_hierarchical_0_1_sgld_epoch_33_.params',\n",
       " '../scripts/results/lenet/chain_hierarchical_0_1_sgld_epoch_29_.params',\n",
       " '../scripts/results/lenet/chain_hierarchical_0_1_sgld_epoch_131_.params',\n",
       " '../scripts/results/lenet/chain_hierarchical_0_1_sgld_epoch_47_.params',\n",
       " '../scripts/results/lenet/chain_hierarchical_0_1_sgld_epoch_24_.params',\n",
       " '../scripts/results/lenet/chain_hierarchical_0_1_sgld_epoch_181_.params',\n",
       " '../scripts/results/lenet/chain_hierarchical_0_1_sgld_epoch_22_.params',\n",
       " '../scripts/results/lenet/chain_hierarchical_0_1_sgld_epoch_32_.params',\n",
       " '../scripts/results/lenet/chain_hierarchical_0_1_sgld_epoch_1_.params',\n",
       " '../scripts/results/lenet/chain_hierarchical_0_1_sgld_epoch_176_.params',\n",
       " '../scripts/results/lenet/chain_hierarchical_0_1_sgld_epoch_206_.params',\n",
       " '../scripts/results/lenet/chain_hierarchical_0_1_sgld_epoch_204_.params',\n",
       " '../scripts/results/lenet/chain_hierarchical_0_1_sgld_epoch_60_.params',\n",
       " '../scripts/results/lenet/chain_hierarchical_0_1_sgld_epoch_71_.params',\n",
       " '../scripts/results/lenet/chain_hierarchical_0_1_sgld_epoch_98_.params',\n",
       " '../scripts/results/lenet/chain_hierarchical_0_1_sgld_epoch_119_.params',\n",
       " '../scripts/results/lenet/chain_hierarchical_0_1_sgld_epoch_191_.params',\n",
       " '../scripts/results/lenet/chain_hierarchical_0_1_sgld_epoch_123_.params',\n",
       " '../scripts/results/lenet/chain_hierarchical_0_1_sgld_epoch_84_.params',\n",
       " '../scripts/results/lenet/chain_hierarchical_0_1_sgld_epoch_77_.params',\n",
       " '../scripts/results/lenet/chain_hierarchical_0_1_sgld_epoch_246_.params',\n",
       " '../scripts/results/lenet/chain_hierarchical_0_1_sgld_epoch_174_.params',\n",
       " '../scripts/results/lenet/chain_hierarchical_0_1_sgld_epoch_220_.params',\n",
       " '../scripts/results/lenet/chain_hierarchical_0_1_sgld_epoch_214_.params',\n",
       " '../scripts/results/lenet/chain_hierarchical_0_1_sgld_epoch_234_.params',\n",
       " '../scripts/results/lenet/chain_hierarchical_0_1_sgld_epoch_4_.params',\n",
       " '../scripts/results/lenet/chain_hierarchical_0_1_sgld_epoch_59_.params',\n",
       " '../scripts/results/lenet/chain_hierarchical_0_1_sgld_epoch_41_.params',\n",
       " '../scripts/results/lenet/chain_hierarchical_0_1_sgld_epoch_231_.params',\n",
       " '../scripts/results/lenet/chain_hierarchical_0_1_sgld_epoch_192_.params',\n",
       " '../scripts/results/lenet/chain_hierarchical_0_1_sgld_epoch_5_.params',\n",
       " '../scripts/results/lenet/chain_hierarchical_0_1_sgld_epoch_222_.params',\n",
       " '../scripts/results/lenet/chain_hierarchical_0_1_sgld_epoch_39_.params',\n",
       " '../scripts/results/lenet/chain_hierarchical_0_1_sgld_epoch_66_.params',\n",
       " '../scripts/results/lenet/chain_hierarchical_0_1_sgld_epoch_28_.params',\n",
       " '../scripts/results/lenet/chain_hierarchical_0_1_sgld_epoch_15_.params',\n",
       " '../scripts/results/lenet/chain_hierarchical_0_1_sgld_epoch_185_.params',\n",
       " '../scripts/results/lenet/chain_hierarchical_0_1_sgld_epoch_193_.params',\n",
       " '../scripts/results/lenet/chain_hierarchical_0_1_sgld_epoch_208_.params',\n",
       " '../scripts/results/lenet/chain_hierarchical_0_1_sgld_epoch_40_.params',\n",
       " '../scripts/results/lenet/chain_hierarchical_0_1_sgld_epoch_87_.params',\n",
       " '../scripts/results/lenet/chain_hierarchical_0_1_sgld_epoch_129_.params',\n",
       " '../scripts/results/lenet/chain_hierarchical_0_1_sgld_epoch_58_.params',\n",
       " '../scripts/results/lenet/chain_hierarchical_0_1_sgld_epoch_145_.params',\n",
       " '../scripts/results/lenet/chain_hierarchical_0_1_sgld_epoch_135_.params',\n",
       " '../scripts/results/lenet/chain_hierarchical_0_1_sgld_epoch_171_.params',\n",
       " '../scripts/results/lenet/chain_hierarchical_0_1_sgld_epoch_75_.params',\n",
       " '../scripts/results/lenet/chain_hierarchical_0_1_sgld_epoch_205_.params',\n",
       " '../scripts/results/lenet/chain_hierarchical_0_1_sgld_epoch_78_.params',\n",
       " '../scripts/results/lenet/chain_hierarchical_0_1_sgld_epoch_138_.params',\n",
       " '../scripts/results/lenet/chain_hierarchical_0_sgld_epoch_166_.params',\n",
       " '../scripts/results/lenet/chain_hierarchical_0_sgld_epoch_138_.params',\n",
       " '../scripts/results/lenet/chain_hierarchical_0_sgld_epoch_38_.params',\n",
       " '../scripts/results/lenet/chain_hierarchical_0_sgld_epoch_195_.params',\n",
       " '../scripts/results/lenet/chain_hierarchical_0_sgld_epoch_123_.params',\n",
       " '../scripts/results/lenet/chain_hierarchical_0_sgld_epoch_117_.params',\n",
       " '../scripts/results/lenet/chain_hierarchical_0_sgld_epoch_56_.params',\n",
       " '../scripts/results/lenet/chain_hierarchical_0_sgld_epoch_39_.params',\n",
       " '../scripts/results/lenet/chain_hierarchical_0_sgld_epoch_75_.params',\n",
       " '../scripts/results/lenet/chain_hierarchical_0_sgld_epoch_36_.params',\n",
       " '../scripts/results/lenet/chain_hierarchical_0_sgld_epoch_157_.params',\n",
       " '../scripts/results/lenet/chain_hierarchical_0_sgld_epoch_57_.params',\n",
       " '../scripts/results/lenet/chain_hierarchical_0_sgld_epoch_110_.params',\n",
       " '../scripts/results/lenet/chain_hierarchical_0_sgld_epoch_196_.params',\n",
       " '../scripts/results/lenet/chain_hierarchical_0_sgld_epoch_108_.params',\n",
       " '../scripts/results/lenet/chain_hierarchical_0_sgld_epoch_66_.params',\n",
       " '../scripts/results/lenet/chain_hierarchical_0_sgld_epoch_152_.params',\n",
       " '../scripts/results/lenet/chain_hierarchical_0_sgld_epoch_158_.params',\n",
       " '../scripts/results/lenet/chain_hierarchical_0_sgld_epoch_135_.params',\n",
       " '../scripts/results/lenet/chain_hierarchical_0_sgld_epoch_223_.params',\n",
       " '../scripts/results/lenet/chain_hierarchical_0_sgld_epoch_148_.params',\n",
       " '../scripts/results/lenet/chain_hierarchical_0_sgld_epoch_113_.params',\n",
       " '../scripts/results/lenet/chain_hierarchical_0_sgld_epoch_94_.params',\n",
       " '../scripts/results/lenet/chain_hierarchical_0_sgld_epoch_34_.params',\n",
       " '../scripts/results/lenet/chain_hierarchical_0_sgld_epoch_175_.params',\n",
       " '../scripts/results/lenet/chain_hierarchical_0_sgld_epoch_243_.params',\n",
       " '../scripts/results/lenet/chain_hierarchical_0_sgld_epoch_83_.params',\n",
       " '../scripts/results/lenet/chain_hierarchical_0_sgld_epoch_69_.params',\n",
       " '../scripts/results/lenet/chain_hierarchical_0_sgld_epoch_87_.params',\n",
       " '../scripts/results/lenet/chain_hierarchical_0_sgld_epoch_82_.params',\n",
       " '../scripts/results/lenet/chain_hierarchical_0_sgld_epoch_201_.params',\n",
       " '../scripts/results/lenet/chain_hierarchical_0_sgld_epoch_18_.params',\n",
       " '../scripts/results/lenet/chain_hierarchical_0_sgld_epoch_145_.params',\n",
       " '../scripts/results/lenet/chain_hierarchical_0_sgld_epoch_161_.params',\n",
       " '../scripts/results/lenet/chain_hierarchical_0_sgld_epoch_173_.params',\n",
       " '../scripts/results/lenet/chain_hierarchical_0_sgld_epoch_114_.params',\n",
       " '../scripts/results/lenet/chain_hierarchical_0_sgld_epoch_127_.params',\n",
       " '../scripts/results/lenet/chain_hierarchical_0_sgld_epoch_119_.params',\n",
       " '../scripts/results/lenet/chain_hierarchical_0_sgld_epoch_4_.params',\n",
       " '../scripts/results/lenet/chain_hierarchical_0_sgld_epoch_229_.params',\n",
       " '../scripts/results/lenet/chain_hierarchical_0_sgld_epoch_167_.params',\n",
       " '../scripts/results/lenet/chain_hierarchical_0_sgld_epoch_103_.params',\n",
       " '../scripts/results/lenet/chain_hierarchical_0_sgld_epoch_7_.params',\n",
       " '../scripts/results/lenet/chain_hierarchical_0_sgld_epoch_141_.params',\n",
       " '../scripts/results/lenet/chain_hierarchical_0_sgld_epoch_21_.params',\n",
       " '../scripts/results/lenet/chain_hierarchical_0_sgld_epoch_40_.params',\n",
       " '../scripts/results/lenet/chain_hierarchical_0_sgld_epoch_213_.params',\n",
       " '../scripts/results/lenet/chain_hierarchical_0_sgld_epoch_186_.params',\n",
       " '../scripts/results/lenet/chain_hierarchical_0_sgld_epoch_182_.params',\n",
       " '../scripts/results/lenet/chain_hierarchical_0_sgld_epoch_235_.params',\n",
       " '../scripts/results/lenet/chain_hierarchical_0_sgld_epoch_142_.params',\n",
       " '../scripts/results/lenet/chain_hierarchical_0_sgld_epoch_177_.params',\n",
       " '../scripts/results/lenet/chain_hierarchical_0_sgld_epoch_194_.params',\n",
       " '../scripts/results/lenet/chain_hierarchical_0_sgld_epoch_236_.params',\n",
       " '../scripts/results/lenet/chain_hierarchical_0_sgld_epoch_192_.params',\n",
       " '../scripts/results/lenet/chain_hierarchical_0_sgld_epoch_164_.params',\n",
       " '../scripts/results/lenet/chain_hierarchical_0_sgld_epoch_204_.params',\n",
       " '../scripts/results/lenet/chain_hierarchical_0_sgld_epoch_14_.params',\n",
       " '../scripts/results/lenet/chain_hierarchical_0_sgld_epoch_5_.params',\n",
       " '../scripts/results/lenet/chain_hierarchical_0_sgld_epoch_230_.params',\n",
       " '../scripts/results/lenet/chain_hierarchical_0_sgld_epoch_181_.params',\n",
       " '../scripts/results/lenet/chain_hierarchical_0_sgld_epoch_151_.params',\n",
       " '../scripts/results/lenet/chain_hierarchical_0_sgld_epoch_98_.params',\n",
       " '../scripts/results/lenet/chain_hierarchical_0_sgld_epoch_212_.params',\n",
       " '../scripts/results/lenet/chain_hierarchical_0_sgld_epoch_88_.params',\n",
       " '../scripts/results/lenet/chain_hierarchical_0_sgld_epoch_32_.params',\n",
       " '../scripts/results/lenet/chain_hierarchical_0_sgld_epoch_77_.params',\n",
       " '../scripts/results/lenet/chain_hierarchical_0_sgld_epoch_245_.params',\n",
       " '../scripts/results/lenet/chain_hierarchical_0_sgld_epoch_49_.params',\n",
       " '../scripts/results/lenet/chain_hierarchical_0_sgld_epoch_76_.params',\n",
       " '../scripts/results/lenet/chain_hierarchical_0_sgld_epoch_81_.params',\n",
       " '../scripts/results/lenet/chain_hierarchical_0_sgld_epoch_234_.params',\n",
       " '../scripts/results/lenet/chain_hierarchical_0_sgld_epoch_41_.params',\n",
       " '../scripts/results/lenet/chain_hierarchical_0_sgld_epoch_92_.params',\n",
       " '../scripts/results/lenet/chain_hierarchical_0_sgld_epoch_220_.params',\n",
       " '../scripts/results/lenet/chain_hierarchical_0_sgld_epoch_222_.params',\n",
       " '../scripts/results/lenet/chain_hierarchical_0_sgld_epoch_178_.params',\n",
       " '../scripts/results/lenet/chain_hierarchical_0_sgld_epoch_146_.params',\n",
       " '../scripts/results/lenet/chain_hierarchical_0_sgld_epoch_233_.params',\n",
       " '../scripts/results/lenet/chain_hierarchical_0_sgld_epoch_109_.params',\n",
       " '../scripts/results/lenet/chain_hierarchical_0_sgld_epoch_155_.params',\n",
       " '../scripts/results/lenet/chain_hierarchical_0_sgld_epoch_248_.params',\n",
       " '../scripts/results/lenet/chain_hierarchical_0_sgld_epoch_217_.params',\n",
       " '../scripts/results/lenet/chain_hierarchical_0_sgld_epoch_219_.params',\n",
       " '../scripts/results/lenet/chain_hierarchical_0_sgld_epoch_191_.params',\n",
       " '../scripts/results/lenet/chain_hierarchical_0_sgld_epoch_170_.params',\n",
       " '../scripts/results/lenet/chain_hierarchical_0_sgld_epoch_139_.params',\n",
       " '../scripts/results/lenet/chain_hierarchical_0_sgld_epoch_188_.params',\n",
       " '../scripts/results/lenet/chain_hierarchical_0_sgld_epoch_174_.params',\n",
       " '../scripts/results/lenet/chain_hierarchical_0_sgld_epoch_115_.params',\n",
       " '../scripts/results/lenet/chain_hierarchical_0_sgld_epoch_121_.params',\n",
       " '../scripts/results/lenet/chain_hierarchical_0_sgld_epoch_1_.params',\n",
       " '../scripts/results/lenet/chain_hierarchical_0_sgld_epoch_105_.params',\n",
       " '../scripts/results/lenet/chain_hierarchical_0_sgld_epoch_43_.params',\n",
       " '../scripts/results/lenet/chain_hierarchical_0_sgld_epoch_122_.params',\n",
       " '../scripts/results/lenet/chain_hierarchical_0_sgld_epoch_125_.params',\n",
       " '../scripts/results/lenet/chain_hierarchical_0_sgld_epoch_63_.params',\n",
       " '../scripts/results/lenet/chain_hierarchical_0_sgld_epoch_116_.params',\n",
       " '../scripts/results/lenet/chain_hierarchical_0_sgld_epoch_171_.params',\n",
       " '../scripts/results/lenet/chain_hierarchical_0_sgld_epoch_54_.params',\n",
       " '../scripts/results/lenet/chain_hierarchical_0_sgld_epoch_93_.params',\n",
       " '../scripts/results/lenet/chain_hierarchical_0_sgld_epoch_118_.params',\n",
       " '../scripts/results/lenet/chain_hierarchical_0_sgld_epoch_218_.params',\n",
       " '../scripts/results/lenet/chain_hierarchical_0_sgld_epoch_231_.params',\n",
       " '../scripts/results/lenet/chain_hierarchical_0_sgld_epoch_200_.params',\n",
       " '../scripts/results/lenet/chain_hierarchical_0_sgld_epoch_104_.params',\n",
       " '../scripts/results/lenet/chain_hierarchical_0_sgld_epoch_205_.params',\n",
       " '../scripts/results/lenet/chain_hierarchical_0_sgld_epoch_184_.params',\n",
       " '../scripts/results/lenet/chain_hierarchical_0_sgld_epoch_133_.params',\n",
       " '../scripts/results/lenet/chain_hierarchical_0_sgld_epoch_202_.params',\n",
       " '../scripts/results/lenet/chain_hierarchical_0_sgld_epoch_8_.params',\n",
       " '../scripts/results/lenet/chain_hierarchical_0_sgld_epoch_9_.params',\n",
       " '../scripts/results/lenet/chain_hierarchical_0_sgld_epoch_99_.params',\n",
       " '../scripts/results/lenet/chain_hierarchical_0_sgld_epoch_216_.params',\n",
       " '../scripts/results/lenet/chain_hierarchical_0_sgld_epoch_44_.params',\n",
       " '../scripts/results/lenet/chain_hierarchical_0_sgld_epoch_207_.params',\n",
       " '../scripts/results/lenet/chain_hierarchical_0_sgld_epoch_55_.params',\n",
       " '../scripts/results/lenet/chain_hierarchical_0_sgld_epoch_206_.params',\n",
       " '../scripts/results/lenet/chain_hierarchical_0_sgld_epoch_143_.params',\n",
       " '../scripts/results/lenet/chain_hierarchical_0_sgld_epoch_19_.params',\n",
       " '../scripts/results/lenet/chain_hierarchical_0_sgld_epoch_224_.params',\n",
       " '../scripts/results/lenet/chain_hierarchical_0_sgld_epoch_159_.params',\n",
       " '../scripts/results/lenet/chain_hierarchical_0_sgld_epoch_102_.params',\n",
       " '../scripts/results/lenet/chain_hierarchical_0_sgld_epoch_163_.params',\n",
       " '../scripts/results/lenet/chain_hierarchical_0_sgld_epoch_42_.params',\n",
       " '../scripts/results/lenet/chain_hierarchical_0_sgld_epoch_211_.params',\n",
       " '../scripts/results/lenet/chain_hierarchical_0_sgld_epoch_45_.params',\n",
       " '../scripts/results/lenet/chain_hierarchical_0_sgld_epoch_172_.params',\n",
       " '../scripts/results/lenet/chain_hierarchical_0_sgld_epoch_165_.params',\n",
       " '../scripts/results/lenet/chain_hierarchical_0_sgld_epoch_239_.params',\n",
       " '../scripts/results/lenet/chain_hierarchical_0_sgld_epoch_228_.params',\n",
       " '../scripts/results/lenet/chain_hierarchical_0_sgld_epoch_20_.params',\n",
       " '../scripts/results/lenet/chain_hierarchical_0_sgld_epoch_247_.params',\n",
       " '../scripts/results/lenet/chain_hierarchical_0_sgld_epoch_237_.params',\n",
       " '../scripts/results/lenet/chain_hierarchical_0_sgld_epoch_132_.params',\n",
       " '../scripts/results/lenet/chain_hierarchical_0_sgld_epoch_71_.params',\n",
       " '../scripts/results/lenet/chain_hierarchical_0_sgld_epoch_23_.params',\n",
       " '../scripts/results/lenet/chain_hierarchical_0_sgld_epoch_79_.params',\n",
       " '../scripts/results/lenet/chain_hierarchical_0_sgld_epoch_62_.params',\n",
       " '../scripts/results/lenet/chain_hierarchical_0_sgld_epoch_47_.params',\n",
       " '../scripts/results/lenet/chain_hierarchical_0_sgld_epoch_249_.params',\n",
       " '../scripts/results/lenet/chain_hierarchical_0_sgld_epoch_227_.params',\n",
       " '../scripts/results/lenet/chain_hierarchical_0_sgld_epoch_68_.params',\n",
       " '../scripts/results/lenet/chain_hierarchical_0_sgld_epoch_15_.params',\n",
       " '../scripts/results/lenet/chain_hierarchical_0_sgld_epoch_137_.params',\n",
       " '../scripts/results/lenet/chain_hierarchical_0_sgld_epoch_17_.params',\n",
       " '../scripts/results/lenet/chain_hierarchical_0_sgld_epoch_96_.params',\n",
       " '../scripts/results/lenet/chain_hierarchical_0_sgld_epoch_10_.params',\n",
       " '../scripts/results/lenet/chain_hierarchical_0_sgld_epoch_13_.params',\n",
       " '../scripts/results/lenet/chain_hierarchical_0_sgld_epoch_85_.params',\n",
       " '../scripts/results/lenet/chain_hierarchical_0_sgld_epoch_128_.params',\n",
       " '../scripts/results/lenet/chain_hierarchical_0_sgld_epoch_149_.params',\n",
       " '../scripts/results/lenet/chain_hierarchical_0_sgld_epoch_50_.params',\n",
       " '../scripts/results/lenet/chain_hierarchical_0_sgld_epoch_203_.params',\n",
       " '../scripts/results/lenet/chain_hierarchical_0_sgld_epoch_70_.params',\n",
       " '../scripts/results/lenet/chain_hierarchical_0_sgld_epoch_136_.params',\n",
       " '../scripts/results/lenet/chain_hierarchical_0_sgld_epoch_2_.params',\n",
       " '../scripts/results/lenet/chain_hierarchical_0_sgld_epoch_241_.params',\n",
       " '../scripts/results/lenet/chain_hierarchical_0_sgld_epoch_120_.params',\n",
       " '../scripts/results/lenet/chain_hierarchical_0_sgld_epoch_162_.params',\n",
       " '../scripts/results/lenet/chain_hierarchical_0_sgld_epoch_154_.params',\n",
       " '../scripts/results/lenet/chain_hierarchical_0_sgld_epoch_78_.params',\n",
       " '../scripts/results/lenet/chain_hierarchical_0_sgld_epoch_67_.params',\n",
       " '../scripts/results/lenet/chain_hierarchical_0_sgld_epoch_28_.params',\n",
       " '../scripts/results/lenet/chain_hierarchical_0_sgld_epoch_100_.params',\n",
       " '../scripts/results/lenet/chain_hierarchical_0_sgld_epoch_153_.params',\n",
       " '../scripts/results/lenet/chain_hierarchical_0_sgld_epoch_210_.params',\n",
       " '../scripts/results/lenet/chain_hierarchical_0_sgld_epoch_147_.params',\n",
       " '../scripts/results/lenet/chain_hierarchical_0_sgld_epoch_31_.params',\n",
       " '../scripts/results/lenet/chain_hierarchical_0_sgld_epoch_112_.params',\n",
       " '../scripts/results/lenet/chain_hierarchical_0_sgld_epoch_156_.params',\n",
       " '../scripts/results/lenet/chain_hierarchical_0_sgld_epoch_84_.params',\n",
       " '../scripts/results/lenet/chain_hierarchical_0_sgld_epoch_58_.params',\n",
       " '../scripts/results/lenet/chain_hierarchical_0_sgld_epoch_176_.params',\n",
       " '../scripts/results/lenet/chain_hierarchical_0_sgld_epoch_189_.params',\n",
       " '../scripts/results/lenet/chain_hierarchical_0_sgld_epoch_97_.params',\n",
       " '../scripts/results/lenet/chain_hierarchical_0_sgld_epoch_169_.params',\n",
       " '../scripts/results/lenet/chain_hierarchical_0_sgld_epoch_124_.params',\n",
       " '../scripts/results/lenet/chain_hierarchical_0_sgld_epoch_86_.params',\n",
       " '../scripts/results/lenet/chain_hierarchical_0_sgld_epoch_187_.params',\n",
       " '../scripts/results/lenet/chain_hierarchical_0_sgld_epoch_193_.params',\n",
       " '../scripts/results/lenet/chain_hierarchical_0_sgld_epoch_209_.params',\n",
       " '../scripts/results/lenet/chain_hierarchical_0_sgld_epoch_22_.params',\n",
       " '../scripts/results/lenet/chain_hierarchical_0_sgld_epoch_144_.params',\n",
       " '../scripts/results/lenet/chain_hierarchical_0_sgld_epoch_111_.params',\n",
       " '../scripts/results/lenet/chain_hierarchical_0_sgld_epoch_232_.params',\n",
       " '../scripts/results/lenet/chain_hierarchical_0_sgld_epoch_197_.params',\n",
       " '../scripts/results/lenet/chain_hierarchical_0_sgld_epoch_90_.params',\n",
       " '../scripts/results/lenet/chain_hierarchical_0_sgld_epoch_60_.params',\n",
       " '../scripts/results/lenet/chain_hierarchical_0_sgld_epoch_242_.params',\n",
       " '../scripts/results/lenet/chain_hierarchical_0_sgld_epoch_221_.params',\n",
       " '../scripts/results/lenet/chain_hierarchical_0_sgld_epoch_65_.params',\n",
       " '../scripts/results/lenet/chain_hierarchical_0_sgld_epoch_52_.params',\n",
       " '../scripts/results/lenet/chain_hierarchical_0_sgld_epoch_16_.params',\n",
       " '../scripts/results/lenet/chain_hierarchical_0_sgld_epoch_29_.params',\n",
       " '../scripts/results/lenet/chain_hierarchical_0_sgld_epoch_126_.params',\n",
       " '../scripts/results/lenet/chain_hierarchical_0_sgld_epoch_168_.params',\n",
       " '../scripts/results/lenet/chain_hierarchical_0_sgld_epoch_64_.params',\n",
       " '../scripts/results/lenet/chain_hierarchical_0_sgld_epoch_3_.params',\n",
       " '../scripts/results/lenet/chain_hierarchical_0_sgld_epoch_199_.params',\n",
       " '../scripts/results/lenet/chain_hierarchical_0_sgld_epoch_51_.params',\n",
       " '../scripts/results/lenet/chain_hierarchical_0_sgld_epoch_73_.params',\n",
       " '../scripts/results/lenet/chain_hierarchical_0_sgld_epoch_53_.params',\n",
       " '../scripts/results/lenet/chain_hierarchical_0_sgld_epoch_198_.params',\n",
       " '../scripts/results/lenet/chain_hierarchical_0_sgld_epoch_33_.params',\n",
       " '../scripts/results/lenet/chain_hierarchical_0_sgld_epoch_80_.params',\n",
       " '../scripts/results/lenet/chain_hierarchical_0_sgld_epoch_61_.params',\n",
       " '../scripts/results/lenet/chain_hierarchical_0_sgld_epoch_95_.params',\n",
       " '../scripts/results/lenet/chain_hierarchical_0_sgld_epoch_240_.params',\n",
       " '../scripts/results/lenet/chain_hierarchical_0_sgld_epoch_37_.params',\n",
       " '../scripts/results/lenet/chain_hierarchical_0_sgld_epoch_11_.params',\n",
       " '../scripts/results/lenet/chain_hierarchical_0_sgld_epoch_244_.params',\n",
       " '../scripts/results/lenet/chain_hierarchical_0_sgld_epoch_48_.params',\n",
       " '../scripts/results/lenet/chain_hierarchical_0_sgld_epoch_208_.params',\n",
       " '../scripts/results/lenet/chain_hierarchical_0_sgld_epoch_131_.params',\n",
       " '../scripts/results/lenet/chain_hierarchical_0_sgld_epoch_6_.params',\n",
       " '../scripts/results/lenet/chain_hierarchical_0_sgld_epoch_72_.params',\n",
       " '../scripts/results/lenet/chain_hierarchical_0_sgld_epoch_215_.params',\n",
       " '../scripts/results/lenet/chain_hierarchical_0_sgld_epoch_106_.params',\n",
       " '../scripts/results/lenet/chain_hierarchical_0_sgld_epoch_183_.params',\n",
       " '../scripts/results/lenet/chain_hierarchical_0_sgld_epoch_107_.params',\n",
       " '../scripts/results/lenet/chain_hierarchical_0_sgld_epoch_238_.params',\n",
       " '../scripts/results/lenet/chain_hierarchical_0_sgld_epoch_140_.params',\n",
       " '../scripts/results/lenet/chain_hierarchical_0_sgld_epoch_180_.params',\n",
       " '../scripts/results/lenet/chain_hierarchical_0_sgld_epoch_150_.params',\n",
       " '../scripts/results/lenet/chain_hierarchical_0_sgld_epoch_130_.params',\n",
       " '../scripts/results/lenet/chain_hierarchical_0_sgld_epoch_26_.params',\n",
       " '../scripts/results/lenet/chain_hierarchical_0_sgld_epoch_35_.params',\n",
       " '../scripts/results/lenet/chain_hierarchical_0_sgld_epoch_246_.params',\n",
       " '../scripts/results/lenet/chain_hierarchical_0_sgld_epoch_101_.params',\n",
       " '../scripts/results/lenet/chain_hierarchical_0_sgld_epoch_0_.params',\n",
       " '../scripts/results/lenet/chain_hierarchical_0_sgld_epoch_226_.params',\n",
       " '../scripts/results/lenet/chain_hierarchical_0_sgld_epoch_214_.params',\n",
       " '../scripts/results/lenet/chain_hierarchical_0_sgld_epoch_89_.params',\n",
       " '../scripts/results/lenet/chain_hierarchical_0_sgld_epoch_12_.params',\n",
       " '../scripts/results/lenet/chain_hierarchical_0_sgld_epoch_30_.params',\n",
       " '../scripts/results/lenet/chain_hierarchical_0_sgld_epoch_225_.params',\n",
       " '../scripts/results/lenet/chain_hierarchical_0_sgld_epoch_24_.params',\n",
       " '../scripts/results/lenet/chain_hierarchical_0_sgld_epoch_74_.params',\n",
       " '../scripts/results/lenet/chain_hierarchical_0_sgld_epoch_134_.params',\n",
       " '../scripts/results/lenet/chain_hierarchical_0_sgld_epoch_129_.params',\n",
       " '../scripts/results/lenet/chain_hierarchical_0_sgld_epoch_27_.params',\n",
       " '../scripts/results/lenet/chain_hierarchical_0_sgld_epoch_160_.params',\n",
       " '../scripts/results/lenet/chain_hierarchical_0_sgld_epoch_179_.params',\n",
       " '../scripts/results/lenet/chain_hierarchical_0_sgld_epoch_25_.params',\n",
       " '../scripts/results/lenet/chain_hierarchical_0_sgld_epoch_190_.params',\n",
       " '../scripts/results/lenet/chain_hierarchical_0_sgld_epoch_46_.params',\n",
       " '../scripts/results/lenet/chain_hierarchical_0_sgld_epoch_185_.params',\n",
       " '../scripts/results/lenet/chain_hierarchical_0_sgld_epoch_59_.params',\n",
       " '../scripts/results/lenet/chain_hierarchical_0_sgld_epoch_91_.params']"
      ]
     },
     "execution_count": 50,
     "metadata": {},
     "output_type": "execute_result"
    }
   ],
   "source": [
    "posterior_samples_flat"
   ]
  },
  {
   "cell_type": "code",
   "execution_count": null,
   "metadata": {},
   "outputs": [],
   "source": []
  },
  {
   "cell_type": "code",
   "execution_count": null,
   "metadata": {},
   "outputs": [],
   "source": []
  },
  {
   "cell_type": "code",
   "execution_count": null,
   "metadata": {},
   "outputs": [],
   "source": []
  },
  {
   "cell_type": "markdown",
   "metadata": {},
   "source": [
    "# BBB"
   ]
  },
  {
   "cell_type": "code",
   "execution_count": null,
   "metadata": {},
   "outputs": [],
   "source": [
    "from sklearn.metrics import classification_report\n",
    "import mxnet.gluon.probability as mxp\n",
    "\n",
    "def softplus(x):\n",
    "    return nd.log(1. + nd.exp(x))\n",
    "\n",
    "posterior=dict()\n",
    "for var in par.keys():\n",
    "    variational_posterior=mxp.normal.Normal(loc=means[var],\n",
    "                                            scale=softplus(sigmas[var]))\n",
    "    posterior.update({var:variational_posterior})\n",
    "    \n",
    "samples=[]\n",
    "for _ in range(100):\n",
    "    post_par=dict()\n",
    "    for var in par.keys():\n",
    "        post_par.update({var:posterior[var].sample().as_nd_ndarray()})\n",
    "    y_pred=model.predict(post_par,nd.array(X_test,ctx=model_ctx))\n",
    "    samples.append(y_pred.sample().asnumpy())\n",
    "samples=np.asarray(samples)\n",
    "y_hat=np.quantile(samples,.5,axis=0)\n",
    "\n",
    "print(classification_report(np.int32(y_test),np.int32(y_hat)))"
   ]
  },
  {
   "cell_type": "code",
   "execution_count": null,
   "metadata": {},
   "outputs": [],
   "source": []
  }
 ],
 "metadata": {
  "kernelspec": {
   "display_name": "Python 3",
   "language": "python",
   "name": "python3"
  },
  "language_info": {
   "codemirror_mode": {
    "name": "ipython",
    "version": 3
   },
   "file_extension": ".py",
   "mimetype": "text/x-python",
   "name": "python",
   "nbconvert_exporter": "python",
   "pygments_lexer": "ipython3",
   "version": "3.8.6"
  }
 },
 "nbformat": 4,
 "nbformat_minor": 4
}
