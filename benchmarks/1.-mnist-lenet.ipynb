{
 "cells": [
  {
   "cell_type": "code",
   "execution_count": 1,
   "metadata": {},
   "outputs": [],
   "source": [
    "import sys\n",
    "sys.path.append(\"../\") "
   ]
  },
  {
   "cell_type": "code",
   "execution_count": 2,
   "metadata": {},
   "outputs": [],
   "source": [
    "from __future__ import division\n",
    "\n",
    "import argparse, time, logging, random, math\n",
    "\n",
    "import numpy as np\n",
    "import mxnet as mx\n",
    "\n",
    "from mxnet import gluon, nd\n",
    "from mxnet import autograd as ag\n",
    "from mxnet.gluon import nn\n",
    "from mxnet.gluon.data.vision import transforms"
   ]
  },
  {
   "cell_type": "code",
   "execution_count": 3,
   "metadata": {},
   "outputs": [
    {
     "data": {
      "text/plain": [
       "'2.0.0beta1'"
      ]
     },
     "execution_count": 3,
     "metadata": {},
     "output_type": "execute_result"
    }
   ],
   "source": [
    "mx.__version__"
   ]
  },
  {
   "cell_type": "code",
   "execution_count": 4,
   "metadata": {},
   "outputs": [],
   "source": [
    "transform = transforms.Compose([\n",
    "    transforms.ToTensor(),\n",
    "    transforms.Normalize(0.,1.)\n",
    "])"
   ]
  },
  {
   "cell_type": "code",
   "execution_count": 5,
   "metadata": {},
   "outputs": [
    {
     "name": "stderr",
     "output_type": "stream",
     "text": [
      "[12:03:27] ../src/storage/storage.cc:202: Using Pooled (Naive) StorageManager for CPU\n"
     ]
    }
   ],
   "source": [
    "num_gpus = 0\n",
    "model_ctx = mx.gpu()\n",
    "\n",
    "num_workers = 0\n",
    "batch_size = 256 \n",
    "train_data = gluon.data.DataLoader(\n",
    "    gluon.data.vision.MNIST(train=True).transform_first(transform),\n",
    "    batch_size=batch_size, shuffle=True, last_batch='discard', num_workers=num_workers)\n",
    "\n",
    "val_data = gluon.data.DataLoader(\n",
    "    gluon.data.vision.MNIST(train=False).transform_first(transform),\n",
    "    batch_size=batch_size, shuffle=False, num_workers=num_workers)"
   ]
  },
  {
   "cell_type": "code",
   "execution_count": 6,
   "metadata": {},
   "outputs": [
    {
     "name": "stdout",
     "output_type": "stream",
     "text": [
      "(256, 1, 28, 28)\n",
      "(256,)\n"
     ]
    }
   ],
   "source": [
    "for X,y in train_data:\n",
    "    print(X.shape)\n",
    "    print(y.shape)\n",
    "    break"
   ]
  },
  {
   "cell_type": "code",
   "execution_count": 7,
   "metadata": {},
   "outputs": [
    {
     "data": {
      "text/plain": [
       "gpu(0)"
      ]
     },
     "execution_count": 7,
     "metadata": {},
     "output_type": "execute_result"
    }
   ],
   "source": [
    "model_ctx"
   ]
  },
  {
   "cell_type": "code",
   "execution_count": 8,
   "metadata": {},
   "outputs": [
    {
     "data": {
      "text/plain": [
       "mxnet.numpy.ndarray"
      ]
     },
     "execution_count": 8,
     "metadata": {},
     "output_type": "execute_result"
    }
   ],
   "source": [
    "type(X)"
   ]
  },
  {
   "cell_type": "code",
   "execution_count": 10,
   "metadata": {},
   "outputs": [
    {
     "data": {
      "text/plain": [
       "cpu(0)"
      ]
     },
     "execution_count": 10,
     "metadata": {},
     "output_type": "execute_result"
    }
   ],
   "source": [
    "X.device"
   ]
  },
  {
   "cell_type": "markdown",
   "metadata": {},
   "source": [
    "### Bayesian inference for MNIST\n",
    "\n",
    "* [Stochastic Gradient Descent](#chapter1)\n",
    "* [Stochastic Gradient Langevin Dynamics](#chapter2)\n",
    "* [Bayes By Backprop](#chapter3)\n",
    "* [Diagnostics](#chapter4)\n"
   ]
  },
  {
   "cell_type": "markdown",
   "metadata": {},
   "source": [
    "# Stochastic Gradient Descent <a class=\"anchor\" id=\"chapter1\"></a>"
   ]
  },
  {
   "cell_type": "code",
   "execution_count": 13,
   "metadata": {},
   "outputs": [],
   "source": [
    "import mxnet as mx\n",
    "from mxnet import nd, autograd, gluon\n",
    "hyper={'alpha':10.}\n",
    "in_units=(1,28,28)\n",
    "out_units=10"
   ]
  },
  {
   "cell_type": "code",
   "execution_count": 15,
   "metadata": {},
   "outputs": [
    {
     "name": "stdout",
     "output_type": "stream",
     "text": [
      "Collecting h5py\n",
      "  Downloading h5py-3.7.0-cp38-cp38-manylinux_2_12_x86_64.manylinux2010_x86_64.whl (4.5 MB)\n",
      "\u001b[2K     \u001b[38;2;114;156;31m━━━━━━━━━━━━━━━━━━━━━━━━━━━━━━━━━━━━━━━━\u001b[0m \u001b[32m4.5/4.5 MB\u001b[0m \u001b[31m34.5 MB/s\u001b[0m eta \u001b[36m0:00:00\u001b[0mm eta \u001b[36m0:00:01\u001b[0m0:01\u001b[0m\n",
      "\u001b[?25hRequirement already satisfied: numpy>=1.14.5 in /home/sergio/envs/mxnet2/lib/python3.8/site-packages (from h5py) (1.23.2)\n",
      "Installing collected packages: h5py\n",
      "Successfully installed h5py-3.7.0\n"
     ]
    }
   ],
   "source": [
    "!pip3 install h5py"
   ]
  },
  {
   "cell_type": "code",
   "execution_count": 16,
   "metadata": {},
   "outputs": [
    {
     "name": "stderr",
     "output_type": "stream",
     "text": [
      "[12:05:56] ../src/base.cc:79: cuDNN lib mismatch: linked-against version 8202 != compiled-against version 8101.  Set MXNET_CUDNN_LIB_CHECKING=0 to quiet this warning.\n",
      "[12:05:59] ../src/storage/storage.cc:202: Using Pooled (Naive) StorageManager for GPU\n",
      "[12:06:03] ../src/operator/cudnn_ops.cc:341: Auto-tuning cuDNN op, set MXNET_CUDNN_AUTOTUNE_DEFAULT to 0 to disable\n",
      "[12:06:04] ../src/operator/cudnn_ops.cc:341: Auto-tuning cuDNN op, set MXNET_CUDNN_AUTOTUNE_DEFAULT to 0 to disable\n"
     ]
    }
   ],
   "source": [
    "import mxnet as mx\n",
    "from hamiltonian.inference.sgd import sgd\n",
    "from hamiltonian.models.softmax import lenet\n",
    "\n",
    "model=lenet(hyper,in_units,out_units,ctx=model_ctx)\n",
    "inference=sgd(model,step_size=0.01,ctx=model_ctx)"
   ]
  },
  {
   "cell_type": "code",
   "execution_count": 17,
   "metadata": {},
   "outputs": [
    {
     "name": "stdout",
     "output_type": "stream",
     "text": [
      "modules re-loaded\n"
     ]
    }
   ],
   "source": [
    "import hamiltonian\n",
    "import importlib\n",
    "\n",
    "try:\n",
    "    importlib.reload(hamiltonian.models.softmax)\n",
    "    importlib.reload(hamiltonian.inference.sgd)\n",
    "    print('modules re-loaded')\n",
    "except:\n",
    "    print('no modules loaded yet')\n"
   ]
  },
  {
   "cell_type": "code",
   "execution_count": 18,
   "metadata": {},
   "outputs": [
    {
     "name": "stdout",
     "output_type": "stream",
     "text": [
      "iteration 0, train loss: 2.0165, train accuracy : 0.5156\n",
      "iteration 1, train loss: 0.3741, train accuracy : 0.7402\n",
      "iteration 2, train loss: 0.1346, train accuracy : 0.8177\n",
      "iteration 3, train loss: 0.0918, train accuracy : 0.8633\n",
      "iteration 4, train loss: 0.0692, train accuracy : 0.8891\n",
      "iteration 5, train loss: 0.0550, train accuracy : 0.9076\n",
      "iteration 6, train loss: 0.0467, train accuracy : 0.9202\n",
      "iteration 7, train loss: 0.0400, train accuracy : 0.9302\n",
      "iteration 8, train loss: 0.0357, train accuracy : 0.9379\n",
      "iteration 9, train loss: 0.0331, train accuracy : 0.9441\n",
      "iteration 10, train loss: 0.0278, train accuracy : 0.9492\n",
      "iteration 11, train loss: 0.0259, train accuracy : 0.9528\n",
      "iteration 12, train loss: 0.0238, train accuracy : 0.9564\n",
      "iteration 13, train loss: 0.0208, train accuracy : 0.9595\n",
      "iteration 14, train loss: 0.0197, train accuracy : 0.9622\n",
      "iteration 15, train loss: 0.0170, train accuracy : 0.9646\n",
      "iteration 16, train loss: 0.0170, train accuracy : 0.9665\n",
      "iteration 17, train loss: 0.0164, train accuracy : 0.9683\n",
      "iteration 18, train loss: 0.0142, train accuracy : 0.9700\n",
      "iteration 19, train loss: 0.0135, train accuracy : 0.9715\n",
      "iteration 20, train loss: 0.0119, train accuracy : 0.9728\n",
      "iteration 21, train loss: 0.0117, train accuracy : 0.9741\n",
      "iteration 22, train loss: 0.0116, train accuracy : 0.9752\n",
      "iteration 23, train loss: 0.0103, train accuracy : 0.9762\n",
      "iteration 24, train loss: 0.0093, train accuracy : 0.9772\n",
      "iteration 25, train loss: 0.0094, train accuracy : 0.9781\n",
      "iteration 26, train loss: 0.0096, train accuracy : 0.9789\n",
      "iteration 27, train loss: 0.0094, train accuracy : 0.9796\n",
      "iteration 28, train loss: 0.0085, train accuracy : 0.9803\n",
      "iteration 29, train loss: 0.0079, train accuracy : 0.9809\n",
      "iteration 30, train loss: 0.0076, train accuracy : 0.9815\n",
      "iteration 31, train loss: 0.0089, train accuracy : 0.9821\n",
      "iteration 32, train loss: 0.0071, train accuracy : 0.9826\n",
      "iteration 33, train loss: 0.0071, train accuracy : 0.9831\n",
      "iteration 34, train loss: 0.0072, train accuracy : 0.9836\n",
      "iteration 35, train loss: 0.0058, train accuracy : 0.9840\n",
      "iteration 36, train loss: 0.0055, train accuracy : 0.9845\n",
      "iteration 37, train loss: 0.0048, train accuracy : 0.9849\n",
      "iteration 38, train loss: 0.0061, train accuracy : 0.9853\n",
      "iteration 39, train loss: 0.0056, train accuracy : 0.9856\n",
      "iteration 40, train loss: 0.0052, train accuracy : 0.9860\n",
      "iteration 41, train loss: 0.0061, train accuracy : 0.9863\n",
      "iteration 42, train loss: 0.0047, train accuracy : 0.9866\n",
      "iteration 43, train loss: 0.0061, train accuracy : 0.9869\n",
      "iteration 44, train loss: 0.0052, train accuracy : 0.9872\n",
      "iteration 45, train loss: 0.0055, train accuracy : 0.9875\n",
      "iteration 46, train loss: 0.0046, train accuracy : 0.9878\n",
      "iteration 47, train loss: 0.0046, train accuracy : 0.9880\n",
      "iteration 48, train loss: 0.0040, train accuracy : 0.9883\n",
      "iteration 49, train loss: 0.0057, train accuracy : 0.9885\n",
      "iteration 50, train loss: 0.0042, train accuracy : 0.9887\n",
      "iteration 51, train loss: 0.0048, train accuracy : 0.9890\n",
      "iteration 52, train loss: 0.0061, train accuracy : 0.9892\n",
      "iteration 53, train loss: 0.0046, train accuracy : 0.9894\n",
      "iteration 54, train loss: 0.0044, train accuracy : 0.9896\n",
      "iteration 55, train loss: 0.0039, train accuracy : 0.9897\n",
      "iteration 56, train loss: 0.0037, train accuracy : 0.9899\n",
      "iteration 57, train loss: 0.0039, train accuracy : 0.9901\n",
      "iteration 58, train loss: 0.0041, train accuracy : 0.9903\n",
      "iteration 59, train loss: 0.0042, train accuracy : 0.9904\n",
      "iteration 60, train loss: 0.0052, train accuracy : 0.9906\n",
      "iteration 61, train loss: 0.0034, train accuracy : 0.9907\n",
      "iteration 62, train loss: 0.0043, train accuracy : 0.9909\n",
      "iteration 63, train loss: 0.0049, train accuracy : 0.9910\n",
      "iteration 64, train loss: 0.0045, train accuracy : 0.9912\n",
      "iteration 65, train loss: 0.0049, train accuracy : 0.9913\n",
      "iteration 66, train loss: 0.0044, train accuracy : 0.9914\n",
      "iteration 67, train loss: 0.0042, train accuracy : 0.9916\n",
      "iteration 68, train loss: 0.0047, train accuracy : 0.9917\n",
      "iteration 69, train loss: 0.0041, train accuracy : 0.9918\n",
      "iteration 70, train loss: 0.0037, train accuracy : 0.9919\n",
      "iteration 71, train loss: 0.0029, train accuracy : 0.9920\n",
      "iteration 72, train loss: 0.0030, train accuracy : 0.9921\n",
      "iteration 73, train loss: 0.0032, train accuracy : 0.9922\n",
      "iteration 74, train loss: 0.0040, train accuracy : 0.9923\n",
      "iteration 75, train loss: 0.0035, train accuracy : 0.9924\n",
      "iteration 76, train loss: 0.0030, train accuracy : 0.9925\n",
      "iteration 77, train loss: 0.0042, train accuracy : 0.9926\n",
      "iteration 78, train loss: 0.0043, train accuracy : 0.9927\n",
      "iteration 79, train loss: 0.0040, train accuracy : 0.9928\n",
      "iteration 80, train loss: 0.0023, train accuracy : 0.9929\n",
      "iteration 81, train loss: 0.0032, train accuracy : 0.9930\n",
      "iteration 82, train loss: 0.0036, train accuracy : 0.9931\n",
      "iteration 83, train loss: 0.0023, train accuracy : 0.9932\n",
      "iteration 84, train loss: 0.0030, train accuracy : 0.9932\n",
      "iteration 85, train loss: 0.0034, train accuracy : 0.9933\n",
      "iteration 86, train loss: 0.0031, train accuracy : 0.9934\n",
      "iteration 87, train loss: 0.0039, train accuracy : 0.9935\n",
      "iteration 88, train loss: 0.0030, train accuracy : 0.9935\n",
      "iteration 89, train loss: 0.0027, train accuracy : 0.9936\n",
      "iteration 90, train loss: 0.0030, train accuracy : 0.9937\n",
      "iteration 91, train loss: 0.0024, train accuracy : 0.9938\n",
      "iteration 92, train loss: 0.0029, train accuracy : 0.9938\n",
      "iteration 93, train loss: 0.0022, train accuracy : 0.9939\n",
      "iteration 94, train loss: 0.0040, train accuracy : 0.9940\n",
      "iteration 95, train loss: 0.0026, train accuracy : 0.9940\n",
      "iteration 96, train loss: 0.0018, train accuracy : 0.9941\n",
      "iteration 97, train loss: 0.0019, train accuracy : 0.9941\n",
      "iteration 98, train loss: 0.0020, train accuracy : 0.9942\n",
      "iteration 99, train loss: 0.0027, train accuracy : 0.9943\n"
     ]
    },
    {
     "data": {
      "image/png": "[encoded data removed]",
      "text/plain": [
       "<Figure size 500x500 with 1 Axes>"
      ]
     },
     "metadata": {},
     "output_type": "display_data"
    }
   ],
   "source": [
    "train_sgd=True\n",
    "num_epochs=100\n",
    "import h5py\n",
    "import matplotlib.pyplot as plt\n",
    "\n",
    "if train_sgd:\n",
    "    par,loss=inference.fit(epochs=num_epochs,batch_size=batch_size,data_loader=train_data,\n",
    "                           chain_name='lenet_map.h5',verbose=True)\n",
    "\n",
    "    fig=plt.figure(figsize=[5,5])\n",
    "    plt.plot(loss,color='blue',lw=3)\n",
    "    plt.xlabel('Epoch', size=18)\n",
    "    plt.ylabel('Loss', size=18)\n",
    "    plt.title('SGD Lenet MNIST', size=18)\n",
    "    plt.xticks(size=14)\n",
    "    plt.yticks(size=14)\n",
    "    plt.savefig('sgd_lenet.pdf', bbox_inches='tight')\n",
    "else:\n",
    "    map_estimate=h5py.File('lenet_map.h5','r')\n",
    "    par={var:map_estimate[var][:] for var in map_estimate.keys()}\n",
    "    map_estimate.close()\n",
    "    "
   ]
  },
  {
   "cell_type": "code",
   "execution_count": 21,
   "metadata": {},
   "outputs": [
    {
     "data": {
      "text/plain": [
       "{'0.weight': Parameter (shape=(6, 1, 5, 5), dtype=<class 'numpy.float32'>),\n",
       " '0.bias': Parameter (shape=(6,), dtype=<class 'numpy.float32'>),\n",
       " '2.weight': Parameter (shape=(16, 6, 5, 5), dtype=<class 'numpy.float32'>),\n",
       " '2.bias': Parameter (shape=(16,), dtype=<class 'numpy.float32'>),\n",
       " '4.weight': Parameter (shape=(120, 400), dtype=float32),\n",
       " '4.bias': Parameter (shape=(120,), dtype=float32),\n",
       " '5.weight': Parameter (shape=(84, 120), dtype=float32),\n",
       " '5.bias': Parameter (shape=(84,), dtype=float32),\n",
       " '6.weight': Parameter (shape=(10, 84), dtype=float32),\n",
       " '6.bias': Parameter (shape=(10,), dtype=float32)}"
      ]
     },
     "execution_count": 21,
     "metadata": {},
     "output_type": "execute_result"
    }
   ],
   "source": [
    "model.net.collect_params()"
   ]
  },
  {
   "cell_type": "code",
   "execution_count": 22,
   "metadata": {},
   "outputs": [],
   "source": [
    "map_estimate=h5py.File('lenet_map.h5','r')\n",
    "par={var:map_estimate[var][:] for var in map_estimate.keys()}\n",
    "map_estimate.close()"
   ]
  },
  {
   "cell_type": "code",
   "execution_count": 23,
   "metadata": {},
   "outputs": [],
   "source": [
    "total_samples,total_labels,log_like=inference.predict(par,batch_size=batch_size,num_samples=100,data_loader=val_data)"
   ]
  },
  {
   "cell_type": "code",
   "execution_count": 28,
   "metadata": {},
   "outputs": [],
   "source": [
    "y_hat=np.quantile(total_samples,.9,axis=0)"
   ]
  },
  {
   "cell_type": "code",
   "execution_count": 29,
   "metadata": {},
   "outputs": [
    {
     "name": "stdout",
     "output_type": "stream",
     "text": [
      "              precision    recall  f1-score   support\n",
      "\n",
      "           0       0.00      0.00      0.00       980\n",
      "           1       0.00      0.00      0.00      1135\n",
      "           2       0.00      0.00      0.00      1032\n",
      "           3       0.00      0.00      0.00      1010\n",
      "           4       0.00      0.00      0.00       982\n",
      "           5       0.00      0.00      0.00       892\n",
      "           6       0.00      0.00      0.00       958\n",
      "           7       0.00      0.00      0.00      1028\n",
      "           8       0.10      0.25      0.14       974\n",
      "           9       0.10      0.75      0.18      1009\n",
      "\n",
      "    accuracy                           0.10     10000\n",
      "   macro avg       0.02      0.10      0.03     10000\n",
      "weighted avg       0.02      0.10      0.03     10000\n",
      "\n"
     ]
    }
   ],
   "source": [
    "from sklearn.metrics import classification_report\n",
    "\n",
    "print(classification_report(np.int32(total_labels),np.int32(y_hat)))"
   ]
  },
  {
   "cell_type": "markdown",
   "metadata": {},
   "source": [
    "# Stochastic Gradient Langevin Dynamics <a class=\"anchor\" id=\"chapter2\"></a>"
   ]
  },
  {
   "cell_type": "code",
   "execution_count": null,
   "metadata": {},
   "outputs": [],
   "source": [
    "from hamiltonian.inference.sgld import sgld\n",
    "from hamiltonian.models.softmax import lenet\n",
    "\n",
    "model=lenet(hyper,in_units,out_units,ctx=model_ctx)\n",
    "inference=sgld(model,par,step_size=0.01,ctx=model_ctx)"
   ]
  },
  {
   "cell_type": "code",
   "execution_count": null,
   "metadata": {},
   "outputs": [],
   "source": [
    "import hamiltonian\n",
    "import importlib\n",
    "\n",
    "try:\n",
    "    importlib.reload(hamiltonian.models.softmax)\n",
    "    importlib.reload(hamiltonian.inference.sgld)\n",
    "    print('modules re-loaded')\n",
    "except:\n",
    "    print('no modules loaded yet')"
   ]
  },
  {
   "cell_type": "code",
   "execution_count": null,
   "metadata": {},
   "outputs": [],
   "source": [
    "import matplotlib.pyplot as plt\n",
    "import seaborn as sns\n",
    "\n",
    "train_sgld=False\n",
    "num_epochs=250\n",
    "\n",
    "if train_sgld:\n",
    "    loss,posterior_samples=inference.sample(epochs=num_epochs,batch_size=batch_size,\n",
    "                                data_loader=train_data,\n",
    "                                verbose=True,chain_name='lenet_posterior.h5')\n",
    "\n",
    "    plt.rcParams['figure.dpi'] = 360\n",
    "    sns.set_style(\"whitegrid\")\n",
    "    fig=plt.figure(figsize=[5,5])\n",
    "    plt.plot(loss[0],color='blue',lw=3)\n",
    "    plt.plot(loss[1],color='red',lw=3)\n",
    "    plt.xlabel('Epoch', size=18)\n",
    "    plt.ylabel('Loss', size=18)\n",
    "    plt.title('SGLD Lenet MNIST', size=18)\n",
    "    plt.xticks(size=14)\n",
    "    plt.yticks(size=14)\n",
    "    plt.savefig('sgld_lenet.pdf', bbox_inches='tight')\n"
   ]
  },
  {
   "cell_type": "code",
   "execution_count": null,
   "metadata": {},
   "outputs": [],
   "source": [
    "import h5py \n",
    "\n",
    "posterior_samples=h5py.File('lenet_posterior.h5','r')"
   ]
  },
  {
   "cell_type": "code",
   "execution_count": null,
   "metadata": {},
   "outputs": [],
   "source": [
    "total_samples,total_labels,log_like=inference.predict(posterior_samples,data_loader=val_data)"
   ]
  },
  {
   "cell_type": "code",
   "execution_count": null,
   "metadata": {},
   "outputs": [],
   "source": [
    "from sklearn.metrics import classification_report\n",
    "posterior_samples\n",
    "\n",
    "y_hat=np.quantile(total_samples,.5,axis=0)\n",
    "\n",
    "print(classification_report(np.int32(total_labels),np.int32(y_hat)))"
   ]
  },
  {
   "cell_type": "code",
   "execution_count": null,
   "metadata": {},
   "outputs": [],
   "source": [
    "import tensorflow as tf\n",
    "import tensorflow_probability as tfp\n",
    "\n",
    "samples={var:posterior_samples[var] for var in posterior_samples.keys()}\n",
    "samples={var:np.swapaxes(samples[var],0,1) for var in model.par}\n",
    "r_hat_estimate = lambda samples : tfp.mcmc.diagnostic.potential_scale_reduction(samples, independent_chain_ndims=1,split_chains=False).numpy()\n",
    "rhat = {var:r_hat_estimate(samples[var]) for var in model.par}\n",
    "median_rhat_flat={var:np.median(rhat[var]) for var in rhat}"
   ]
  },
  {
   "cell_type": "code",
   "execution_count": null,
   "metadata": {},
   "outputs": [],
   "source": [
    "labels, data = rhat.keys(), rhat.values()\n",
    "flatten_data=list()\n",
    "for d in data:\n",
    "    flatten_data.append(d.reshape(-1))\n",
    "\n",
    "plt.rcParams['figure.dpi'] = 360\n",
    "sns.set_style(\"whitegrid\")\n",
    "plt.boxplot(flatten_data)\n",
    "plt.xticks(range(1, len(labels) + 1), labels)\n",
    "plt.title('Rhat')\n",
    "plt.savefig('rhat_nonhierarchical_lenet.pdf', bbox_inches='tight')"
   ]
  },
  {
   "cell_type": "code",
   "execution_count": null,
   "metadata": {},
   "outputs": [],
   "source": [
    "ess_estimate = lambda samples : tfp.mcmc.diagnostic.effective_sample_size(samples, filter_beyond_positive_pairs=False,cross_chain_dims=1).numpy()\n",
    "ess = {var:ess_estimate(samples[var]) for var in model.par}\n",
    "median_ess_flat={var:np.median(ess[var]) for var in ess}"
   ]
  },
  {
   "cell_type": "code",
   "execution_count": null,
   "metadata": {},
   "outputs": [],
   "source": [
    "labels, data = ess.keys(), ess.values()\n",
    "flatten_data=list()\n",
    "for d in data:\n",
    "    flatten_data.append(d.reshape(-1))\n",
    "plt.rcParams['figure.dpi'] = 360\n",
    "sns.set_style(\"whitegrid\")    \n",
    "plt.boxplot(flatten_data)\n",
    "plt.xticks(range(1, len(labels) + 1), labels)\n",
    "plt.title('ESS')\n",
    "plt.savefig('ess_nonhierarchical_lenet.pdf', bbox_inches='tight')"
   ]
  },
  {
   "cell_type": "code",
   "execution_count": null,
   "metadata": {},
   "outputs": [],
   "source": [
    "from hamiltonian.utils.psis import *\n",
    "\n",
    "loo,loos,ks=psisloo(log_like)\n",
    "max_ks=max(ks[~ np.isinf(ks)])"
   ]
  },
  {
   "cell_type": "code",
   "execution_count": null,
   "metadata": {},
   "outputs": [],
   "source": [
    "flat_ks_1=np.sum(ks>1)\n",
    "flat_ks_7_1=np.sum(np.logical_and(ks>0.7,ks<1))\n",
    "flat_ks_5_7=np.sum(np.logical_and(ks>0.5,ks<0.7))\n",
    "flat_ks_5=np.sum(ks<0.5)"
   ]
  },
  {
   "cell_type": "markdown",
   "metadata": {},
   "source": [
    "# Hierarchical Lenet <a class=\"anchor\" id=\"chapter3\"></a>"
   ]
  },
  {
   "cell_type": "code",
   "execution_count": null,
   "metadata": {},
   "outputs": [],
   "source": [
    "from hamiltonian.inference.sgld import hierarchical_sgld\n",
    "from hamiltonian.models.softmax import hierarchical_lenet\n",
    "\n",
    "model=hierarchical_lenet(hyper,in_units,out_units,ctx=model_ctx)\n",
    "inference=hierarchical_sgld(model,par,step_size=0.001,ctx=model_ctx)"
   ]
  },
  {
   "cell_type": "code",
   "execution_count": null,
   "metadata": {},
   "outputs": [],
   "source": [
    "import hamiltonian\n",
    "import importlib\n",
    "\n",
    "try:\n",
    "    importlib.reload(hamiltonian.models.softmax)\n",
    "    importlib.reload(hamiltonian.inference.sgld)\n",
    "    print('modules re-loaded')\n",
    "except:\n",
    "    print('no modules loaded yet')"
   ]
  },
  {
   "cell_type": "code",
   "execution_count": null,
   "metadata": {},
   "outputs": [],
   "source": [
    "import matplotlib.pyplot as plt\n",
    "import seaborn as sns\n",
    "import glob\n",
    "\n",
    "train_sgld=True\n",
    "num_epochs=250\n",
    "\n",
    "if train_sgld:\n",
    "    loss,posterior_samples=inference.sample(epochs=num_epochs,batch_size=batch_size,\n",
    "                                data_loader=train_data,\n",
    "                                verbose=True,chain_name='hierarchical_lenet_posterior.h5')\n",
    "\n",
    "    plt.rcParams['figure.dpi'] = 360\n",
    "    sns.set_style(\"whitegrid\")\n",
    "    fig=plt.figure(figsize=[5,5])\n",
    "    plt.plot(loss[0],color='blue',lw=3)\n",
    "    plt.plot(loss[1],color='red',lw=3)\n",
    "    plt.xlabel('Epoch', size=18)\n",
    "    plt.ylabel('Loss', size=18)\n",
    "    plt.title('SGLD Hierarchical Lenet MNIST', size=18)\n",
    "    plt.xticks(size=14)\n",
    "    plt.yticks(size=14)\n",
    "    plt.savefig('sgld_hierarchical_lenet.pdf', bbox_inches='tight')\n"
   ]
  },
  {
   "cell_type": "code",
   "execution_count": null,
   "metadata": {},
   "outputs": [],
   "source": [
    "import h5py \n",
    "\n",
    "posterior_samples=h5py.File('hierarchical_lenet_posterior.h5','r')"
   ]
  },
  {
   "cell_type": "code",
   "execution_count": null,
   "metadata": {},
   "outputs": [],
   "source": [
    "total_samples,total_labels,log_like=inference.predict(posterior_samples,data_loader=val_data)"
   ]
  },
  {
   "cell_type": "code",
   "execution_count": null,
   "metadata": {},
   "outputs": [],
   "source": [
    "from sklearn.metrics import classification_report\n",
    "\n",
    "\n",
    "y_hat=np.quantile(total_samples,.5,axis=0)\n",
    "\n",
    "print(classification_report(np.int32(total_labels),np.int32(y_hat)))"
   ]
  },
  {
   "cell_type": "code",
   "execution_count": null,
   "metadata": {},
   "outputs": [],
   "source": [
    "import tensorflow as tf\n",
    "import tensorflow_probability as tfp\n",
    "\n",
    "samples={var:posterior_samples[var] for var in posterior_samples.keys()}\n",
    "samples={var:np.swapaxes(samples[var],0,1) for var in model.par}\n",
    "r_hat_estimate = lambda samples : tfp.mcmc.diagnostic.potential_scale_reduction(samples, independent_chain_ndims=1,split_chains=True).numpy()\n",
    "rhat = {var:r_hat_estimate(samples[var]) for var in model.par}\n",
    "median_rhat_hierarchical={var:np.median(rhat[var]) for var in rhat}"
   ]
  },
  {
   "cell_type": "code",
   "execution_count": null,
   "metadata": {},
   "outputs": [],
   "source": [
    "labels, data = rhat.keys(), rhat.values()\n",
    "flatten_data=list()\n",
    "for d in data:\n",
    "    flatten_data.append(d.reshape(-1))\n",
    "\n",
    "plt.rcParams['figure.dpi'] = 360\n",
    "sns.set_style(\"whitegrid\")\n",
    "plt.boxplot(flatten_data)\n",
    "plt.xticks(range(1, len(labels) + 1), labels)\n",
    "plt.title('Rhat')\n",
    "plt.savefig('rhat_hierarchical_lenet.pdf', bbox_inches='tight')"
   ]
  },
  {
   "cell_type": "code",
   "execution_count": null,
   "metadata": {},
   "outputs": [],
   "source": [
    "ess_estimate = lambda samples : tfp.mcmc.diagnostic.effective_sample_size(samples, filter_beyond_positive_pairs=False,cross_chain_dims=1).numpy()\n",
    "ess = {var:ess_estimate(samples[var]) for var in model.par}\n",
    "median_ess_hierarchical={var:np.median(ess[var]) for var in ess}"
   ]
  },
  {
   "cell_type": "code",
   "execution_count": null,
   "metadata": {},
   "outputs": [],
   "source": [
    "labels, data = ess.keys(), ess.values()\n",
    "flatten_data=list()\n",
    "for d in data:\n",
    "    flatten_data.append(d.reshape(-1))\n",
    "plt.rcParams['figure.dpi'] = 360\n",
    "sns.set_style(\"whitegrid\")    \n",
    "plt.boxplot(flatten_data)\n",
    "plt.xticks(range(1, len(labels) + 1), labels)\n",
    "plt.title('ESS')\n",
    "plt.savefig('ess_hierarchical_lenet.pdf', bbox_inches='tight')"
   ]
  },
  {
   "cell_type": "code",
   "execution_count": null,
   "metadata": {},
   "outputs": [],
   "source": [
    "from hamiltonian.utils.psis import *\n",
    "\n",
    "loo,loos,ks=psisloo(log_like)\n",
    "max_ks=max(ks[~ np.isinf(ks)])"
   ]
  },
  {
   "cell_type": "code",
   "execution_count": null,
   "metadata": {},
   "outputs": [],
   "source": [
    "hierarchical_ks_1=np.sum(ks>1)\n",
    "hierarchical_ks_7_1=np.sum(np.logical_and(ks>0.7,ks<1))\n",
    "hierarchical_ks_5_7=np.sum(np.logical_and(ks>0.5,ks<0.7))\n",
    "hierarchical_ks_5=np.sum(ks<0.5)"
   ]
  },
  {
   "cell_type": "code",
   "execution_count": null,
   "metadata": {},
   "outputs": [],
   "source": [
    "import pandas as pd\n",
    "\n",
    "hierarchical=[hierarchical_ks_1,hierarchical_ks_7_1,hierarchical_ks_5_7,hierarchical_ks_5]\n",
    "flat=[flat_ks_1,flat_ks_7_1,flat_ks_5_7,flat_ks_5]\n",
    "index = ['k>1', '0.7<k<1', '0.5<k<0.7','k<0.5']\n",
    "df = pd.DataFrame({'hierarchical': hierarchical,\n",
    "                   'non-hierarchical': flat}, index=index)\n",
    "ax = df.plot.bar(rot=0)\n",
    "plt.title('Pareto K shape')"
   ]
  },
  {
   "cell_type": "code",
   "execution_count": null,
   "metadata": {},
   "outputs": [],
   "source": [
    "hierarchical=median_rhat_hierarchical.values()\n",
    "flat=median_rhat_flat.values()\n",
    "index = median_rhat_flat.keys()\n",
    "df = pd.DataFrame({'hierarchical': hierarchical,\n",
    "                   'non-hierarchical': flat}, index=index)\n",
    "ax = df.plot.bar(rot=0)\n",
    "plt.title('Potential Scale Reduction (Rhat)')"
   ]
  },
  {
   "cell_type": "code",
   "execution_count": null,
   "metadata": {},
   "outputs": [],
   "source": [
    "hierarchical=median_ess_hierarchical.values()\n",
    "flat=median_ess_flat.values()\n",
    "index = median_ess_flat.keys()\n",
    "df = pd.DataFrame({'hierarchical': hierarchical,\n",
    "                   'non-hierarchical': flat}, index=index)\n",
    "ax = df.plot.bar(rot=0)\n",
    "plt.title('ESS')"
   ]
  },
  {
   "cell_type": "code",
   "execution_count": null,
   "metadata": {},
   "outputs": [],
   "source": []
  }
 ],
 "metadata": {
  "kernelspec": {
   "display_name": "mxnet2",
   "language": "python",
   "name": "mxnet2"
  },
  "language_info": {
   "codemirror_mode": {
    "name": "ipython",
    "version": 3
   },
   "file_extension": ".py",
   "mimetype": "text/x-python",
   "name": "python",
   "nbconvert_exporter": "python",
   "pygments_lexer": "ipython3",
   "version": "3.8.10"
  }
 },
 "nbformat": 4,
 "nbformat_minor": 4
}
