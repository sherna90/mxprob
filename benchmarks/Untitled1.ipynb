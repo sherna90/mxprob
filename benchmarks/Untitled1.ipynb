{
 "cells": [
  {
   "cell_type": "code",
   "execution_count": 1,
   "id": "contrary-universal",
   "metadata": {},
   "outputs": [],
   "source": [
    "import numpy as np\n",
    "\n",
    "np.random.seed(0)\n",
    "\n",
    "ndims = 5\n",
    "ndata = 100\n",
    "X = np.random.randn(ndata, ndims)\n",
    "w_ = np.random.randn(ndims)  # hidden\n",
    "noise_ = 0.1 * np.random.randn(ndata)  # hidden\n",
    "\n",
    "y_obs = X.dot(w_) + noise_"
   ]
  },
  {
   "cell_type": "code",
   "execution_count": 2,
   "id": "advisory-candle",
   "metadata": {},
   "outputs": [],
   "source": [
    "import tensorflow as tf\n",
    "import tensorflow_probability as tfp\n",
    "tfd = tfp.distributions\n",
    "\n",
    "X_tensor = tf.convert_to_tensor(X, dtype='float32')\n",
    "\n",
    "@tf.function\n",
    "def target_log_prob_fn(w):\n",
    "    w_dist = tfd.Normal(loc=tf.zeros((ndims, 1)), scale=1.0, name=\"w\")\n",
    "    w_prob = tf.reduce_sum(w_dist.log_prob(w))\n",
    "    y_dist = tfd.Normal(loc=tf.matmul(X_tensor, w), scale=0.1, name=\"y\")\n",
    "    y_prob = tf.reduce_sum(y_dist.log_prob(y_obs.reshape(-1, 1)))\n",
    "    return w_prob + y_prob\n",
    "\n",
    "\n",
    "# Initialize the HMC transition kernel.\n",
    "num_results = 1000\n",
    "num_burnin_steps = 500\n",
    "adaptive_hmc = tfp.mcmc.SimpleStepSizeAdaptation(\n",
    "    tfp.mcmc.HamiltonianMonteCarlo(\n",
    "        target_log_prob_fn=target_log_prob_fn,\n",
    "        num_leapfrog_steps=4,\n",
    "        step_size=0.01),\n",
    "    num_adaptation_steps=int(num_burnin_steps * 0.8))\n",
    "\n"
   ]
  },
  {
   "cell_type": "code",
   "execution_count": 13,
   "id": "digital-lawrence",
   "metadata": {},
   "outputs": [],
   "source": [
    "w_dist = tfd.Normal(loc=tf.zeros((ndims, 1)), scale=1.0, name=\"w\")\n",
    "initial_state = w_dist.sample(10) * 2."
   ]
  },
  {
   "cell_type": "code",
   "execution_count": 16,
   "id": "stuffed-chain",
   "metadata": {},
   "outputs": [],
   "source": [
    "samples, is_accepted = tfp.mcmc.sample_chain(\n",
    "    num_results=num_results,\n",
    "    num_burnin_steps=num_burnin_steps,\n",
    "    current_state=initial_state,\n",
    "    kernel=adaptive_hmc,\n",
    "    trace_fn=lambda _, pkr: pkr.inner_results.is_accepted)"
   ]
  },
  {
   "cell_type": "code",
   "execution_count": 17,
   "id": "white-melissa",
   "metadata": {},
   "outputs": [
    {
     "data": {
      "text/plain": [
       "TensorShape([1000, 10, 5, 1])"
      ]
     },
     "execution_count": 17,
     "metadata": {},
     "output_type": "execute_result"
    }
   ],
   "source": [
    "samples.shape"
   ]
  },
  {
   "cell_type": "code",
   "execution_count": 18,
   "id": "portable-prime",
   "metadata": {},
   "outputs": [],
   "source": [
    "rhat = tfp.mcmc.diagnostic.potential_scale_reduction(\n",
    "    samples, independent_chain_ndims=1)"
   ]
  },
  {
   "cell_type": "code",
   "execution_count": 19,
   "id": "greatest-champagne",
   "metadata": {},
   "outputs": [
    {
     "data": {
      "text/plain": [
       "<tf.Tensor: shape=(5, 1), dtype=float32, numpy=\n",
       "array([[0.99984443],\n",
       "       [1.0003211 ],\n",
       "       [0.99968517],\n",
       "       [1.000712  ],\n",
       "       [0.9996282 ]], dtype=float32)>"
      ]
     },
     "execution_count": 19,
     "metadata": {},
     "output_type": "execute_result"
    }
   ],
   "source": [
    "rhat"
   ]
  },
  {
   "cell_type": "code",
   "execution_count": null,
   "id": "aging-quarter",
   "metadata": {},
   "outputs": [],
   "source": []
  }
 ],
 "metadata": {
  "kernelspec": {
   "display_name": "Python 3",
   "language": "python",
   "name": "python3"
  },
  "language_info": {
   "codemirror_mode": {
    "name": "ipython",
    "version": 3
   },
   "file_extension": ".py",
   "mimetype": "text/x-python",
   "name": "python",
   "nbconvert_exporter": "python",
   "pygments_lexer": "ipython3",
   "version": "3.8.6"
  }
 },
 "nbformat": 4,
 "nbformat_minor": 5
}
