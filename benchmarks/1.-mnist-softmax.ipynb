{
 "cells": [
  {
   "cell_type": "code",
   "execution_count": 1,
   "metadata": {},
   "outputs": [],
   "source": [
    "import sys\n",
    "sys.path.append(\"../\") "
   ]
  },
  {
   "cell_type": "code",
   "execution_count": 2,
   "metadata": {},
   "outputs": [],
   "source": [
    "from sklearn.datasets import fetch_openml\n",
    "from sklearn.model_selection import train_test_split\n",
    "\n",
    "# Load data from https://www.openml.org/d/554\n",
    "X, y = fetch_openml('mnist_784', version=1, return_X_y=True, data_home='../data',cache=True,as_frame=False)\n",
    "X=X/255."
   ]
  },
  {
   "cell_type": "code",
   "execution_count": 3,
   "metadata": {},
   "outputs": [],
   "source": [
    "X_train, X_test, y_train, y_test = train_test_split(X, y,test_size=0.2)"
   ]
  },
  {
   "cell_type": "code",
   "execution_count": 4,
   "metadata": {},
   "outputs": [],
   "source": [
    "import numpy as np\n",
    "from hamiltonian import utils\n",
    "\n",
    "num_examples,num_inputs=X_train.shape\n",
    "num_outputs=len(np.unique(y_train))\n",
    "\n",
    "#y_train=utils.one_hot(y_train,num_outputs)\n",
    "#y_test=utils.one_hot(y_test,num_outputs)"
   ]
  },
  {
   "cell_type": "code",
   "execution_count": 5,
   "metadata": {},
   "outputs": [],
   "source": [
    "y_train=np.int32(y_train)\n",
    "y_test=np.int32(y_test)"
   ]
  },
  {
   "cell_type": "code",
   "execution_count": 143,
   "metadata": {},
   "outputs": [],
   "source": [
    "\n",
    "import mxnet as mx\n",
    "from mxnet import nd, autograd, gluon\n",
    "\n",
    "\n",
    "model_ctx=mx.cpu()\n",
    "par={'weights':nd.random_normal(shape=(num_inputs,num_outputs),ctx=model_ctx),'bias':nd.random_normal(shape=num_outputs,ctx=model_ctx)}\n",
    "hyper={'alpha':10.}\n"
   ]
  },
  {
   "cell_type": "code",
   "execution_count": 189,
   "metadata": {},
   "outputs": [],
   "source": [
    "from hamiltonian.inference.sgd import sgd\n",
    "from hamiltonian.models.softmax import softmax\n",
    "\n",
    "model=softmax(hyper,ctx=model_ctx)\n",
    "inference=sgd(model,par,step_size=0.05,ctx=model_ctx)"
   ]
  },
  {
   "cell_type": "code",
   "execution_count": 188,
   "metadata": {},
   "outputs": [
    {
     "data": {
      "text/plain": [
       "<module 'hamiltonian.inference.sgd' from '../hamiltonian/inference/sgd.py'>"
      ]
     },
     "execution_count": 188,
     "metadata": {},
     "output_type": "execute_result"
    }
   ],
   "source": [
    "import importlib\n",
    "import hamiltonian\n",
    "importlib.reload(hamiltonian.models.softmax)\n",
    "importlib.reload(hamiltonian.inference.sgd)"
   ]
  },
  {
   "cell_type": "code",
   "execution_count": 190,
   "metadata": {},
   "outputs": [
    {
     "name": "stderr",
     "output_type": "stream",
     "text": [
      "100%|██████████| 10/10 [00:13<00:00,  1.37s/it]\n"
     ]
    }
   ],
   "source": [
    "par,loss=inference.fit_gluon(epochs=10,batch_size=64,X_train=X_train,y_train=y_train,verbose=False)"
   ]
  },
  {
   "cell_type": "code",
   "execution_count": 191,
   "metadata": {},
   "outputs": [
    {
     "data": {
      "text/plain": [
       "\n",
       "[-4.7174115e-03  6.4355340e-03 -9.9500176e-07  2.7499672e-02\n",
       "  5.2417396e-03  2.6378669e-02  5.3182300e-03 -8.2507469e-03\n",
       " -5.1006190e-02 -7.3821298e-03]\n",
       "<NDArray 10 @cpu(0)>"
      ]
     },
     "execution_count": 191,
     "metadata": {},
     "output_type": "execute_result"
    }
   ],
   "source": [
    "par['bias'].grad"
   ]
  },
  {
   "cell_type": "code",
   "execution_count": 192,
   "metadata": {},
   "outputs": [
    {
     "data": {
      "image/png": "[encoded data removed]",
      "text/plain": [
       "<Figure size 432x288 with 1 Axes>"
      ]
     },
     "metadata": {
      "needs_background": "light"
     },
     "output_type": "display_data"
    }
   ],
   "source": [
    "import matplotlib.pyplot as plt\n",
    "\n",
    "plt.plot(loss)\n",
    "plt.xlabel('epoch')\n",
    "plt.ylabel('loss')\n",
    "plt.show()"
   ]
  },
  {
   "cell_type": "code",
   "execution_count": 193,
   "metadata": {},
   "outputs": [],
   "source": [
    "y_pred=model.predict(par,nd.array(X_test,ctx=model_ctx))"
   ]
  },
  {
   "cell_type": "code",
   "execution_count": 194,
   "metadata": {},
   "outputs": [],
   "source": [
    "samples=[]\n",
    "for _ in range(100):\n",
    "    samples.append(y_pred.sample().asnumpy())"
   ]
  },
  {
   "cell_type": "code",
   "execution_count": 195,
   "metadata": {},
   "outputs": [],
   "source": [
    "samples=np.asarray(samples)"
   ]
  },
  {
   "cell_type": "code",
   "execution_count": 196,
   "metadata": {},
   "outputs": [
    {
     "data": {
      "text/plain": [
       "(100, 14000)"
      ]
     },
     "execution_count": 196,
     "metadata": {},
     "output_type": "execute_result"
    }
   ],
   "source": [
    "samples.shape"
   ]
  },
  {
   "cell_type": "code",
   "execution_count": 197,
   "metadata": {},
   "outputs": [],
   "source": [
    "y_hat=np.quantile(samples,.5,axis=0)"
   ]
  },
  {
   "cell_type": "code",
   "execution_count": 198,
   "metadata": {},
   "outputs": [
    {
     "name": "stdout",
     "output_type": "stream",
     "text": [
      "              precision    recall  f1-score   support\n",
      "\n",
      "           0       0.94      0.95      0.95      1393\n",
      "           1       0.95      0.96      0.96      1546\n",
      "           2       0.88      0.87      0.87      1440\n",
      "           3       0.88      0.85      0.87      1402\n",
      "           4       0.89      0.89      0.89      1348\n",
      "           5       0.81      0.84      0.82      1280\n",
      "           6       0.91      0.93      0.92      1389\n",
      "           7       0.89      0.90      0.89      1441\n",
      "           8       0.84      0.82      0.83      1372\n",
      "           9       0.85      0.84      0.84      1389\n",
      "\n",
      "    accuracy                           0.89     14000\n",
      "   macro avg       0.88      0.88      0.88     14000\n",
      "weighted avg       0.89      0.89      0.89     14000\n",
      "\n"
     ]
    }
   ],
   "source": [
    "from sklearn.metrics import classification_report\n",
    "\n",
    "print(classification_report(y_test,np.int32(y_hat)))"
   ]
  },
  {
   "cell_type": "code",
   "execution_count": 175,
   "metadata": {},
   "outputs": [],
   "source": [
    "X_batch=nd.array(X_train[:32],ctx=model_ctx)\n",
    "y_batch=nd.array(y_train[:32],ctx=model_ctx)"
   ]
  },
  {
   "cell_type": "code",
   "execution_count": 176,
   "metadata": {},
   "outputs": [],
   "source": [
    "like=model.negative_log_likelihood(par,X_train=X_batch,y_train=y_batch)\n",
    "prior=model.negative_log_prior(par)"
   ]
  },
  {
   "cell_type": "code",
   "execution_count": 177,
   "metadata": {},
   "outputs": [],
   "source": [
    "sgd = mx.optimizer.Optimizer.create_optimizer('sgd')"
   ]
  },
  {
   "cell_type": "code",
   "execution_count": null,
   "metadata": {},
   "outputs": [],
   "source": []
  }
 ],
 "metadata": {
  "kernelspec": {
   "display_name": "Python 3",
   "language": "python",
   "name": "python3"
  },
  "language_info": {
   "codemirror_mode": {
    "name": "ipython",
    "version": 3
   },
   "file_extension": ".py",
   "mimetype": "text/x-python",
   "name": "python",
   "nbconvert_exporter": "python",
   "pygments_lexer": "ipython3",
   "version": "3.8.6"
  }
 },
 "nbformat": 4,
 "nbformat_minor": 4
}
