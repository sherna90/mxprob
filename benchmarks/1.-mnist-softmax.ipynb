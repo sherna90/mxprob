{
 "cells": [
  {
   "cell_type": "code",
   "execution_count": 1,
   "metadata": {},
   "outputs": [],
   "source": [
    "import sys\n",
    "sys.path.append(\"../\") "
   ]
  },
  {
   "cell_type": "code",
   "execution_count": 2,
   "metadata": {},
   "outputs": [],
   "source": [
    "import argparse, time, logging, random, math\n",
    "\n",
    "import numpy as np\n",
    "import mxnet as mx\n",
    "\n",
    "from mxnet import gluon, nd\n",
    "from mxnet import autograd as ag\n",
    "from mxnet.gluon import nn\n",
    "from mxnet.gluon.data.vision import transforms"
   ]
  },
  {
   "cell_type": "code",
   "execution_count": 3,
   "metadata": {},
   "outputs": [],
   "source": [
    "transform = transforms.Compose([\n",
    "    transforms.ToTensor(),\n",
    "    transforms.Normalize(0.,1.)\n",
    "])"
   ]
  },
  {
   "cell_type": "code",
   "execution_count": 4,
   "metadata": {},
   "outputs": [],
   "source": [
    "num_gpus = 1\n",
    "model_ctx = mx.gpu()\n",
    "\n",
    "num_workers = 2\n",
    "batch_size = 64 \n",
    "train_data = gluon.data.DataLoader(\n",
    "    gluon.data.vision.MNIST(train=True).transform_first(transform),\n",
    "    batch_size=batch_size, shuffle=True, last_batch='discard', num_workers=num_workers)\n",
    "\n",
    "val_data = gluon.data.DataLoader(\n",
    "    gluon.data.vision.MNIST(train=False).transform_first(transform),\n",
    "    batch_size=batch_size, shuffle=False, num_workers=num_workers)"
   ]
  },
  {
   "cell_type": "code",
   "execution_count": 5,
   "metadata": {},
   "outputs": [
    {
     "name": "stdout",
     "output_type": "stream",
     "text": [
      "(64, 1, 28, 28)\n",
      "(64,)\n"
     ]
    }
   ],
   "source": [
    "for X,y in train_data:\n",
    "    print(X.shape)\n",
    "    print(y.shape)\n",
    "    break"
   ]
  },
  {
   "cell_type": "markdown",
   "metadata": {},
   "source": [
    "### Bayesian inference for MNIST\n",
    "\n",
    "* [Stochastic Gradient Descent](#chapter1)\n",
    "* [Stochastic Gradient Langevin Dynamics](#chapter2)\n",
    "* [Bayes By Backprop](#chapter3)\n",
    "* [Diagnostics](#chapter4)\n"
   ]
  },
  {
   "cell_type": "markdown",
   "metadata": {},
   "source": [
    "# Stochastic Gradient Descent <a class=\"anchor\" id=\"chapter1\"></a>"
   ]
  },
  {
   "cell_type": "code",
   "execution_count": 18,
   "metadata": {},
   "outputs": [],
   "source": [
    "import mxnet as mx\n",
    "from mxnet import nd, autograd, gluon\n",
    "hyper={'alpha':10.}\n",
    "in_units=(28,28)\n",
    "out_units=10"
   ]
  },
  {
   "cell_type": "code",
   "execution_count": 26,
   "metadata": {},
   "outputs": [],
   "source": [
    "import mxnet as mx\n",
    "from hamiltonian.inference.sgd import sgd\n",
    "from hamiltonian.models.softmax import softmax\n",
    "\n",
    "model=softmax(hyper,in_units,out_units,ctx=model_ctx)\n",
    "inference=sgd(model,model.par,step_size=0.001,ctx=model_ctx)"
   ]
  },
  {
   "cell_type": "code",
   "execution_count": 27,
   "metadata": {},
   "outputs": [
    {
     "name": "stdout",
     "output_type": "stream",
     "text": [
      "modules re-loaded\n"
     ]
    }
   ],
   "source": [
    "import hamiltonian\n",
    "import importlib\n",
    "\n",
    "try:\n",
    "    importlib.reload(hamiltonian.models.softmax)\n",
    "    importlib.reload(hamiltonian.inference.sgd)\n",
    "    print('modules re-loaded')\n",
    "except:\n",
    "    print('no modules loaded yet')\n"
   ]
  },
  {
   "cell_type": "code",
   "execution_count": 28,
   "metadata": {},
   "outputs": [],
   "source": [
    "train_sgd=False\n",
    "num_epochs=100\n",
    "if train_sgd:\n",
    "    par,loss=inference.fit(epochs=num_epochs,batch_size=batch_size,data_loader=train_data,verbose=True)\n",
    "\n",
    "    fig=plt.figure(figsize=[5,5])\n",
    "    plt.plot(loss,color='blue',lw=3)\n",
    "    plt.xlabel('Epoch', size=18)\n",
    "    plt.ylabel('Loss', size=18)\n",
    "    plt.title('SGD Softmax MNIST', size=18)\n",
    "    plt.xticks(size=14)\n",
    "    plt.yticks(size=14)\n",
    "    plt.savefig('sgd_softmax.pdf', bbox_inches='tight')\n",
    "    model.net.save_parameters('softmax_sgd_'+str(num_epochs)+'_epochs.params')\n",
    "else:\n",
    "    model.net.load_parameters('softmax_sgd_'+str(num_epochs)+'_epochs.params',ctx=model_ctx)\n",
    "    par=dict()\n",
    "    for name,gluon_par in model.net.collect_params().items():\n",
    "        par.update({name:gluon_par.data()})\n",
    "               \n"
   ]
  },
  {
   "cell_type": "code",
   "execution_count": 30,
   "metadata": {},
   "outputs": [
    {
     "name": "stdout",
     "output_type": "stream",
     "text": [
      "              precision    recall  f1-score   support\n",
      "\n",
      "           0       0.95      0.97      0.96       979\n",
      "           1       0.97      0.97      0.97      1133\n",
      "           2       0.92      0.88      0.90      1030\n",
      "           3       0.89      0.89      0.89      1008\n",
      "           4       0.88      0.92      0.90       980\n",
      "           5       0.83      0.86      0.85       890\n",
      "           6       0.89      0.93      0.91       956\n",
      "           7       0.91      0.91      0.91      1027\n",
      "           8       0.85      0.84      0.85       973\n",
      "           9       0.93      0.85      0.89      1008\n",
      "\n",
      "    accuracy                           0.90      9984\n",
      "   macro avg       0.90      0.90      0.90      9984\n",
      "weighted avg       0.91      0.90      0.90      9984\n",
      "\n"
     ]
    }
   ],
   "source": [
    "from sklearn.metrics import classification_report\n",
    "\n",
    "total_samples,total_labels,log_like=inference.predict(par,batch_size=batch_size,num_samples=10,data_loader=val_data)\n",
    "y_hat=np.quantile(total_samples,.5,axis=0)\n",
    "print(classification_report(np.int32(total_labels),np.int32(y_hat)))"
   ]
  },
  {
   "cell_type": "code",
   "execution_count": 31,
   "metadata": {},
   "outputs": [
    {
     "data": {
      "text/plain": [
       "{'1.weight': Parameter (shape=(10, 784), dtype=float32),\n",
       " '1.bias': Parameter (shape=(10,), dtype=float32)}"
      ]
     },
     "execution_count": 31,
     "metadata": {},
     "output_type": "execute_result"
    }
   ],
   "source": [
    "model.net.collect_params()"
   ]
  },
  {
   "cell_type": "markdown",
   "metadata": {},
   "source": [
    "# Stochastic Gradient Langevin Dynamics <a class=\"anchor\" id=\"chapter2\"></a>"
   ]
  },
  {
   "cell_type": "code",
   "execution_count": 84,
   "metadata": {},
   "outputs": [],
   "source": [
    "from hamiltonian.inference.sgld import sgld\n",
    "\n",
    "model=softmax(hyper,in_units,out_units,ctx=model_ctx)\n",
    "inference=sgld(model,model.par,step_size=0.01,ctx=model_ctx)"
   ]
  },
  {
   "cell_type": "code",
   "execution_count": 85,
   "metadata": {},
   "outputs": [
    {
     "name": "stdout",
     "output_type": "stream",
     "text": [
      "modules re-loaded\n"
     ]
    }
   ],
   "source": [
    "import hamiltonian\n",
    "import importlib\n",
    "\n",
    "try:\n",
    "    importlib.reload(hamiltonian.models.softmax)\n",
    "    importlib.reload(hamiltonian.inference.sgld)\n",
    "    print('modules re-loaded')\n",
    "except:\n",
    "    print('no modules loaded yet')"
   ]
  },
  {
   "cell_type": "code",
   "execution_count": 86,
   "metadata": {},
   "outputs": [],
   "source": [
    "import matplotlib.pyplot as plt\n",
    "import seaborn as sns\n",
    "import glob\n",
    "\n",
    "train_sgld=False\n",
    "num_epochs=100\n",
    "\n",
    "if train_sgld:\n",
    "    loss,posterior_samples=inference.sample(epochs=num_epochs,batch_size=batch_size,\n",
    "                                data_loader=train_data,\n",
    "                                verbose=True,chain_name='chain_nonhierarchical')\n",
    "\n",
    "    plt.rcParams['figure.dpi'] = 360\n",
    "    sns.set_style(\"whitegrid\")\n",
    "    fig=plt.figure(figsize=[5,5])\n",
    "    plt.plot(loss[0],color='blue',lw=3)\n",
    "    plt.plot(loss[1],color='red',lw=3)\n",
    "    plt.xlabel('Epoch', size=18)\n",
    "    plt.ylabel('Loss', size=18)\n",
    "    plt.title('SGLD Softmax MNIST', size=18)\n",
    "    plt.xticks(size=14)\n",
    "    plt.yticks(size=14)\n",
    "    plt.savefig('sgld_softmax.pdf', bbox_inches='tight')\n",
    "else:\n",
    "    chain1=glob.glob(\"../scripts/results/softmax/chain_nonhierarchical_0_1_sgld*\")\n",
    "    chain2=glob.glob(\"../scripts/results/softmax/chain_nonhierarchical_0_sgld*\")\n",
    "    posterior_samples=[chain1,chain2]"
   ]
  },
  {
   "cell_type": "code",
   "execution_count": 87,
   "metadata": {},
   "outputs": [],
   "source": [
    "posterior_samples_flat=[item for sublist in posterior_samples for item in sublist]"
   ]
  },
  {
   "cell_type": "code",
   "execution_count": 88,
   "metadata": {},
   "outputs": [],
   "source": [
    "total_samples,total_labels,log_like=inference.predict(posterior_samples_flat,5,data_loader=val_data)"
   ]
  },
  {
   "cell_type": "code",
   "execution_count": 89,
   "metadata": {},
   "outputs": [
    {
     "name": "stdout",
     "output_type": "stream",
     "text": [
      "              precision    recall  f1-score   support\n",
      "\n",
      "           0       0.96      0.98      0.97       980\n",
      "           1       0.97      0.98      0.97      1135\n",
      "           2       0.93      0.89      0.91      1032\n",
      "           3       0.89      0.90      0.90      1010\n",
      "           4       0.92      0.93      0.93       982\n",
      "           5       0.86      0.88      0.87       892\n",
      "           6       0.94      0.95      0.95       958\n",
      "           7       0.92      0.93      0.92      1028\n",
      "           8       0.87      0.87      0.87       974\n",
      "           9       0.93      0.89      0.91      1009\n",
      "\n",
      "    accuracy                           0.92     10000\n",
      "   macro avg       0.92      0.92      0.92     10000\n",
      "weighted avg       0.92      0.92      0.92     10000\n",
      "\n"
     ]
    }
   ],
   "source": [
    "from sklearn.metrics import classification_report\n",
    "\n",
    "y_hat=np.quantile(total_samples,.5,axis=0)\n",
    "\n",
    "print(classification_report(np.int32(total_labels),np.int32(y_hat)))"
   ]
  },
  {
   "cell_type": "code",
   "execution_count": 92,
   "metadata": {},
   "outputs": [],
   "source": [
    "import arviz as az\n",
    "\n",
    "posterior_samples_multiple_chains=inference.posterior_diagnostics(posterior_samples)\n",
    "datasets=[az.convert_to_inference_data(sample) for sample in posterior_samples_multiple_chains]\n",
    "dataset = az.concat(datasets, dim=\"chain\")\n",
    "mean_r_hat_values={var:float(az.rhat(dataset)[var].mean().data) for var in model.par}\n",
    "mean_ess_values={var:float(az.ess(dataset)[var].mean().data) for var in model.par}\n",
    "mean_mcse_values={var:float(az.mcse(dataset)[var].mean().data) for var in model.par}"
   ]
  },
  {
   "cell_type": "code",
   "execution_count": 79,
   "metadata": {},
   "outputs": [
    {
     "data": {
      "text/html": [
       "<div>\n",
       "<style scoped>\n",
       "    .dataframe tbody tr th:only-of-type {\n",
       "        vertical-align: middle;\n",
       "    }\n",
       "\n",
       "    .dataframe tbody tr th {\n",
       "        vertical-align: top;\n",
       "    }\n",
       "\n",
       "    .dataframe thead th {\n",
       "        text-align: right;\n",
       "    }\n",
       "</style>\n",
       "<table border=\"1\" class=\"dataframe\">\n",
       "  <thead>\n",
       "    <tr style=\"text-align: right;\">\n",
       "      <th></th>\n",
       "      <th>mean</th>\n",
       "      <th>sd</th>\n",
       "      <th>hdi_3%</th>\n",
       "      <th>hdi_97%</th>\n",
       "      <th>mcse_mean</th>\n",
       "      <th>mcse_sd</th>\n",
       "      <th>ess_bulk</th>\n",
       "      <th>ess_tail</th>\n",
       "      <th>r_hat</th>\n",
       "    </tr>\n",
       "  </thead>\n",
       "  <tbody>\n",
       "    <tr>\n",
       "      <th>1.weight[0,0]</th>\n",
       "      <td>-0.496</td>\n",
       "      <td>1.478</td>\n",
       "      <td>-2.993</td>\n",
       "      <td>1.342</td>\n",
       "      <td>0.867</td>\n",
       "      <td>0.687</td>\n",
       "      <td>3.0</td>\n",
       "      <td>60.0</td>\n",
       "      <td>1.83</td>\n",
       "    </tr>\n",
       "    <tr>\n",
       "      <th>1.weight[0,1]</th>\n",
       "      <td>-2.072</td>\n",
       "      <td>0.963</td>\n",
       "      <td>-3.561</td>\n",
       "      <td>-0.288</td>\n",
       "      <td>0.078</td>\n",
       "      <td>0.056</td>\n",
       "      <td>151.0</td>\n",
       "      <td>132.0</td>\n",
       "      <td>1.18</td>\n",
       "    </tr>\n",
       "    <tr>\n",
       "      <th>1.weight[0,2]</th>\n",
       "      <td>-2.137</td>\n",
       "      <td>0.704</td>\n",
       "      <td>-3.061</td>\n",
       "      <td>-0.540</td>\n",
       "      <td>0.149</td>\n",
       "      <td>0.147</td>\n",
       "      <td>11.0</td>\n",
       "      <td>62.0</td>\n",
       "      <td>1.14</td>\n",
       "    </tr>\n",
       "    <tr>\n",
       "      <th>1.weight[0,3]</th>\n",
       "      <td>-0.169</td>\n",
       "      <td>0.714</td>\n",
       "      <td>-1.563</td>\n",
       "      <td>1.093</td>\n",
       "      <td>0.158</td>\n",
       "      <td>0.144</td>\n",
       "      <td>59.0</td>\n",
       "      <td>222.0</td>\n",
       "      <td>1.13</td>\n",
       "    </tr>\n",
       "    <tr>\n",
       "      <th>1.weight[0,4]</th>\n",
       "      <td>0.265</td>\n",
       "      <td>0.833</td>\n",
       "      <td>-1.162</td>\n",
       "      <td>1.501</td>\n",
       "      <td>0.511</td>\n",
       "      <td>0.411</td>\n",
       "      <td>3.0</td>\n",
       "      <td>107.0</td>\n",
       "      <td>1.83</td>\n",
       "    </tr>\n",
       "    <tr>\n",
       "      <th>...</th>\n",
       "      <td>...</td>\n",
       "      <td>...</td>\n",
       "      <td>...</td>\n",
       "      <td>...</td>\n",
       "      <td>...</td>\n",
       "      <td>...</td>\n",
       "      <td>...</td>\n",
       "      <td>...</td>\n",
       "      <td>...</td>\n",
       "    </tr>\n",
       "    <tr>\n",
       "      <th>1.bias[5]</th>\n",
       "      <td>3.268</td>\n",
       "      <td>0.810</td>\n",
       "      <td>1.617</td>\n",
       "      <td>4.547</td>\n",
       "      <td>0.283</td>\n",
       "      <td>0.239</td>\n",
       "      <td>5.0</td>\n",
       "      <td>98.0</td>\n",
       "      <td>1.32</td>\n",
       "    </tr>\n",
       "    <tr>\n",
       "      <th>1.bias[6]</th>\n",
       "      <td>0.029</td>\n",
       "      <td>0.477</td>\n",
       "      <td>-0.916</td>\n",
       "      <td>0.814</td>\n",
       "      <td>0.038</td>\n",
       "      <td>0.027</td>\n",
       "      <td>143.0</td>\n",
       "      <td>74.0</td>\n",
       "      <td>1.03</td>\n",
       "    </tr>\n",
       "    <tr>\n",
       "      <th>1.bias[7]</th>\n",
       "      <td>1.688</td>\n",
       "      <td>0.464</td>\n",
       "      <td>0.899</td>\n",
       "      <td>2.364</td>\n",
       "      <td>0.045</td>\n",
       "      <td>0.032</td>\n",
       "      <td>161.0</td>\n",
       "      <td>47.0</td>\n",
       "      <td>1.12</td>\n",
       "    </tr>\n",
       "    <tr>\n",
       "      <th>1.bias[8]</th>\n",
       "      <td>-2.649</td>\n",
       "      <td>0.514</td>\n",
       "      <td>-3.663</td>\n",
       "      <td>-1.877</td>\n",
       "      <td>0.054</td>\n",
       "      <td>0.038</td>\n",
       "      <td>97.0</td>\n",
       "      <td>136.0</td>\n",
       "      <td>1.06</td>\n",
       "    </tr>\n",
       "    <tr>\n",
       "      <th>1.bias[9]</th>\n",
       "      <td>-0.167</td>\n",
       "      <td>0.585</td>\n",
       "      <td>-0.967</td>\n",
       "      <td>1.032</td>\n",
       "      <td>0.197</td>\n",
       "      <td>0.144</td>\n",
       "      <td>13.0</td>\n",
       "      <td>176.0</td>\n",
       "      <td>1.15</td>\n",
       "    </tr>\n",
       "  </tbody>\n",
       "</table>\n",
       "<p>7850 rows × 9 columns</p>\n",
       "</div>"
      ],
      "text/plain": [
       "                mean     sd  hdi_3%  hdi_97%  mcse_mean  mcse_sd  ess_bulk  \\\n",
       "1.weight[0,0] -0.496  1.478  -2.993    1.342      0.867    0.687       3.0   \n",
       "1.weight[0,1] -2.072  0.963  -3.561   -0.288      0.078    0.056     151.0   \n",
       "1.weight[0,2] -2.137  0.704  -3.061   -0.540      0.149    0.147      11.0   \n",
       "1.weight[0,3] -0.169  0.714  -1.563    1.093      0.158    0.144      59.0   \n",
       "1.weight[0,4]  0.265  0.833  -1.162    1.501      0.511    0.411       3.0   \n",
       "...              ...    ...     ...      ...        ...      ...       ...   \n",
       "1.bias[5]      3.268  0.810   1.617    4.547      0.283    0.239       5.0   \n",
       "1.bias[6]      0.029  0.477  -0.916    0.814      0.038    0.027     143.0   \n",
       "1.bias[7]      1.688  0.464   0.899    2.364      0.045    0.032     161.0   \n",
       "1.bias[8]     -2.649  0.514  -3.663   -1.877      0.054    0.038      97.0   \n",
       "1.bias[9]     -0.167  0.585  -0.967    1.032      0.197    0.144      13.0   \n",
       "\n",
       "               ess_tail  r_hat  \n",
       "1.weight[0,0]      60.0   1.83  \n",
       "1.weight[0,1]     132.0   1.18  \n",
       "1.weight[0,2]      62.0   1.14  \n",
       "1.weight[0,3]     222.0   1.13  \n",
       "1.weight[0,4]     107.0   1.83  \n",
       "...                 ...    ...  \n",
       "1.bias[5]          98.0   1.32  \n",
       "1.bias[6]          74.0   1.03  \n",
       "1.bias[7]          47.0   1.12  \n",
       "1.bias[8]         136.0   1.06  \n",
       "1.bias[9]         176.0   1.15  \n",
       "\n",
       "[7850 rows x 9 columns]"
      ]
     },
     "execution_count": 79,
     "metadata": {},
     "output_type": "execute_result"
    }
   ],
   "source": [
    "az.summary(dataset)"
   ]
  },
  {
   "cell_type": "code",
   "execution_count": 80,
   "metadata": {},
   "outputs": [
    {
     "name": "stdout",
     "output_type": "stream",
     "text": [
      "{'1.weight': 1.453861862862687, '1.bias': 1.1607318528841408}\n"
     ]
    }
   ],
   "source": [
    "print(mean_r_hat_values)"
   ]
  },
  {
   "cell_type": "code",
   "execution_count": 81,
   "metadata": {},
   "outputs": [
    {
     "data": {
      "text/plain": [
       "{'1.weight': 30.12714771000977, '1.bias': 64.02426545788761}"
      ]
     },
     "execution_count": 81,
     "metadata": {},
     "output_type": "execute_result"
    }
   ],
   "source": [
    "mean_ess_values"
   ]
  },
  {
   "cell_type": "code",
   "execution_count": 82,
   "metadata": {},
   "outputs": [
    {
     "data": {
      "text/plain": [
       "{'1.weight': 0.4712754299075291, '1.bias': 0.13311773795785092}"
      ]
     },
     "execution_count": 82,
     "metadata": {},
     "output_type": "execute_result"
    }
   ],
   "source": [
    "mean_mcse_values"
   ]
  },
  {
   "cell_type": "code",
   "execution_count": 118,
   "metadata": {},
   "outputs": [],
   "source": [
    "from hamiltonian.psis import *\n",
    "\n",
    "loo,loos,ks=psisloo(log_like)"
   ]
  },
  {
   "cell_type": "code",
   "execution_count": 112,
   "metadata": {},
   "outputs": [],
   "source": [
    "ks[ks>1]=1"
   ]
  },
  {
   "cell_type": "code",
   "execution_count": 113,
   "metadata": {},
   "outputs": [
    {
     "data": {
      "text/plain": [
       "<AxesSubplot:ylabel='Count'>"
      ]
     },
     "execution_count": 113,
     "metadata": {},
     "output_type": "execute_result"
    },
    {
     "data": {
      "image/png": "[encoded data removed]",
      "text/plain": [
       "<Figure size 432x288 with 1 Axes>"
      ]
     },
     "metadata": {
      "needs_background": "light"
     },
     "output_type": "display_data"
    }
   ],
   "source": [
    "sns.histplot(ks)"
   ]
  },
  {
   "cell_type": "code",
   "execution_count": 99,
   "metadata": {},
   "outputs": [
    {
     "data": {
      "text/plain": [
       "6286"
      ]
     },
     "execution_count": 99,
     "metadata": {},
     "output_type": "execute_result"
    }
   ],
   "source": [
    "np.sum(ks>0.7)"
   ]
  },
  {
   "cell_type": "markdown",
   "metadata": {},
   "source": [
    "# Hierarchical Softmax <a class=\"anchor\" id=\"chapter3\"></a>"
   ]
  },
  {
   "cell_type": "code",
   "execution_count": 119,
   "metadata": {},
   "outputs": [],
   "source": [
    "from hamiltonian.models.softmax import hierarchical_softmax\n",
    "from hamiltonian.inference.sgld import sgld\n",
    "\n",
    "model=hierarchical_softmax(hyper,in_units,out_units,ctx=model_ctx)\n",
    "inference=sgld(model,model.par,step_size=0.01,ctx=model_ctx)"
   ]
  },
  {
   "cell_type": "code",
   "execution_count": 120,
   "metadata": {},
   "outputs": [],
   "source": [
    "train_sgld=False\n",
    "num_epochs=100\n",
    "\n",
    "if train_sgld:\n",
    "    loss,posterior_samples=inference.sample(epochs=num_epochs,batch_size=batch_size,\n",
    "                                data_loader=train_data,\n",
    "                                verbose=True,chain_name='chain_hierarchical')\n",
    "\n",
    "    plt.rcParams['figure.dpi'] = 360\n",
    "    sns.set_style(\"whitegrid\")\n",
    "    fig=plt.figure(figsize=[5,5])\n",
    "    plt.plot(loss[0],color='blue',lw=3)\n",
    "    plt.plot(loss[1],color='red',lw=3)\n",
    "    plt.xlabel('Epoch', size=18)\n",
    "    plt.ylabel('Loss', size=18)\n",
    "    plt.title('SGLD Hierarchical Softmax MNIST', size=18)\n",
    "    plt.xticks(size=14)\n",
    "    plt.yticks(size=14)\n",
    "    plt.savefig('sgld_hierarchical_softmax.pdf', bbox_inches='tight')\n",
    "else:\n",
    "    chain1=glob.glob(\"../scripts/results/softmax/chain_hierarchical_0_1_sgld*\")\n",
    "    chain2=glob.glob(\"../scripts/results/softmax/chain_hierarchical_0_sgld*\")\n",
    "    posterior_samples=[chain1,chain2]"
   ]
  },
  {
   "cell_type": "code",
   "execution_count": 121,
   "metadata": {},
   "outputs": [],
   "source": [
    "total_samples,total_labels,log_like=inference.predict(posterior_samples_flat,5,data_loader=val_data)"
   ]
  },
  {
   "cell_type": "code",
   "execution_count": 122,
   "metadata": {},
   "outputs": [
    {
     "name": "stdout",
     "output_type": "stream",
     "text": [
      "              precision    recall  f1-score   support\n",
      "\n",
      "           0       0.96      0.97      0.97       980\n",
      "           1       0.98      0.97      0.98      1135\n",
      "           2       0.93      0.90      0.91      1032\n",
      "           3       0.89      0.90      0.90      1010\n",
      "           4       0.92      0.93      0.93       982\n",
      "           5       0.86      0.87      0.87       892\n",
      "           6       0.92      0.94      0.93       958\n",
      "           7       0.91      0.93      0.92      1028\n",
      "           8       0.87      0.87      0.87       974\n",
      "           9       0.93      0.89      0.91      1009\n",
      "\n",
      "    accuracy                           0.92     10000\n",
      "   macro avg       0.92      0.92      0.92     10000\n",
      "weighted avg       0.92      0.92      0.92     10000\n",
      "\n"
     ]
    }
   ],
   "source": [
    "from sklearn.metrics import classification_report\n",
    "\n",
    "y_hat=np.quantile(total_samples,.5,axis=0)\n",
    "\n",
    "print(classification_report(np.int32(total_labels),np.int32(y_hat)))"
   ]
  },
  {
   "cell_type": "code",
   "execution_count": 123,
   "metadata": {},
   "outputs": [],
   "source": [
    "posterior_samples_flat=[item for sublist in posterior_samples for item in sublist]"
   ]
  },
  {
   "cell_type": "code",
   "execution_count": 124,
   "metadata": {},
   "outputs": [],
   "source": [
    "import arviz as az\n",
    "\n",
    "datasets=[az.convert_to_inference_data(sample) for sample in posterior_samples_multiple_chains]\n",
    "dataset = az.concat(datasets, dim=\"chain\")"
   ]
  },
  {
   "cell_type": "code",
   "execution_count": 125,
   "metadata": {},
   "outputs": [
    {
     "data": {
      "text/html": [
       "<div>\n",
       "<style scoped>\n",
       "    .dataframe tbody tr th:only-of-type {\n",
       "        vertical-align: middle;\n",
       "    }\n",
       "\n",
       "    .dataframe tbody tr th {\n",
       "        vertical-align: top;\n",
       "    }\n",
       "\n",
       "    .dataframe thead th {\n",
       "        text-align: right;\n",
       "    }\n",
       "</style>\n",
       "<table border=\"1\" class=\"dataframe\">\n",
       "  <thead>\n",
       "    <tr style=\"text-align: right;\">\n",
       "      <th></th>\n",
       "      <th>mean</th>\n",
       "      <th>sd</th>\n",
       "      <th>hdi_3%</th>\n",
       "      <th>hdi_97%</th>\n",
       "      <th>mcse_mean</th>\n",
       "      <th>mcse_sd</th>\n",
       "      <th>ess_bulk</th>\n",
       "      <th>ess_tail</th>\n",
       "      <th>r_hat</th>\n",
       "    </tr>\n",
       "  </thead>\n",
       "  <tbody>\n",
       "    <tr>\n",
       "      <th>1.weight[0,0]</th>\n",
       "      <td>-0.496</td>\n",
       "      <td>1.478</td>\n",
       "      <td>-2.993</td>\n",
       "      <td>1.342</td>\n",
       "      <td>0.867</td>\n",
       "      <td>0.687</td>\n",
       "      <td>3.0</td>\n",
       "      <td>60.0</td>\n",
       "      <td>1.83</td>\n",
       "    </tr>\n",
       "    <tr>\n",
       "      <th>1.weight[0,1]</th>\n",
       "      <td>-2.072</td>\n",
       "      <td>0.963</td>\n",
       "      <td>-3.561</td>\n",
       "      <td>-0.288</td>\n",
       "      <td>0.078</td>\n",
       "      <td>0.056</td>\n",
       "      <td>151.0</td>\n",
       "      <td>132.0</td>\n",
       "      <td>1.18</td>\n",
       "    </tr>\n",
       "    <tr>\n",
       "      <th>1.weight[0,2]</th>\n",
       "      <td>-2.137</td>\n",
       "      <td>0.704</td>\n",
       "      <td>-3.061</td>\n",
       "      <td>-0.540</td>\n",
       "      <td>0.149</td>\n",
       "      <td>0.147</td>\n",
       "      <td>11.0</td>\n",
       "      <td>62.0</td>\n",
       "      <td>1.14</td>\n",
       "    </tr>\n",
       "    <tr>\n",
       "      <th>1.weight[0,3]</th>\n",
       "      <td>-0.169</td>\n",
       "      <td>0.714</td>\n",
       "      <td>-1.563</td>\n",
       "      <td>1.093</td>\n",
       "      <td>0.158</td>\n",
       "      <td>0.144</td>\n",
       "      <td>59.0</td>\n",
       "      <td>222.0</td>\n",
       "      <td>1.13</td>\n",
       "    </tr>\n",
       "    <tr>\n",
       "      <th>1.weight[0,4]</th>\n",
       "      <td>0.265</td>\n",
       "      <td>0.833</td>\n",
       "      <td>-1.162</td>\n",
       "      <td>1.501</td>\n",
       "      <td>0.511</td>\n",
       "      <td>0.411</td>\n",
       "      <td>3.0</td>\n",
       "      <td>107.0</td>\n",
       "      <td>1.83</td>\n",
       "    </tr>\n",
       "    <tr>\n",
       "      <th>...</th>\n",
       "      <td>...</td>\n",
       "      <td>...</td>\n",
       "      <td>...</td>\n",
       "      <td>...</td>\n",
       "      <td>...</td>\n",
       "      <td>...</td>\n",
       "      <td>...</td>\n",
       "      <td>...</td>\n",
       "      <td>...</td>\n",
       "    </tr>\n",
       "    <tr>\n",
       "      <th>1.bias[5]</th>\n",
       "      <td>3.268</td>\n",
       "      <td>0.810</td>\n",
       "      <td>1.617</td>\n",
       "      <td>4.547</td>\n",
       "      <td>0.283</td>\n",
       "      <td>0.239</td>\n",
       "      <td>5.0</td>\n",
       "      <td>98.0</td>\n",
       "      <td>1.32</td>\n",
       "    </tr>\n",
       "    <tr>\n",
       "      <th>1.bias[6]</th>\n",
       "      <td>0.029</td>\n",
       "      <td>0.477</td>\n",
       "      <td>-0.916</td>\n",
       "      <td>0.814</td>\n",
       "      <td>0.038</td>\n",
       "      <td>0.027</td>\n",
       "      <td>143.0</td>\n",
       "      <td>74.0</td>\n",
       "      <td>1.03</td>\n",
       "    </tr>\n",
       "    <tr>\n",
       "      <th>1.bias[7]</th>\n",
       "      <td>1.688</td>\n",
       "      <td>0.464</td>\n",
       "      <td>0.899</td>\n",
       "      <td>2.364</td>\n",
       "      <td>0.045</td>\n",
       "      <td>0.032</td>\n",
       "      <td>161.0</td>\n",
       "      <td>47.0</td>\n",
       "      <td>1.12</td>\n",
       "    </tr>\n",
       "    <tr>\n",
       "      <th>1.bias[8]</th>\n",
       "      <td>-2.649</td>\n",
       "      <td>0.514</td>\n",
       "      <td>-3.663</td>\n",
       "      <td>-1.877</td>\n",
       "      <td>0.054</td>\n",
       "      <td>0.038</td>\n",
       "      <td>97.0</td>\n",
       "      <td>136.0</td>\n",
       "      <td>1.06</td>\n",
       "    </tr>\n",
       "    <tr>\n",
       "      <th>1.bias[9]</th>\n",
       "      <td>-0.167</td>\n",
       "      <td>0.585</td>\n",
       "      <td>-0.967</td>\n",
       "      <td>1.032</td>\n",
       "      <td>0.197</td>\n",
       "      <td>0.144</td>\n",
       "      <td>13.0</td>\n",
       "      <td>176.0</td>\n",
       "      <td>1.15</td>\n",
       "    </tr>\n",
       "  </tbody>\n",
       "</table>\n",
       "<p>7850 rows × 9 columns</p>\n",
       "</div>"
      ],
      "text/plain": [
       "                mean     sd  hdi_3%  hdi_97%  mcse_mean  mcse_sd  ess_bulk  \\\n",
       "1.weight[0,0] -0.496  1.478  -2.993    1.342      0.867    0.687       3.0   \n",
       "1.weight[0,1] -2.072  0.963  -3.561   -0.288      0.078    0.056     151.0   \n",
       "1.weight[0,2] -2.137  0.704  -3.061   -0.540      0.149    0.147      11.0   \n",
       "1.weight[0,3] -0.169  0.714  -1.563    1.093      0.158    0.144      59.0   \n",
       "1.weight[0,4]  0.265  0.833  -1.162    1.501      0.511    0.411       3.0   \n",
       "...              ...    ...     ...      ...        ...      ...       ...   \n",
       "1.bias[5]      3.268  0.810   1.617    4.547      0.283    0.239       5.0   \n",
       "1.bias[6]      0.029  0.477  -0.916    0.814      0.038    0.027     143.0   \n",
       "1.bias[7]      1.688  0.464   0.899    2.364      0.045    0.032     161.0   \n",
       "1.bias[8]     -2.649  0.514  -3.663   -1.877      0.054    0.038      97.0   \n",
       "1.bias[9]     -0.167  0.585  -0.967    1.032      0.197    0.144      13.0   \n",
       "\n",
       "               ess_tail  r_hat  \n",
       "1.weight[0,0]      60.0   1.83  \n",
       "1.weight[0,1]     132.0   1.18  \n",
       "1.weight[0,2]      62.0   1.14  \n",
       "1.weight[0,3]     222.0   1.13  \n",
       "1.weight[0,4]     107.0   1.83  \n",
       "...                 ...    ...  \n",
       "1.bias[5]          98.0   1.32  \n",
       "1.bias[6]          74.0   1.03  \n",
       "1.bias[7]          47.0   1.12  \n",
       "1.bias[8]         136.0   1.06  \n",
       "1.bias[9]         176.0   1.15  \n",
       "\n",
       "[7850 rows x 9 columns]"
      ]
     },
     "execution_count": 125,
     "metadata": {},
     "output_type": "execute_result"
    }
   ],
   "source": [
    "az.summary(dataset)"
   ]
  },
  {
   "cell_type": "code",
   "execution_count": 126,
   "metadata": {},
   "outputs": [
    {
     "name": "stdout",
     "output_type": "stream",
     "text": [
      "{'1.weight': 1.453861862862687, '1.bias': 1.1607318528841408}\n"
     ]
    }
   ],
   "source": [
    "mean_r_hat_values={var:float(az.rhat(dataset)[var].mean().data) for var in model.par}\n",
    "print(mean_r_hat_values)"
   ]
  },
  {
   "cell_type": "code",
   "execution_count": 127,
   "metadata": {},
   "outputs": [
    {
     "name": "stdout",
     "output_type": "stream",
     "text": [
      "{'1.weight': 30.12714771000977, '1.bias': 64.02426545788761}\n"
     ]
    }
   ],
   "source": [
    "mean_ess_values={var:float(az.ess(dataset)[var].mean().data) for var in model.par}\n",
    "print(mean_ess_values)"
   ]
  },
  {
   "cell_type": "code",
   "execution_count": 128,
   "metadata": {},
   "outputs": [
    {
     "name": "stdout",
     "output_type": "stream",
     "text": [
      "{'1.weight': 0.4712754299075291, '1.bias': 0.13311773795785092}\n"
     ]
    }
   ],
   "source": [
    "mean_mcse_values={var:float(az.mcse(dataset)[var].mean().data) for var in model.par}\n",
    "print(mean_mcse_values)"
   ]
  },
  {
   "cell_type": "code",
   "execution_count": 129,
   "metadata": {},
   "outputs": [],
   "source": [
    "loo,loos,ks=psisloo(log_like)"
   ]
  },
  {
   "cell_type": "code",
   "execution_count": 132,
   "metadata": {},
   "outputs": [
    {
     "data": {
      "text/plain": [
       "6273"
      ]
     },
     "execution_count": 132,
     "metadata": {},
     "output_type": "execute_result"
    }
   ],
   "source": [
    "np.sum(ks>0.7)"
   ]
  },
  {
   "cell_type": "code",
   "execution_count": 134,
   "metadata": {},
   "outputs": [
    {
     "data": {
      "text/plain": [
       "<AxesSubplot:ylabel='Count'>"
      ]
     },
     "execution_count": 134,
     "metadata": {},
     "output_type": "execute_result"
    },
    {
     "data": {
      "image/png": "[encoded data removed]",
      "text/plain": [
       "<Figure size 432x288 with 1 Axes>"
      ]
     },
     "metadata": {
      "needs_background": "light"
     },
     "output_type": "display_data"
    }
   ],
   "source": [
    "ks[ks>1]=1\n",
    "sns.histplot(ks)"
   ]
  },
  {
   "cell_type": "code",
   "execution_count": null,
   "metadata": {},
   "outputs": [],
   "source": []
  }
 ],
 "metadata": {
  "kernelspec": {
   "display_name": "Python 3",
   "language": "python",
   "name": "python3"
  },
  "language_info": {
   "codemirror_mode": {
    "name": "ipython",
    "version": 3
   },
   "file_extension": ".py",
   "mimetype": "text/x-python",
   "name": "python",
   "nbconvert_exporter": "python",
   "pygments_lexer": "ipython3",
   "version": "3.8.10"
  }
 },
 "nbformat": 4,
 "nbformat_minor": 4
}
