{
 "cells": [
  {
   "cell_type": "code",
   "execution_count": 43,
   "id": "legendary-traveler",
   "metadata": {},
   "outputs": [],
   "source": [
    "from mxnet import np, npx\n",
    "from mxnet.gluon import nn\n",
    "import mxnet as mx\n",
    "\n",
    "def residual_unit(data, num_filter, stride, dim_match, name, bottle_neck=True, bn_mom=0.9, workspace=512, memonger=False):\n",
    "    \"\"\"Return ResNet Unit symbol for building ResNet\n",
    "    Parameters\n",
    "    ----------\n",
    "    data : str\n",
    "        Input data\n",
    "    num_filter : int\n",
    "        Number of output channels\n",
    "    bnf : int\n",
    "        Bottle neck channels factor with regard to num_filter\n",
    "    stride : tupe\n",
    "        Stride used in convolution\n",
    "    dim_match : Boolen\n",
    "        True means channel number between input and output is the same, otherwise means differ\n",
    "    name : str\n",
    "        Base name of the operators\n",
    "    workspace : int\n",
    "        Workspace used in convolution operator\n",
    "    \"\"\"\n",
    "    if bottle_neck:\n",
    "        # the same as https://github.com/facebook/fb.resnet.torch#notes, a bit difference with origin paper\n",
    "        bn1 = mx.sym.BatchNorm(data=data, fix_gamma=False, eps=2e-5, momentum=bn_mom, name=name + '_bn1')\n",
    "        act1 = mx.sym.Activation(data=bn1, act_type='relu', name=name + '_relu1')\n",
    "        conv1 = mx.sym.Convolution(data=act1, num_filter=int(num_filter*0.25), kernel=(1,1), stride=(1,1), pad=(0,0),\n",
    "                                      no_bias=True, workspace=workspace, name=name + '_conv1')\n",
    "        bn2 = mx.sym.BatchNorm(data=conv1, fix_gamma=False, eps=2e-5, momentum=bn_mom, name=name + '_bn2')\n",
    "        act2 = mx.sym.Activation(data=bn2, act_type='relu', name=name + '_relu2')\n",
    "        conv2 = mx.sym.Convolution(data=act2, num_filter=int(num_filter*0.25), kernel=(3,3), stride=stride, pad=(1,1),\n",
    "                                      no_bias=True, workspace=workspace, name=name + '_conv2')\n",
    "        bn3 = mx.sym.BatchNorm(data=conv2, fix_gamma=False, eps=2e-5, momentum=bn_mom, name=name + '_bn3')\n",
    "        act3 = mx.sym.Activation(data=bn3, act_type='relu', name=name + '_relu3')\n",
    "        conv3 = mx.sym.Convolution(data=act3, num_filter=num_filter, kernel=(1,1), stride=(1,1), pad=(0,0), no_bias=True,\n",
    "                                   workspace=workspace, name=name + '_conv3')\n",
    "        if dim_match:\n",
    "            shortcut = data\n",
    "        else:\n",
    "            shortcut = mx.sym.Convolution(data=act1, num_filter=num_filter, kernel=(1,1), stride=stride, no_bias=True,\n",
    "                                            workspace=workspace, name=name+'_sc')\n",
    "        if memonger:\n",
    "            shortcut._set_attr(mirror_stage='True')\n",
    "        return conv3 + shortcut\n",
    "    else:\n",
    "        bn1 = mx.sym.BatchNorm(data=data, fix_gamma=False, momentum=bn_mom, eps=2e-5, name=name + '_bn1')\n",
    "        act1 = mx.sym.Activation(data=bn1, act_type='relu', name=name + '_relu1')\n",
    "        conv1 = mx.sym.Convolution(data=act1, num_filter=num_filter, kernel=(3,3), stride=stride, pad=(1,1),\n",
    "                                      no_bias=True, workspace=workspace, name=name + '_conv1')\n",
    "        bn2 = mx.sym.BatchNorm(data=conv1, fix_gamma=False, momentum=bn_mom, eps=2e-5, name=name + '_bn2')\n",
    "        act2 = mx.sym.Activation(data=bn2, act_type='relu', name=name + '_relu2')\n",
    "        conv2 = mx.sym.Convolution(data=act2, num_filter=num_filter, kernel=(3,3), stride=(1,1), pad=(1,1),\n",
    "                                      no_bias=True, workspace=workspace, name=name + '_conv2')\n",
    "        if dim_match:\n",
    "            shortcut = data\n",
    "        else:\n",
    "            shortcut = mx.sym.Convolution(data=act1, num_filter=num_filter, kernel=(1,1), stride=stride, no_bias=True,\n",
    "                                            workspace=workspace, name=name+'_sc')\n",
    "        if memonger:\n",
    "            shortcut._set_attr(mirror_stage='True')\n",
    "        return conv2 + shortcut\n",
    "\n",
    "def resnet(units, num_stage, filter_list, num_class, data_type, bottle_neck=True, bn_mom=0.9, workspace=512, memonger=False):\n",
    "    \"\"\"Return ResNet symbol of cifar10 and imagenet\n",
    "    Parameters\n",
    "    ----------\n",
    "    units : list\n",
    "        Number of units in each stage\n",
    "    num_stage : int\n",
    "        Number of stage\n",
    "    filter_list : list\n",
    "        Channel size of each stage\n",
    "    num_class : int\n",
    "        Ouput size of symbol\n",
    "    dataset : str\n",
    "        Dataset type, only cifar10 and imagenet supports\n",
    "    workspace : int\n",
    "        Workspace used in convolution operator\n",
    "    \"\"\"\n",
    "    num_unit = len(units)\n",
    "    assert(num_unit == num_stage)\n",
    "    data = mx.sym.Variable(name='data')\n",
    "    data = mx.sym.BatchNorm(data=data, fix_gamma=True, eps=2e-5, momentum=bn_mom, name='bn_data')\n",
    "    if data_type == 'cifar10':\n",
    "        body = mx.sym.Convolution(data=data, num_filter=filter_list[0], kernel=(3, 3), stride=(1,1), pad=(1, 1),\n",
    "                                  no_bias=True, name=\"conv0\", workspace=workspace)\n",
    "    elif data_type == 'imagenet':\n",
    "        body = mx.sym.Convolution(data=data, num_filter=filter_list[0], kernel=(7, 7), stride=(2,2), pad=(3, 3),\n",
    "                                  no_bias=True, name=\"conv0\", workspace=workspace)\n",
    "        body = mx.sym.BatchNorm(data=body, fix_gamma=False, eps=2e-5, momentum=bn_mom, name='bn0')\n",
    "        body = mx.sym.Activation(data=body, act_type='relu', name='relu0')\n",
    "        body = mx.symbol.Pooling(data=body, kernel=(3, 3), stride=(2,2), pad=(1,1), pool_type='max')\n",
    "    else:\n",
    "         raise ValueError(\"do not support {} yet\".format(data_type))\n",
    "    for i in range(num_stage):\n",
    "        body = residual_unit(body, filter_list[i+1], (1 if i==0 else 2, 1 if i==0 else 2), False,\n",
    "                             name='stage%d_unit%d' % (i + 1, 1), bottle_neck=bottle_neck, workspace=workspace,\n",
    "                             memonger=memonger)\n",
    "        for j in range(units[i]-1):\n",
    "            body = residual_unit(body, filter_list[i+1], (1,1), True, name='stage%d_unit%d' % (i + 1, j + 2),\n",
    "                                 bottle_neck=bottle_neck, workspace=workspace, memonger=memonger)\n",
    "    bn1 = mx.sym.BatchNorm(data=body, fix_gamma=False, eps=2e-5, momentum=bn_mom, name='bn1')\n",
    "    relu1 = mx.sym.Activation(data=bn1, act_type='relu', name='relu1')\n",
    "    # Although kernel is not used here when global_pool=True, we should put one\n",
    "    pool1 = mx.symbol.Pooling(data=relu1, global_pool=True, kernel=(7, 7), pool_type='avg', name='pool1')\n",
    "    flat = mx.symbol.Flatten(data=pool1)\n",
    "    fc1 = mx.symbol.FullyConnected(data=flat, num_hidden=num_class, name='fc1')\n",
    "    return mx.symbol.SoftmaxOutput(data=fc1, name='softmax')"
   ]
  },
  {
   "cell_type": "code",
   "execution_count": 45,
   "id": "accomplished-burning",
   "metadata": {},
   "outputs": [
    {
     "ename": "IndexError",
     "evalue": "list index out of range",
     "output_type": "error",
     "traceback": [
      "\u001b[0;31m---------------------------------------------------------------------------\u001b[0m",
      "\u001b[0;31mIndexError\u001b[0m                                Traceback (most recent call last)",
      "\u001b[0;32m<ipython-input-45-63ce4dbdc8bb>\u001b[0m in \u001b[0;36m<module>\u001b[0;34m\u001b[0m\n\u001b[1;32m      1\u001b[0m \u001b[0;32mfrom\u001b[0m \u001b[0mmxnet\u001b[0m \u001b[0;32mimport\u001b[0m \u001b[0mndarray\u001b[0m \u001b[0;32mas\u001b[0m \u001b[0mnd\u001b[0m\u001b[0;34m\u001b[0m\u001b[0;34m\u001b[0m\u001b[0m\n\u001b[1;32m      2\u001b[0m \u001b[0;34m\u001b[0m\u001b[0m\n\u001b[0;32m----> 3\u001b[0;31m resnet(units=[2, 2, 2, 2], num_stage=4, filter_list=[16, 64, 128, 256], \n\u001b[0m\u001b[1;32m      4\u001b[0m        \u001b[0mnum_class\u001b[0m\u001b[0;34m=\u001b[0m\u001b[0;36m10\u001b[0m\u001b[0;34m,\u001b[0m \u001b[0mdata_type\u001b[0m\u001b[0;34m=\u001b[0m\u001b[0;34m'cifar10'\u001b[0m\u001b[0;34m,\u001b[0m \u001b[0mbottle_neck\u001b[0m\u001b[0;34m=\u001b[0m\u001b[0;32mTrue\u001b[0m\u001b[0;34m,\u001b[0m \u001b[0mbn_mom\u001b[0m\u001b[0;34m=\u001b[0m\u001b[0;36m0.9\u001b[0m\u001b[0;34m,\u001b[0m\u001b[0;34m\u001b[0m\u001b[0;34m\u001b[0m\u001b[0m\n\u001b[1;32m      5\u001b[0m        workspace=512, memonger=False)\n",
      "\u001b[0;32m<ipython-input-43-b1b4e3ff0a9f>\u001b[0m in \u001b[0;36mresnet\u001b[0;34m(units, num_stage, filter_list, num_class, data_type, bottle_neck, bn_mom, workspace, memonger)\u001b[0m\n\u001b[1;32m     95\u001b[0m          \u001b[0;32mraise\u001b[0m \u001b[0mValueError\u001b[0m\u001b[0;34m(\u001b[0m\u001b[0;34m\"do not support {} yet\"\u001b[0m\u001b[0;34m.\u001b[0m\u001b[0mformat\u001b[0m\u001b[0;34m(\u001b[0m\u001b[0mdata_type\u001b[0m\u001b[0;34m)\u001b[0m\u001b[0;34m)\u001b[0m\u001b[0;34m\u001b[0m\u001b[0;34m\u001b[0m\u001b[0m\n\u001b[1;32m     96\u001b[0m     \u001b[0;32mfor\u001b[0m \u001b[0mi\u001b[0m \u001b[0;32min\u001b[0m \u001b[0mrange\u001b[0m\u001b[0;34m(\u001b[0m\u001b[0mnum_stage\u001b[0m\u001b[0;34m)\u001b[0m\u001b[0;34m:\u001b[0m\u001b[0;34m\u001b[0m\u001b[0;34m\u001b[0m\u001b[0m\n\u001b[0;32m---> 97\u001b[0;31m         body = residual_unit(body, filter_list[i+1], (1 if i==0 else 2, 1 if i==0 else 2), False,\n\u001b[0m\u001b[1;32m     98\u001b[0m                              \u001b[0mname\u001b[0m\u001b[0;34m=\u001b[0m\u001b[0;34m'stage%d_unit%d'\u001b[0m \u001b[0;34m%\u001b[0m \u001b[0;34m(\u001b[0m\u001b[0mi\u001b[0m \u001b[0;34m+\u001b[0m \u001b[0;36m1\u001b[0m\u001b[0;34m,\u001b[0m \u001b[0;36m1\u001b[0m\u001b[0;34m)\u001b[0m\u001b[0;34m,\u001b[0m \u001b[0mbottle_neck\u001b[0m\u001b[0;34m=\u001b[0m\u001b[0mbottle_neck\u001b[0m\u001b[0;34m,\u001b[0m \u001b[0mworkspace\u001b[0m\u001b[0;34m=\u001b[0m\u001b[0mworkspace\u001b[0m\u001b[0;34m,\u001b[0m\u001b[0;34m\u001b[0m\u001b[0;34m\u001b[0m\u001b[0m\n\u001b[1;32m     99\u001b[0m                              memonger=memonger)\n",
      "\u001b[0;31mIndexError\u001b[0m: list index out of range"
     ]
    }
   ],
   "source": [
    "from mxnet import ndarray as nd \n",
    "\n",
    "resnet(units=[2, 2, 2, 2], num_stage=4, filter_list=[16, 64, 128, 256], \n",
    "       num_class=10, data_type='cifar10', bottle_neck=True, bn_mom=0.9, \n",
    "       workspace=512, memonger=False)\n",
    "X = nd.random.uniform(shape=(4, 3, 32, 32))"
   ]
  },
  {
   "cell_type": "code",
   "execution_count": 8,
   "id": "ultimate-advance",
   "metadata": {},
   "outputs": [],
   "source": [
    "def resnet_block(num_channels, num_residuals, first_block=False):\n",
    "    blk = nn.Sequential()\n",
    "    for i in range(num_residuals):\n",
    "        if i == 0 and not first_block:\n",
    "            blk.add(Residual(num_channels, use_1x1conv=True, strides=2))\n",
    "        else:\n",
    "            blk.add(Residual(num_channels))\n",
    "    return blk\n",
    "\n",
    "net = nn.Sequential()\n",
    "net.add(nn.Conv2D(64, kernel_size=7, strides=2, padding=3), nn.BatchNorm(),\n",
    "        nn.Activation('relu'), nn.MaxPool2D(pool_size=3, strides=2,\n",
    "                                            padding=1))\n",
    "net.add(resnet_block(64, 2, first_block=True), resnet_block(128, 2),\n",
    "        resnet_block(256, 2), resnet_block(512, 2))\n",
    "net.add(nn.GlobalAvgPool2D(), nn.Dense(10))"
   ]
  },
  {
   "cell_type": "code",
   "execution_count": 12,
   "id": "egyptian-remains",
   "metadata": {},
   "outputs": [
    {
     "data": {
      "text/plain": [
       "(1, 10)"
      ]
     },
     "execution_count": 12,
     "metadata": {},
     "output_type": "execute_result"
    }
   ],
   "source": [
    "X = np.random.uniform(size=(1, 1, 224, 224))\n",
    "net.initialize(force_reinit=True)\n",
    "net(X).shape"
   ]
  },
  {
   "cell_type": "code",
   "execution_count": null,
   "id": "substantial-breach",
   "metadata": {},
   "outputs": [],
   "source": []
  }
 ],
 "metadata": {
  "kernelspec": {
   "display_name": "Python 3",
   "language": "python",
   "name": "python3"
  },
  "language_info": {
   "codemirror_mode": {
    "name": "ipython",
    "version": 3
   },
   "file_extension": ".py",
   "mimetype": "text/x-python",
   "name": "python",
   "nbconvert_exporter": "python",
   "pygments_lexer": "ipython3",
   "version": "3.8.6"
  }
 },
 "nbformat": 4,
 "nbformat_minor": 5
}
