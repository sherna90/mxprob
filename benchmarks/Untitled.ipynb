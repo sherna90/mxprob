{
 "cells": [
  {
   "cell_type": "code",
   "execution_count": 10,
   "metadata": {},
   "outputs": [],
   "source": [
    "from mxnet import np, npx\n",
    "from mxnet.gluon import nn\n",
    "\n",
    "npx.set_np()\n",
    "\n",
    "\n",
    "\n",
    "class Residual(nn.Block):  #@save\n",
    "    \"\"\"The Residual block of ResNet.\"\"\"\n",
    "    def __init__(self, num_channels, use_1x1conv=False, strides=1, **kwargs):\n",
    "        super().__init__(**kwargs)\n",
    "        self.conv1 = nn.Conv2D(num_channels, kernel_size=3, padding=1,\n",
    "                               strides=strides)\n",
    "        self.conv2 = nn.Conv2D(num_channels, kernel_size=3, padding=1)\n",
    "        if use_1x1conv:\n",
    "            self.conv3 = nn.Conv2D(num_channels, kernel_size=1,\n",
    "                                   strides=strides)\n",
    "        else:\n",
    "            self.conv3 = None\n",
    "        self.bn1 = nn.BatchNorm()\n",
    "        self.bn2 = nn.BatchNorm()\n",
    "\n",
    "    def forward(self, X):\n",
    "        Y=self.conv1(X)\n",
    "        Y=self.bn1(Y)\n",
    "        Y = self.relu(Y)\n",
    "        Y = self.bn2(self.conv2(Y))\n",
    "        if self.conv3:\n",
    "            X = self.conv3(X)\n",
    "        return self.relu(Y + X)\n",
    "    \n",
    "    def relu(self,X):\n",
    "        return nd.maximum(X, 0)"
   ]
  },
  {
   "cell_type": "code",
   "execution_count": 32,
   "metadata": {},
   "outputs": [],
   "source": [
    "import mxnet as mx \n",
    "\n",
    "class MyDense(nn.Block):\n",
    "    ####################\n",
    "    # We add arguments to our constructor (__init__)\n",
    "    # to indicate the number of input units (``in_units``)\n",
    "    # and output units (``units``)\n",
    "    ####################\n",
    "    def __init__(self, units, in_units=0, **kwargs):\n",
    "        super(MyDense, self).__init__(**kwargs)\n",
    "        self.units = units\n",
    "        self._in_units = in_units\n",
    "        self.weight = self.params.get(\n",
    "                'weight', init=mx.init.Xavier(magnitude=2.24),shape=(in_units, units))\n",
    "        self.bias = self.params.get('bias', shape=(units,))\n",
    "\n",
    "    #################\n",
    "    #  Now we just have to write the forward pass.\n",
    "    #  We could rely upong the FullyConnected primitive in NDArray,\n",
    "    #  but it's better to get our hands dirty and write it out\n",
    "    #  so you'll know how to compose arbitrary functions\n",
    "    #################\n",
    "    def forward(self, x):\n",
    "        with x.context:\n",
    "            linear = nd.dot(x, self.weight.data()) + self.bias.data()\n",
    "            activation = self.relu(linear)\n",
    "            return activation\n",
    "        \n",
    "    def relu(self,X):\n",
    "        return nd.maximum(X, 0)"
   ]
  },
  {
   "cell_type": "code",
   "execution_count": 33,
   "metadata": {},
   "outputs": [
    {
     "ename": "TypeError",
     "evalue": "get() takes no keyword arguments",
     "output_type": "error",
     "traceback": [
      "\u001b[0;31m---------------------------------------------------------------------------\u001b[0m",
      "\u001b[0;31mTypeError\u001b[0m                                 Traceback (most recent call last)",
      "\u001b[0;32m<ipython-input-33-fb7cc4335df4>\u001b[0m in \u001b[0;36m<module>\u001b[0;34m\u001b[0m\n\u001b[0;32m----> 1\u001b[0;31m \u001b[0mdense\u001b[0m \u001b[0;34m=\u001b[0m \u001b[0mMyDense\u001b[0m\u001b[0;34m(\u001b[0m\u001b[0;36m20\u001b[0m\u001b[0;34m,\u001b[0m \u001b[0min_units\u001b[0m\u001b[0;34m=\u001b[0m\u001b[0;36m10\u001b[0m\u001b[0;34m)\u001b[0m\u001b[0;34m\u001b[0m\u001b[0;34m\u001b[0m\u001b[0m\n\u001b[0m\u001b[1;32m      2\u001b[0m \u001b[0mdense\u001b[0m\u001b[0;34m.\u001b[0m\u001b[0minitialize\u001b[0m\u001b[0;34m(\u001b[0m\u001b[0mctx\u001b[0m\u001b[0;34m=\u001b[0m\u001b[0mmx\u001b[0m\u001b[0;34m.\u001b[0m\u001b[0mcpu\u001b[0m\u001b[0;34m(\u001b[0m\u001b[0;34m)\u001b[0m\u001b[0;34m)\u001b[0m\u001b[0;34m\u001b[0m\u001b[0;34m\u001b[0m\u001b[0m\n",
      "\u001b[0;32m<ipython-input-32-914aeecf8ddc>\u001b[0m in \u001b[0;36m__init__\u001b[0;34m(self, units, in_units, **kwargs)\u001b[0m\n\u001b[1;32m     11\u001b[0m         \u001b[0mself\u001b[0m\u001b[0;34m.\u001b[0m\u001b[0munits\u001b[0m \u001b[0;34m=\u001b[0m \u001b[0munits\u001b[0m\u001b[0;34m\u001b[0m\u001b[0;34m\u001b[0m\u001b[0m\n\u001b[1;32m     12\u001b[0m         \u001b[0mself\u001b[0m\u001b[0;34m.\u001b[0m\u001b[0m_in_units\u001b[0m \u001b[0;34m=\u001b[0m \u001b[0min_units\u001b[0m\u001b[0;34m\u001b[0m\u001b[0;34m\u001b[0m\u001b[0m\n\u001b[0;32m---> 13\u001b[0;31m         self.weight = self.params.get(\n\u001b[0m\u001b[1;32m     14\u001b[0m                 'weight', init=mx.init.Xavier(magnitude=2.24),shape=(in_units, units))\n\u001b[1;32m     15\u001b[0m         \u001b[0mself\u001b[0m\u001b[0;34m.\u001b[0m\u001b[0mbias\u001b[0m \u001b[0;34m=\u001b[0m \u001b[0mself\u001b[0m\u001b[0;34m.\u001b[0m\u001b[0mparams\u001b[0m\u001b[0;34m.\u001b[0m\u001b[0mget\u001b[0m\u001b[0;34m(\u001b[0m\u001b[0;34m'bias'\u001b[0m\u001b[0;34m,\u001b[0m \u001b[0mshape\u001b[0m\u001b[0;34m=\u001b[0m\u001b[0;34m(\u001b[0m\u001b[0munits\u001b[0m\u001b[0;34m,\u001b[0m\u001b[0;34m)\u001b[0m\u001b[0;34m)\u001b[0m\u001b[0;34m\u001b[0m\u001b[0;34m\u001b[0m\u001b[0m\n",
      "\u001b[0;31mTypeError\u001b[0m: get() takes no keyword arguments"
     ]
    }
   ],
   "source": [
    "dense = MyDense(20, in_units=10)\n",
    "dense.initialize(ctx=mx.cpu())\n"
   ]
  },
  {
   "cell_type": "code",
   "execution_count": 36,
   "metadata": {},
   "outputs": [
    {
     "data": {
      "text/plain": [
       "{}"
      ]
     },
     "execution_count": 36,
     "metadata": {},
     "output_type": "execute_result"
    }
   ],
   "source": [
    "dense.params"
   ]
  },
  {
   "cell_type": "code",
   "execution_count": 31,
   "metadata": {},
   "outputs": [
    {
     "ename": "AttributeError",
     "evalue": "'MyDense' object has no attribute 'weight'",
     "output_type": "error",
     "traceback": [
      "\u001b[0;31m---------------------------------------------------------------------------\u001b[0m",
      "\u001b[0;31mAttributeError\u001b[0m                            Traceback (most recent call last)",
      "\u001b[0;32m<ipython-input-31-4ab9a2ff3ce8>\u001b[0m in \u001b[0;36m<module>\u001b[0;34m\u001b[0m\n\u001b[1;32m      2\u001b[0m \u001b[0;32mfrom\u001b[0m \u001b[0mmxnet\u001b[0m\u001b[0;34m.\u001b[0m\u001b[0mgluon\u001b[0m \u001b[0;32mimport\u001b[0m \u001b[0mnn\u001b[0m\u001b[0;34m,\u001b[0m \u001b[0mBlock\u001b[0m\u001b[0;34m\u001b[0m\u001b[0;34m\u001b[0m\u001b[0m\n\u001b[1;32m      3\u001b[0m \u001b[0;34m\u001b[0m\u001b[0m\n\u001b[0;32m----> 4\u001b[0;31m \u001b[0mdense\u001b[0m\u001b[0;34m(\u001b[0m\u001b[0mnd\u001b[0m\u001b[0;34m.\u001b[0m\u001b[0mones\u001b[0m\u001b[0;34m(\u001b[0m\u001b[0mshape\u001b[0m\u001b[0;34m=\u001b[0m\u001b[0;34m(\u001b[0m\u001b[0;36m2\u001b[0m\u001b[0;34m,\u001b[0m\u001b[0;36m10\u001b[0m\u001b[0;34m)\u001b[0m\u001b[0;34m)\u001b[0m\u001b[0;34m.\u001b[0m\u001b[0mas_in_context\u001b[0m\u001b[0;34m(\u001b[0m\u001b[0mmx\u001b[0m\u001b[0;34m.\u001b[0m\u001b[0mcpu\u001b[0m\u001b[0;34m(\u001b[0m\u001b[0;34m)\u001b[0m\u001b[0;34m)\u001b[0m\u001b[0;34m)\u001b[0m\u001b[0;34m\u001b[0m\u001b[0;34m\u001b[0m\u001b[0m\n\u001b[0m",
      "\u001b[0;32m~/code/mxnet/python/mxnet/gluon/block.py\u001b[0m in \u001b[0;36m__call__\u001b[0;34m(self, *args)\u001b[0m\n\u001b[1;32m    847\u001b[0m             \u001b[0mhook\u001b[0m\u001b[0;34m(\u001b[0m\u001b[0mself\u001b[0m\u001b[0;34m,\u001b[0m \u001b[0margs\u001b[0m\u001b[0;34m)\u001b[0m\u001b[0;34m\u001b[0m\u001b[0;34m\u001b[0m\u001b[0m\n\u001b[1;32m    848\u001b[0m \u001b[0;34m\u001b[0m\u001b[0m\n\u001b[0;32m--> 849\u001b[0;31m         \u001b[0mout\u001b[0m \u001b[0;34m=\u001b[0m \u001b[0mself\u001b[0m\u001b[0;34m.\u001b[0m\u001b[0mforward\u001b[0m\u001b[0;34m(\u001b[0m\u001b[0;34m*\u001b[0m\u001b[0margs\u001b[0m\u001b[0;34m)\u001b[0m\u001b[0;34m\u001b[0m\u001b[0;34m\u001b[0m\u001b[0m\n\u001b[0m\u001b[1;32m    850\u001b[0m \u001b[0;34m\u001b[0m\u001b[0m\n\u001b[1;32m    851\u001b[0m         \u001b[0;32mfor\u001b[0m \u001b[0mhook\u001b[0m \u001b[0;32min\u001b[0m \u001b[0mself\u001b[0m\u001b[0;34m.\u001b[0m\u001b[0m_forward_hooks\u001b[0m\u001b[0;34m.\u001b[0m\u001b[0mvalues\u001b[0m\u001b[0;34m(\u001b[0m\u001b[0;34m)\u001b[0m\u001b[0;34m:\u001b[0m\u001b[0;34m\u001b[0m\u001b[0;34m\u001b[0m\u001b[0m\n",
      "\u001b[0;32m<ipython-input-25-88ca39085a4f>\u001b[0m in \u001b[0;36mforward\u001b[0;34m(self, x)\u001b[0m\n\u001b[1;32m     21\u001b[0m     \u001b[0;32mdef\u001b[0m \u001b[0mforward\u001b[0m\u001b[0;34m(\u001b[0m\u001b[0mself\u001b[0m\u001b[0;34m,\u001b[0m \u001b[0mx\u001b[0m\u001b[0;34m)\u001b[0m\u001b[0;34m:\u001b[0m\u001b[0;34m\u001b[0m\u001b[0;34m\u001b[0m\u001b[0m\n\u001b[1;32m     22\u001b[0m         \u001b[0;32mwith\u001b[0m \u001b[0mx\u001b[0m\u001b[0;34m.\u001b[0m\u001b[0mcontext\u001b[0m\u001b[0;34m:\u001b[0m\u001b[0;34m\u001b[0m\u001b[0;34m\u001b[0m\u001b[0m\n\u001b[0;32m---> 23\u001b[0;31m             \u001b[0mlinear\u001b[0m \u001b[0;34m=\u001b[0m \u001b[0mnd\u001b[0m\u001b[0;34m.\u001b[0m\u001b[0mdot\u001b[0m\u001b[0;34m(\u001b[0m\u001b[0mx\u001b[0m\u001b[0;34m,\u001b[0m \u001b[0mself\u001b[0m\u001b[0;34m.\u001b[0m\u001b[0mweight\u001b[0m\u001b[0;34m.\u001b[0m\u001b[0mdata\u001b[0m\u001b[0;34m(\u001b[0m\u001b[0;34m)\u001b[0m\u001b[0;34m)\u001b[0m \u001b[0;34m+\u001b[0m \u001b[0mself\u001b[0m\u001b[0;34m.\u001b[0m\u001b[0mbias\u001b[0m\u001b[0;34m.\u001b[0m\u001b[0mdata\u001b[0m\u001b[0;34m(\u001b[0m\u001b[0;34m)\u001b[0m\u001b[0;34m\u001b[0m\u001b[0;34m\u001b[0m\u001b[0m\n\u001b[0m\u001b[1;32m     24\u001b[0m             \u001b[0mactivation\u001b[0m \u001b[0;34m=\u001b[0m \u001b[0mself\u001b[0m\u001b[0;34m.\u001b[0m\u001b[0mrelu\u001b[0m\u001b[0;34m(\u001b[0m\u001b[0mlinear\u001b[0m\u001b[0;34m)\u001b[0m\u001b[0;34m\u001b[0m\u001b[0;34m\u001b[0m\u001b[0m\n\u001b[1;32m     25\u001b[0m             \u001b[0;32mreturn\u001b[0m \u001b[0mactivation\u001b[0m\u001b[0;34m\u001b[0m\u001b[0;34m\u001b[0m\u001b[0m\n",
      "\u001b[0;31mAttributeError\u001b[0m: 'MyDense' object has no attribute 'weight'"
     ]
    }
   ],
   "source": [
    "from mxnet import nd, autograd, gluon\n",
    "from mxnet.gluon import nn, Block\n",
    "\n",
    "dense(nd.ones(shape=(2,10)).as_in_context(mx.cpu()))"
   ]
  },
  {
   "cell_type": "code",
   "execution_count": 5,
   "metadata": {},
   "outputs": [],
   "source": [
    "net = nn.Sequential()\n",
    "net.add()"
   ]
  },
  {
   "cell_type": "code",
   "execution_count": 6,
   "metadata": {},
   "outputs": [],
   "source": [
    "def resnet_block(num_channels, num_residuals, first_block=False):\n",
    "    blk = nn.Sequential()\n",
    "    for i in range(num_residuals):\n",
    "        if i == 0 and not first_block:\n",
    "            blk.add(Residual(num_channels, use_1x1conv=True, strides=2))\n",
    "        else:\n",
    "            blk.add(Residual(num_channels))\n",
    "    return blk"
   ]
  },
  {
   "cell_type": "code",
   "execution_count": 7,
   "metadata": {},
   "outputs": [],
   "source": [
    "net.add(resnet_block(64, 2, first_block=True), resnet_block(128, 2),\n",
    "        resnet_block(256, 2), resnet_block(512, 2))"
   ]
  },
  {
   "cell_type": "code",
   "execution_count": 8,
   "metadata": {},
   "outputs": [],
   "source": [
    "net.add(nn.GlobalAvgPool2D(), nn.Dense(10))"
   ]
  },
  {
   "cell_type": "code",
   "execution_count": 11,
   "metadata": {},
   "outputs": [
    {
     "data": {
      "text/plain": [
       "{'0.weight': Parameter (shape=(64, 1, 7, 7), dtype=<class 'numpy.float32'>),\n",
       " '0.bias': Parameter (shape=(64,), dtype=<class 'numpy.float32'>),\n",
       " '1.gamma': Parameter (shape=(-1,), dtype=<class 'numpy.float32'>),\n",
       " '1.beta': Parameter (shape=(-1,), dtype=<class 'numpy.float32'>),\n",
       " '1.running_mean': Parameter (shape=(-1,), dtype=<class 'numpy.float32'>),\n",
       " '1.running_var': Parameter (shape=(-1,), dtype=<class 'numpy.float32'>),\n",
       " '4.0.conv1.weight': Parameter (shape=(64, -1, 3, 3), dtype=<class 'numpy.float32'>),\n",
       " '4.0.conv1.bias': Parameter (shape=(64,), dtype=<class 'numpy.float32'>),\n",
       " '4.0.conv2.weight': Parameter (shape=(64, -1, 3, 3), dtype=<class 'numpy.float32'>),\n",
       " '4.0.conv2.bias': Parameter (shape=(64,), dtype=<class 'numpy.float32'>),\n",
       " '4.0.bn1.gamma': Parameter (shape=(-1,), dtype=<class 'numpy.float32'>),\n",
       " '4.0.bn1.beta': Parameter (shape=(-1,), dtype=<class 'numpy.float32'>),\n",
       " '4.0.bn1.running_mean': Parameter (shape=(-1,), dtype=<class 'numpy.float32'>),\n",
       " '4.0.bn1.running_var': Parameter (shape=(-1,), dtype=<class 'numpy.float32'>),\n",
       " '4.0.bn2.gamma': Parameter (shape=(-1,), dtype=<class 'numpy.float32'>),\n",
       " '4.0.bn2.beta': Parameter (shape=(-1,), dtype=<class 'numpy.float32'>),\n",
       " '4.0.bn2.running_mean': Parameter (shape=(-1,), dtype=<class 'numpy.float32'>),\n",
       " '4.0.bn2.running_var': Parameter (shape=(-1,), dtype=<class 'numpy.float32'>),\n",
       " '4.1.conv1.weight': Parameter (shape=(64, -1, 3, 3), dtype=<class 'numpy.float32'>),\n",
       " '4.1.conv1.bias': Parameter (shape=(64,), dtype=<class 'numpy.float32'>),\n",
       " '4.1.conv2.weight': Parameter (shape=(64, -1, 3, 3), dtype=<class 'numpy.float32'>),\n",
       " '4.1.conv2.bias': Parameter (shape=(64,), dtype=<class 'numpy.float32'>),\n",
       " '4.1.bn1.gamma': Parameter (shape=(-1,), dtype=<class 'numpy.float32'>),\n",
       " '4.1.bn1.beta': Parameter (shape=(-1,), dtype=<class 'numpy.float32'>),\n",
       " '4.1.bn1.running_mean': Parameter (shape=(-1,), dtype=<class 'numpy.float32'>),\n",
       " '4.1.bn1.running_var': Parameter (shape=(-1,), dtype=<class 'numpy.float32'>),\n",
       " '4.1.bn2.gamma': Parameter (shape=(-1,), dtype=<class 'numpy.float32'>),\n",
       " '4.1.bn2.beta': Parameter (shape=(-1,), dtype=<class 'numpy.float32'>),\n",
       " '4.1.bn2.running_mean': Parameter (shape=(-1,), dtype=<class 'numpy.float32'>),\n",
       " '4.1.bn2.running_var': Parameter (shape=(-1,), dtype=<class 'numpy.float32'>),\n",
       " '5.0.conv1.weight': Parameter (shape=(128, -1, 3, 3), dtype=<class 'numpy.float32'>),\n",
       " '5.0.conv1.bias': Parameter (shape=(128,), dtype=<class 'numpy.float32'>),\n",
       " '5.0.conv2.weight': Parameter (shape=(128, -1, 3, 3), dtype=<class 'numpy.float32'>),\n",
       " '5.0.conv2.bias': Parameter (shape=(128,), dtype=<class 'numpy.float32'>),\n",
       " '5.0.conv3.weight': Parameter (shape=(128, -1, 1, 1), dtype=<class 'numpy.float32'>),\n",
       " '5.0.conv3.bias': Parameter (shape=(128,), dtype=<class 'numpy.float32'>),\n",
       " '5.0.bn1.gamma': Parameter (shape=(-1,), dtype=<class 'numpy.float32'>),\n",
       " '5.0.bn1.beta': Parameter (shape=(-1,), dtype=<class 'numpy.float32'>),\n",
       " '5.0.bn1.running_mean': Parameter (shape=(-1,), dtype=<class 'numpy.float32'>),\n",
       " '5.0.bn1.running_var': Parameter (shape=(-1,), dtype=<class 'numpy.float32'>),\n",
       " '5.0.bn2.gamma': Parameter (shape=(-1,), dtype=<class 'numpy.float32'>),\n",
       " '5.0.bn2.beta': Parameter (shape=(-1,), dtype=<class 'numpy.float32'>),\n",
       " '5.0.bn2.running_mean': Parameter (shape=(-1,), dtype=<class 'numpy.float32'>),\n",
       " '5.0.bn2.running_var': Parameter (shape=(-1,), dtype=<class 'numpy.float32'>),\n",
       " '5.1.conv1.weight': Parameter (shape=(128, -1, 3, 3), dtype=<class 'numpy.float32'>),\n",
       " '5.1.conv1.bias': Parameter (shape=(128,), dtype=<class 'numpy.float32'>),\n",
       " '5.1.conv2.weight': Parameter (shape=(128, -1, 3, 3), dtype=<class 'numpy.float32'>),\n",
       " '5.1.conv2.bias': Parameter (shape=(128,), dtype=<class 'numpy.float32'>),\n",
       " '5.1.bn1.gamma': Parameter (shape=(-1,), dtype=<class 'numpy.float32'>),\n",
       " '5.1.bn1.beta': Parameter (shape=(-1,), dtype=<class 'numpy.float32'>),\n",
       " '5.1.bn1.running_mean': Parameter (shape=(-1,), dtype=<class 'numpy.float32'>),\n",
       " '5.1.bn1.running_var': Parameter (shape=(-1,), dtype=<class 'numpy.float32'>),\n",
       " '5.1.bn2.gamma': Parameter (shape=(-1,), dtype=<class 'numpy.float32'>),\n",
       " '5.1.bn2.beta': Parameter (shape=(-1,), dtype=<class 'numpy.float32'>),\n",
       " '5.1.bn2.running_mean': Parameter (shape=(-1,), dtype=<class 'numpy.float32'>),\n",
       " '5.1.bn2.running_var': Parameter (shape=(-1,), dtype=<class 'numpy.float32'>),\n",
       " '6.0.conv1.weight': Parameter (shape=(256, -1, 3, 3), dtype=<class 'numpy.float32'>),\n",
       " '6.0.conv1.bias': Parameter (shape=(256,), dtype=<class 'numpy.float32'>),\n",
       " '6.0.conv2.weight': Parameter (shape=(256, -1, 3, 3), dtype=<class 'numpy.float32'>),\n",
       " '6.0.conv2.bias': Parameter (shape=(256,), dtype=<class 'numpy.float32'>),\n",
       " '6.0.conv3.weight': Parameter (shape=(256, -1, 1, 1), dtype=<class 'numpy.float32'>),\n",
       " '6.0.conv3.bias': Parameter (shape=(256,), dtype=<class 'numpy.float32'>),\n",
       " '6.0.bn1.gamma': Parameter (shape=(-1,), dtype=<class 'numpy.float32'>),\n",
       " '6.0.bn1.beta': Parameter (shape=(-1,), dtype=<class 'numpy.float32'>),\n",
       " '6.0.bn1.running_mean': Parameter (shape=(-1,), dtype=<class 'numpy.float32'>),\n",
       " '6.0.bn1.running_var': Parameter (shape=(-1,), dtype=<class 'numpy.float32'>),\n",
       " '6.0.bn2.gamma': Parameter (shape=(-1,), dtype=<class 'numpy.float32'>),\n",
       " '6.0.bn2.beta': Parameter (shape=(-1,), dtype=<class 'numpy.float32'>),\n",
       " '6.0.bn2.running_mean': Parameter (shape=(-1,), dtype=<class 'numpy.float32'>),\n",
       " '6.0.bn2.running_var': Parameter (shape=(-1,), dtype=<class 'numpy.float32'>),\n",
       " '6.1.conv1.weight': Parameter (shape=(256, -1, 3, 3), dtype=<class 'numpy.float32'>),\n",
       " '6.1.conv1.bias': Parameter (shape=(256,), dtype=<class 'numpy.float32'>),\n",
       " '6.1.conv2.weight': Parameter (shape=(256, -1, 3, 3), dtype=<class 'numpy.float32'>),\n",
       " '6.1.conv2.bias': Parameter (shape=(256,), dtype=<class 'numpy.float32'>),\n",
       " '6.1.bn1.gamma': Parameter (shape=(-1,), dtype=<class 'numpy.float32'>),\n",
       " '6.1.bn1.beta': Parameter (shape=(-1,), dtype=<class 'numpy.float32'>),\n",
       " '6.1.bn1.running_mean': Parameter (shape=(-1,), dtype=<class 'numpy.float32'>),\n",
       " '6.1.bn1.running_var': Parameter (shape=(-1,), dtype=<class 'numpy.float32'>),\n",
       " '6.1.bn2.gamma': Parameter (shape=(-1,), dtype=<class 'numpy.float32'>),\n",
       " '6.1.bn2.beta': Parameter (shape=(-1,), dtype=<class 'numpy.float32'>),\n",
       " '6.1.bn2.running_mean': Parameter (shape=(-1,), dtype=<class 'numpy.float32'>),\n",
       " '6.1.bn2.running_var': Parameter (shape=(-1,), dtype=<class 'numpy.float32'>),\n",
       " '7.0.conv1.weight': Parameter (shape=(512, -1, 3, 3), dtype=<class 'numpy.float32'>),\n",
       " '7.0.conv1.bias': Parameter (shape=(512,), dtype=<class 'numpy.float32'>),\n",
       " '7.0.conv2.weight': Parameter (shape=(512, -1, 3, 3), dtype=<class 'numpy.float32'>),\n",
       " '7.0.conv2.bias': Parameter (shape=(512,), dtype=<class 'numpy.float32'>),\n",
       " '7.0.conv3.weight': Parameter (shape=(512, -1, 1, 1), dtype=<class 'numpy.float32'>),\n",
       " '7.0.conv3.bias': Parameter (shape=(512,), dtype=<class 'numpy.float32'>),\n",
       " '7.0.bn1.gamma': Parameter (shape=(-1,), dtype=<class 'numpy.float32'>),\n",
       " '7.0.bn1.beta': Parameter (shape=(-1,), dtype=<class 'numpy.float32'>),\n",
       " '7.0.bn1.running_mean': Parameter (shape=(-1,), dtype=<class 'numpy.float32'>),\n",
       " '7.0.bn1.running_var': Parameter (shape=(-1,), dtype=<class 'numpy.float32'>),\n",
       " '7.0.bn2.gamma': Parameter (shape=(-1,), dtype=<class 'numpy.float32'>),\n",
       " '7.0.bn2.beta': Parameter (shape=(-1,), dtype=<class 'numpy.float32'>),\n",
       " '7.0.bn2.running_mean': Parameter (shape=(-1,), dtype=<class 'numpy.float32'>),\n",
       " '7.0.bn2.running_var': Parameter (shape=(-1,), dtype=<class 'numpy.float32'>),\n",
       " '7.1.conv1.weight': Parameter (shape=(512, -1, 3, 3), dtype=<class 'numpy.float32'>),\n",
       " '7.1.conv1.bias': Parameter (shape=(512,), dtype=<class 'numpy.float32'>),\n",
       " '7.1.conv2.weight': Parameter (shape=(512, -1, 3, 3), dtype=<class 'numpy.float32'>),\n",
       " '7.1.conv2.bias': Parameter (shape=(512,), dtype=<class 'numpy.float32'>),\n",
       " '7.1.bn1.gamma': Parameter (shape=(-1,), dtype=<class 'numpy.float32'>),\n",
       " '7.1.bn1.beta': Parameter (shape=(-1,), dtype=<class 'numpy.float32'>),\n",
       " '7.1.bn1.running_mean': Parameter (shape=(-1,), dtype=<class 'numpy.float32'>),\n",
       " '7.1.bn1.running_var': Parameter (shape=(-1,), dtype=<class 'numpy.float32'>),\n",
       " '7.1.bn2.gamma': Parameter (shape=(-1,), dtype=<class 'numpy.float32'>),\n",
       " '7.1.bn2.beta': Parameter (shape=(-1,), dtype=<class 'numpy.float32'>),\n",
       " '7.1.bn2.running_mean': Parameter (shape=(-1,), dtype=<class 'numpy.float32'>),\n",
       " '7.1.bn2.running_var': Parameter (shape=(-1,), dtype=<class 'numpy.float32'>),\n",
       " '9.weight': Parameter (shape=(10, -1), dtype=float32),\n",
       " '9.bias': Parameter (shape=(10,), dtype=float32)}"
      ]
     },
     "execution_count": 11,
     "metadata": {},
     "output_type": "execute_result"
    }
   ],
   "source": [
    "net.collect_params()"
   ]
  },
  {
   "cell_type": "code",
   "execution_count": 10,
   "metadata": {},
   "outputs": [
    {
     "name": "stderr",
     "output_type": "stream",
     "text": [
      "/home/sergio/code/mxnet/python/mxnet/gluon/block.py:575: UserWarning: Parameter 'weight' is already initialized, ignoring. Set force_reinit=True to re-initialize.\n",
      "  v.initialize(None, ctx, init, force_reinit=force_reinit)\n",
      "/home/sergio/code/mxnet/python/mxnet/gluon/block.py:575: UserWarning: Parameter 'bias' is already initialized, ignoring. Set force_reinit=True to re-initialize.\n",
      "  v.initialize(None, ctx, init, force_reinit=force_reinit)\n"
     ]
    },
    {
     "ename": "TypeError",
     "evalue": "convolution() got an unexpected keyword argument 'name'",
     "output_type": "error",
     "traceback": [
      "\u001b[0;31m---------------------------------------------------------------------------\u001b[0m",
      "\u001b[0;31mTypeError\u001b[0m                                 Traceback (most recent call last)",
      "\u001b[0;32m<ipython-input-10-6644afd998aa>\u001b[0m in \u001b[0;36m<module>\u001b[0;34m\u001b[0m\n\u001b[1;32m      2\u001b[0m \u001b[0mnet\u001b[0m\u001b[0;34m.\u001b[0m\u001b[0minitialize\u001b[0m\u001b[0;34m(\u001b[0m\u001b[0;34m)\u001b[0m\u001b[0;34m\u001b[0m\u001b[0;34m\u001b[0m\u001b[0m\n\u001b[1;32m      3\u001b[0m \u001b[0;32mfor\u001b[0m \u001b[0mlayer\u001b[0m \u001b[0;32min\u001b[0m \u001b[0mnet\u001b[0m\u001b[0;34m:\u001b[0m\u001b[0;34m\u001b[0m\u001b[0;34m\u001b[0m\u001b[0m\n\u001b[0;32m----> 4\u001b[0;31m     \u001b[0mX\u001b[0m \u001b[0;34m=\u001b[0m \u001b[0mlayer\u001b[0m\u001b[0;34m(\u001b[0m\u001b[0mX\u001b[0m\u001b[0;34m)\u001b[0m\u001b[0;34m\u001b[0m\u001b[0;34m\u001b[0m\u001b[0m\n\u001b[0m\u001b[1;32m      5\u001b[0m     \u001b[0;31m#print(layer.name, 'output shape:\\t', X.shape)\u001b[0m\u001b[0;34m\u001b[0m\u001b[0;34m\u001b[0m\u001b[0;34m\u001b[0m\u001b[0m\n",
      "\u001b[0;32m~/code/mxnet/python/mxnet/gluon/block.py\u001b[0m in \u001b[0;36m__call__\u001b[0;34m(self, x, *args)\u001b[0m\n\u001b[1;32m   1621\u001b[0m         \u001b[0;32mif\u001b[0m \u001b[0;32mnot\u001b[0m \u001b[0mself\u001b[0m\u001b[0;34m.\u001b[0m\u001b[0m_v2\u001b[0m\u001b[0;34m:\u001b[0m\u001b[0;34m\u001b[0m\u001b[0;34m\u001b[0m\u001b[0m\n\u001b[1;32m   1622\u001b[0m             \u001b[0;31m# Gluon 1 based on F:  hybrid_forward is defined by user\u001b[0m\u001b[0;34m\u001b[0m\u001b[0;34m\u001b[0m\u001b[0;34m\u001b[0m\u001b[0m\n\u001b[0;32m-> 1623\u001b[0;31m             \u001b[0;32mreturn\u001b[0m \u001b[0msuper\u001b[0m\u001b[0;34m(\u001b[0m\u001b[0;34m)\u001b[0m\u001b[0;34m.\u001b[0m\u001b[0m__call__\u001b[0m\u001b[0;34m(\u001b[0m\u001b[0mx\u001b[0m\u001b[0;34m,\u001b[0m \u001b[0;34m*\u001b[0m\u001b[0margs\u001b[0m\u001b[0;34m)\u001b[0m\u001b[0;34m\u001b[0m\u001b[0;34m\u001b[0m\u001b[0m\n\u001b[0m\u001b[1;32m   1624\u001b[0m         \u001b[0;32melse\u001b[0m\u001b[0;34m:\u001b[0m  \u001b[0;31m# Gluon 2 based on deferred compute mode\u001b[0m\u001b[0;34m\u001b[0m\u001b[0;34m\u001b[0m\u001b[0m\n\u001b[1;32m   1625\u001b[0m             assert self.forward is not HybridBlock.forward, (\n",
      "\u001b[0;32m~/code/mxnet/python/mxnet/gluon/block.py\u001b[0m in \u001b[0;36m__call__\u001b[0;34m(self, *args)\u001b[0m\n\u001b[1;32m    847\u001b[0m             \u001b[0mhook\u001b[0m\u001b[0;34m(\u001b[0m\u001b[0mself\u001b[0m\u001b[0;34m,\u001b[0m \u001b[0margs\u001b[0m\u001b[0;34m)\u001b[0m\u001b[0;34m\u001b[0m\u001b[0;34m\u001b[0m\u001b[0m\n\u001b[1;32m    848\u001b[0m \u001b[0;34m\u001b[0m\u001b[0m\n\u001b[0;32m--> 849\u001b[0;31m         \u001b[0mout\u001b[0m \u001b[0;34m=\u001b[0m \u001b[0mself\u001b[0m\u001b[0;34m.\u001b[0m\u001b[0mforward\u001b[0m\u001b[0;34m(\u001b[0m\u001b[0;34m*\u001b[0m\u001b[0margs\u001b[0m\u001b[0;34m)\u001b[0m\u001b[0;34m\u001b[0m\u001b[0;34m\u001b[0m\u001b[0m\n\u001b[0m\u001b[1;32m    850\u001b[0m \u001b[0;34m\u001b[0m\u001b[0m\n\u001b[1;32m    851\u001b[0m         \u001b[0;32mfor\u001b[0m \u001b[0mhook\u001b[0m \u001b[0;32min\u001b[0m \u001b[0mself\u001b[0m\u001b[0;34m.\u001b[0m\u001b[0m_forward_hooks\u001b[0m\u001b[0;34m.\u001b[0m\u001b[0mvalues\u001b[0m\u001b[0;34m(\u001b[0m\u001b[0;34m)\u001b[0m\u001b[0;34m:\u001b[0m\u001b[0;34m\u001b[0m\u001b[0;34m\u001b[0m\u001b[0m\n",
      "\u001b[0;32m~/code/mxnet/python/mxnet/gluon/block.py\u001b[0m in \u001b[0;36mforward\u001b[0;34m(self, x, *args)\u001b[0m\n\u001b[1;32m   1677\u001b[0m                     \u001b[0mparams\u001b[0m \u001b[0;34m=\u001b[0m \u001b[0;34m{\u001b[0m\u001b[0mk\u001b[0m\u001b[0;34m:\u001b[0m \u001b[0mv\u001b[0m\u001b[0;34m.\u001b[0m\u001b[0mdata\u001b[0m\u001b[0;34m(\u001b[0m\u001b[0mctx\u001b[0m\u001b[0;34m)\u001b[0m \u001b[0;32mfor\u001b[0m \u001b[0mk\u001b[0m\u001b[0;34m,\u001b[0m \u001b[0mv\u001b[0m \u001b[0;32min\u001b[0m \u001b[0mself\u001b[0m\u001b[0;34m.\u001b[0m\u001b[0m_reg_params\u001b[0m\u001b[0;34m.\u001b[0m\u001b[0mitems\u001b[0m\u001b[0;34m(\u001b[0m\u001b[0;34m)\u001b[0m\u001b[0;34m}\u001b[0m\u001b[0;34m\u001b[0m\u001b[0;34m\u001b[0m\u001b[0m\n\u001b[1;32m   1678\u001b[0m \u001b[0;34m\u001b[0m\u001b[0m\n\u001b[0;32m-> 1679\u001b[0;31m                 \u001b[0;32mreturn\u001b[0m \u001b[0mself\u001b[0m\u001b[0;34m.\u001b[0m\u001b[0mhybrid_forward\u001b[0m\u001b[0;34m(\u001b[0m\u001b[0mndarray\u001b[0m\u001b[0;34m,\u001b[0m \u001b[0mx\u001b[0m\u001b[0;34m,\u001b[0m \u001b[0;34m*\u001b[0m\u001b[0margs\u001b[0m\u001b[0;34m,\u001b[0m \u001b[0;34m**\u001b[0m\u001b[0mparams\u001b[0m\u001b[0;34m)\u001b[0m\u001b[0;34m\u001b[0m\u001b[0;34m\u001b[0m\u001b[0m\n\u001b[0m\u001b[1;32m   1680\u001b[0m \u001b[0;34m\u001b[0m\u001b[0m\n\u001b[1;32m   1681\u001b[0m         \u001b[0;32mwith\u001b[0m \u001b[0m_block_scope\u001b[0m\u001b[0;34m(\u001b[0m\u001b[0mself\u001b[0m\u001b[0;34m)\u001b[0m\u001b[0;34m:\u001b[0m\u001b[0;34m\u001b[0m\u001b[0;34m\u001b[0m\u001b[0m\n",
      "\u001b[0;32m~/code/mxnet/python/mxnet/gluon/nn/conv_layers.py\u001b[0m in \u001b[0;36mhybrid_forward\u001b[0;34m(self, F, x, weight, bias)\u001b[0m\n\u001b[1;32m    146\u001b[0m             \u001b[0mact\u001b[0m \u001b[0;34m=\u001b[0m \u001b[0mgetattr\u001b[0m\u001b[0;34m(\u001b[0m\u001b[0mF\u001b[0m\u001b[0;34m,\u001b[0m \u001b[0mself\u001b[0m\u001b[0;34m.\u001b[0m\u001b[0m_op_name\u001b[0m\u001b[0;34m)\u001b[0m\u001b[0;34m(\u001b[0m\u001b[0mx\u001b[0m\u001b[0;34m,\u001b[0m \u001b[0mweight\u001b[0m\u001b[0;34m,\u001b[0m \u001b[0mname\u001b[0m\u001b[0;34m=\u001b[0m\u001b[0;34m'fwd'\u001b[0m\u001b[0;34m,\u001b[0m \u001b[0;34m**\u001b[0m\u001b[0mself\u001b[0m\u001b[0;34m.\u001b[0m\u001b[0m_kwargs\u001b[0m\u001b[0;34m)\u001b[0m\u001b[0;34m\u001b[0m\u001b[0;34m\u001b[0m\u001b[0m\n\u001b[1;32m    147\u001b[0m         \u001b[0;32melse\u001b[0m\u001b[0;34m:\u001b[0m\u001b[0;34m\u001b[0m\u001b[0;34m\u001b[0m\u001b[0m\n\u001b[0;32m--> 148\u001b[0;31m             \u001b[0mact\u001b[0m \u001b[0;34m=\u001b[0m \u001b[0mgetattr\u001b[0m\u001b[0;34m(\u001b[0m\u001b[0mF\u001b[0m\u001b[0;34m,\u001b[0m \u001b[0mself\u001b[0m\u001b[0;34m.\u001b[0m\u001b[0m_op_name\u001b[0m\u001b[0;34m)\u001b[0m\u001b[0;34m(\u001b[0m\u001b[0mx\u001b[0m\u001b[0;34m,\u001b[0m \u001b[0mweight\u001b[0m\u001b[0;34m,\u001b[0m \u001b[0mbias\u001b[0m\u001b[0;34m,\u001b[0m \u001b[0mname\u001b[0m\u001b[0;34m=\u001b[0m\u001b[0;34m'fwd'\u001b[0m\u001b[0;34m,\u001b[0m \u001b[0;34m**\u001b[0m\u001b[0mself\u001b[0m\u001b[0;34m.\u001b[0m\u001b[0m_kwargs\u001b[0m\u001b[0;34m)\u001b[0m\u001b[0;34m\u001b[0m\u001b[0;34m\u001b[0m\u001b[0m\n\u001b[0m\u001b[1;32m    149\u001b[0m         \u001b[0;32mif\u001b[0m \u001b[0mself\u001b[0m\u001b[0;34m.\u001b[0m\u001b[0mact\u001b[0m \u001b[0;32mis\u001b[0m \u001b[0;32mnot\u001b[0m \u001b[0;32mNone\u001b[0m\u001b[0;34m:\u001b[0m\u001b[0;34m\u001b[0m\u001b[0;34m\u001b[0m\u001b[0m\n\u001b[1;32m    150\u001b[0m             \u001b[0mact\u001b[0m \u001b[0;34m=\u001b[0m \u001b[0mself\u001b[0m\u001b[0;34m.\u001b[0m\u001b[0mact\u001b[0m\u001b[0;34m(\u001b[0m\u001b[0mact\u001b[0m\u001b[0;34m)\u001b[0m\u001b[0;34m\u001b[0m\u001b[0;34m\u001b[0m\u001b[0m\n",
      "\u001b[0;31mTypeError\u001b[0m: convolution() got an unexpected keyword argument 'name'"
     ]
    }
   ],
   "source": [
    "X = np.random.uniform(size=(1, 1, 224, 224))\n",
    "net.initialize()\n",
    "for layer in net:\n",
    "    X = layer(X)\n",
    "    #print(layer.name, 'output shape:\\t', X.shape)"
   ]
  },
  {
   "cell_type": "code",
   "execution_count": null,
   "metadata": {},
   "outputs": [],
   "source": []
  }
 ],
 "metadata": {
  "kernelspec": {
   "display_name": "Python 3",
   "language": "python",
   "name": "python3"
  },
  "language_info": {
   "codemirror_mode": {
    "name": "ipython",
    "version": 3
   },
   "file_extension": ".py",
   "mimetype": "text/x-python",
   "name": "python",
   "nbconvert_exporter": "python",
   "pygments_lexer": "ipython3",
   "version": "3.8.10"
  }
 },
 "nbformat": 4,
 "nbformat_minor": 4
}
